{
  "nbformat": 4,
  "nbformat_minor": 0,
  "metadata": {
    "colab": {
      "provenance": [],
      "toc_visible": true
    },
    "kernelspec": {
      "name": "python3",
      "display_name": "Python 3"
    },
    "language_info": {
      "name": "python"
    }
  },
  "cells": [
    {
      "cell_type": "code",
      "execution_count": null,
      "metadata": {
        "id": "lCZbP2eZdg_7"
      },
      "outputs": [],
      "source": [
        "import pandas as pd\n",
        "import seaborn as sns\n",
        "from matplotlib import pyplot as plt\n",
        "from sklearn.tree import DecisionTreeClassifier\n",
        "from sklearn.metrics import accuracy_score, confusion_matrix, classification_report\n",
        "from sklearn.preprocessing import LabelEncoder\n",
        "from sklearn.ensemble import RandomForestClassifier, GradientBoostingClassifier\n",
        "from sklearn.neighbors import KNeighborsClassifier\n",
        "from sklearn.svm import SVC\n",
        "from xgboost import XGBClassifier\n",
        "from sklearn.linear_model import LogisticRegression, RidgeClassifier, Lasso\n",
        "from sklearn.model_selection import train_test_split"
      ]
    },
    {
      "cell_type": "markdown",
      "source": [
        "# Prepare data"
      ],
      "metadata": {
        "id": "M6dDVTRf6S0O"
      }
    },
    {
      "cell_type": "code",
      "source": [
        "flights = pd.read_excel(\"/content/drive/MyDrive/Kho dữ liệu và OLAP/US_flights_2023_500k.xlsx\")\n",
        "# flights = flights.head(50000)"
      ],
      "metadata": {
        "id": "QCCTMGAY6dgk"
      },
      "execution_count": null,
      "outputs": []
    },
    {
      "cell_type": "code",
      "source": [
        "dep_airports = pd.read_excel(\"/content/drive/MyDrive/Kho dữ liệu và OLAP/airports_geolocation.xlsx\")\n",
        "arr_airports = pd.read_excel(\"/content/drive/MyDrive/Kho dữ liệu và OLAP/airports_geolocation.xlsx\")"
      ],
      "metadata": {
        "id": "G_09xE4O5pma"
      },
      "execution_count": null,
      "outputs": []
    },
    {
      "cell_type": "code",
      "source": [
        "weather = pd.read_excel(\"/content/drive/MyDrive/Kho dữ liệu và OLAP/weather_meteo_by_airport.xlsx\")"
      ],
      "metadata": {
        "id": "3JAui42G5uH-"
      },
      "execution_count": null,
      "outputs": []
    },
    {
      "cell_type": "code",
      "source": [
        "flights.columns"
      ],
      "metadata": {
        "colab": {
          "base_uri": "https://localhost:8080/"
        },
        "id": "Zr5EdQkh3Ryi",
        "outputId": "0ac864ef-934d-485c-b2f9-e424de666af3"
      },
      "execution_count": null,
      "outputs": [
        {
          "output_type": "execute_result",
          "data": {
            "text/plain": [
              "Index(['FlightDate', 'Day_Of_Week', 'Airline', 'Tail_Number', 'Dep_Airport',\n",
              "       'Dep_CityName', 'DepTime_label', 'Dep_Delay', 'Dep_Delay_Tag',\n",
              "       'Dep_Delay_Type', 'Arr_Airport', 'Arr_CityName', 'Arr_Delay',\n",
              "       'Arr_Delay_Type', 'Flight_Duration', 'Distance_type', 'Delay_Carrier',\n",
              "       'Delay_Weather', 'Delay_NAS', 'Delay_Security', 'Delay_LastAircraft',\n",
              "       'Manufacturer', 'Model', 'Aicraft_age'],\n",
              "      dtype='object')"
            ]
          },
          "metadata": {},
          "execution_count": 5
        }
      ]
    },
    {
      "cell_type": "code",
      "source": [
        "dep_airports.columns"
      ],
      "metadata": {
        "colab": {
          "base_uri": "https://localhost:8080/"
        },
        "id": "6yTm6Tf13ZaF",
        "outputId": "50ac1acd-0bca-40a0-e006-c687b60890b4"
      },
      "execution_count": null,
      "outputs": [
        {
          "output_type": "execute_result",
          "data": {
            "text/plain": [
              "Index(['IATA_CODE', 'AIRPORT', 'CITY', 'STATE', 'COUNTRY', 'LATITUDE',\n",
              "       'LONGITUDE'],\n",
              "      dtype='object')"
            ]
          },
          "metadata": {},
          "execution_count": 6
        }
      ]
    },
    {
      "cell_type": "code",
      "source": [
        "sorted_df = flights.sort_values(by=['Dep_Airport', 'Arr_Airport'])\n",
        "sorted_df[['Dep_Airport', 'Arr_Airport', 'Distance_type']]"
      ],
      "metadata": {
        "colab": {
          "base_uri": "https://localhost:8080/",
          "height": 440
        },
        "id": "rCUGHvk_7Mrc",
        "outputId": "a85ead69-0fcc-43d5-b82e-2f4837cd9730"
      },
      "execution_count": null,
      "outputs": [
        {
          "output_type": "execute_result",
          "data": {
            "text/plain": [
              "       Dep_Airport Arr_Airport       Distance_type\n",
              "11539          ABE         ATL  Short Haul >1500Mi\n",
              "28688          ABE         ATL  Short Haul >1500Mi\n",
              "30661          ABE         ATL  Short Haul >1500Mi\n",
              "32758          ABE         ATL  Short Haul >1500Mi\n",
              "33549          ABE         ATL  Short Haul >1500Mi\n",
              "...            ...         ...                 ...\n",
              "465551         YUM         PHX  Short Haul >1500Mi\n",
              "467363         YUM         PHX  Short Haul >1500Mi\n",
              "473294         YUM         PHX  Short Haul >1500Mi\n",
              "476324         YUM         PHX  Short Haul >1500Mi\n",
              "481804         YUM         PHX  Short Haul >1500Mi\n",
              "\n",
              "[500000 rows x 3 columns]"
            ],
            "text/html": [
              "\n",
              "  <div id=\"df-a7258a19-c553-46f8-ab0f-c24efc6aa23f\" class=\"colab-df-container\">\n",
              "    <div>\n",
              "<style scoped>\n",
              "    .dataframe tbody tr th:only-of-type {\n",
              "        vertical-align: middle;\n",
              "    }\n",
              "\n",
              "    .dataframe tbody tr th {\n",
              "        vertical-align: top;\n",
              "    }\n",
              "\n",
              "    .dataframe thead th {\n",
              "        text-align: right;\n",
              "    }\n",
              "</style>\n",
              "<table border=\"1\" class=\"dataframe\">\n",
              "  <thead>\n",
              "    <tr style=\"text-align: right;\">\n",
              "      <th></th>\n",
              "      <th>Dep_Airport</th>\n",
              "      <th>Arr_Airport</th>\n",
              "      <th>Distance_type</th>\n",
              "    </tr>\n",
              "  </thead>\n",
              "  <tbody>\n",
              "    <tr>\n",
              "      <th>11539</th>\n",
              "      <td>ABE</td>\n",
              "      <td>ATL</td>\n",
              "      <td>Short Haul &gt;1500Mi</td>\n",
              "    </tr>\n",
              "    <tr>\n",
              "      <th>28688</th>\n",
              "      <td>ABE</td>\n",
              "      <td>ATL</td>\n",
              "      <td>Short Haul &gt;1500Mi</td>\n",
              "    </tr>\n",
              "    <tr>\n",
              "      <th>30661</th>\n",
              "      <td>ABE</td>\n",
              "      <td>ATL</td>\n",
              "      <td>Short Haul &gt;1500Mi</td>\n",
              "    </tr>\n",
              "    <tr>\n",
              "      <th>32758</th>\n",
              "      <td>ABE</td>\n",
              "      <td>ATL</td>\n",
              "      <td>Short Haul &gt;1500Mi</td>\n",
              "    </tr>\n",
              "    <tr>\n",
              "      <th>33549</th>\n",
              "      <td>ABE</td>\n",
              "      <td>ATL</td>\n",
              "      <td>Short Haul &gt;1500Mi</td>\n",
              "    </tr>\n",
              "    <tr>\n",
              "      <th>...</th>\n",
              "      <td>...</td>\n",
              "      <td>...</td>\n",
              "      <td>...</td>\n",
              "    </tr>\n",
              "    <tr>\n",
              "      <th>465551</th>\n",
              "      <td>YUM</td>\n",
              "      <td>PHX</td>\n",
              "      <td>Short Haul &gt;1500Mi</td>\n",
              "    </tr>\n",
              "    <tr>\n",
              "      <th>467363</th>\n",
              "      <td>YUM</td>\n",
              "      <td>PHX</td>\n",
              "      <td>Short Haul &gt;1500Mi</td>\n",
              "    </tr>\n",
              "    <tr>\n",
              "      <th>473294</th>\n",
              "      <td>YUM</td>\n",
              "      <td>PHX</td>\n",
              "      <td>Short Haul &gt;1500Mi</td>\n",
              "    </tr>\n",
              "    <tr>\n",
              "      <th>476324</th>\n",
              "      <td>YUM</td>\n",
              "      <td>PHX</td>\n",
              "      <td>Short Haul &gt;1500Mi</td>\n",
              "    </tr>\n",
              "    <tr>\n",
              "      <th>481804</th>\n",
              "      <td>YUM</td>\n",
              "      <td>PHX</td>\n",
              "      <td>Short Haul &gt;1500Mi</td>\n",
              "    </tr>\n",
              "  </tbody>\n",
              "</table>\n",
              "<p>500000 rows × 3 columns</p>\n",
              "</div>\n",
              "    <div class=\"colab-df-buttons\">\n",
              "\n",
              "  <div class=\"colab-df-container\">\n",
              "    <button class=\"colab-df-convert\" onclick=\"convertToInteractive('df-a7258a19-c553-46f8-ab0f-c24efc6aa23f')\"\n",
              "            title=\"Convert this dataframe to an interactive table.\"\n",
              "            style=\"display:none;\">\n",
              "\n",
              "  <svg xmlns=\"http://www.w3.org/2000/svg\" height=\"24px\" viewBox=\"0 -960 960 960\">\n",
              "    <path d=\"M120-120v-720h720v720H120Zm60-500h600v-160H180v160Zm220 220h160v-160H400v160Zm0 220h160v-160H400v160ZM180-400h160v-160H180v160Zm440 0h160v-160H620v160ZM180-180h160v-160H180v160Zm440 0h160v-160H620v160Z\"/>\n",
              "  </svg>\n",
              "    </button>\n",
              "\n",
              "  <style>\n",
              "    .colab-df-container {\n",
              "      display:flex;\n",
              "      gap: 12px;\n",
              "    }\n",
              "\n",
              "    .colab-df-convert {\n",
              "      background-color: #E8F0FE;\n",
              "      border: none;\n",
              "      border-radius: 50%;\n",
              "      cursor: pointer;\n",
              "      display: none;\n",
              "      fill: #1967D2;\n",
              "      height: 32px;\n",
              "      padding: 0 0 0 0;\n",
              "      width: 32px;\n",
              "    }\n",
              "\n",
              "    .colab-df-convert:hover {\n",
              "      background-color: #E2EBFA;\n",
              "      box-shadow: 0px 1px 2px rgba(60, 64, 67, 0.3), 0px 1px 3px 1px rgba(60, 64, 67, 0.15);\n",
              "      fill: #174EA6;\n",
              "    }\n",
              "\n",
              "    .colab-df-buttons div {\n",
              "      margin-bottom: 4px;\n",
              "    }\n",
              "\n",
              "    [theme=dark] .colab-df-convert {\n",
              "      background-color: #3B4455;\n",
              "      fill: #D2E3FC;\n",
              "    }\n",
              "\n",
              "    [theme=dark] .colab-df-convert:hover {\n",
              "      background-color: #434B5C;\n",
              "      box-shadow: 0px 1px 3px 1px rgba(0, 0, 0, 0.15);\n",
              "      filter: drop-shadow(0px 1px 2px rgba(0, 0, 0, 0.3));\n",
              "      fill: #FFFFFF;\n",
              "    }\n",
              "  </style>\n",
              "\n",
              "    <script>\n",
              "      const buttonEl =\n",
              "        document.querySelector('#df-a7258a19-c553-46f8-ab0f-c24efc6aa23f button.colab-df-convert');\n",
              "      buttonEl.style.display =\n",
              "        google.colab.kernel.accessAllowed ? 'block' : 'none';\n",
              "\n",
              "      async function convertToInteractive(key) {\n",
              "        const element = document.querySelector('#df-a7258a19-c553-46f8-ab0f-c24efc6aa23f');\n",
              "        const dataTable =\n",
              "          await google.colab.kernel.invokeFunction('convertToInteractive',\n",
              "                                                    [key], {});\n",
              "        if (!dataTable) return;\n",
              "\n",
              "        const docLinkHtml = 'Like what you see? Visit the ' +\n",
              "          '<a target=\"_blank\" href=https://colab.research.google.com/notebooks/data_table.ipynb>data table notebook</a>'\n",
              "          + ' to learn more about interactive tables.';\n",
              "        element.innerHTML = '';\n",
              "        dataTable['output_type'] = 'display_data';\n",
              "        await google.colab.output.renderOutput(dataTable, element);\n",
              "        const docLink = document.createElement('div');\n",
              "        docLink.innerHTML = docLinkHtml;\n",
              "        element.appendChild(docLink);\n",
              "      }\n",
              "    </script>\n",
              "  </div>\n",
              "\n",
              "\n",
              "<div id=\"df-eafc88e2-46a2-4c24-9fac-1623f9b1cc6d\">\n",
              "  <button class=\"colab-df-quickchart\" onclick=\"quickchart('df-eafc88e2-46a2-4c24-9fac-1623f9b1cc6d')\"\n",
              "            title=\"Suggest charts\"\n",
              "            style=\"display:none;\">\n",
              "\n",
              "<svg xmlns=\"http://www.w3.org/2000/svg\" height=\"24px\"viewBox=\"0 0 24 24\"\n",
              "     width=\"24px\">\n",
              "    <g>\n",
              "        <path d=\"M19 3H5c-1.1 0-2 .9-2 2v14c0 1.1.9 2 2 2h14c1.1 0 2-.9 2-2V5c0-1.1-.9-2-2-2zM9 17H7v-7h2v7zm4 0h-2V7h2v10zm4 0h-2v-4h2v4z\"/>\n",
              "    </g>\n",
              "</svg>\n",
              "  </button>\n",
              "\n",
              "<style>\n",
              "  .colab-df-quickchart {\n",
              "      --bg-color: #E8F0FE;\n",
              "      --fill-color: #1967D2;\n",
              "      --hover-bg-color: #E2EBFA;\n",
              "      --hover-fill-color: #174EA6;\n",
              "      --disabled-fill-color: #AAA;\n",
              "      --disabled-bg-color: #DDD;\n",
              "  }\n",
              "\n",
              "  [theme=dark] .colab-df-quickchart {\n",
              "      --bg-color: #3B4455;\n",
              "      --fill-color: #D2E3FC;\n",
              "      --hover-bg-color: #434B5C;\n",
              "      --hover-fill-color: #FFFFFF;\n",
              "      --disabled-bg-color: #3B4455;\n",
              "      --disabled-fill-color: #666;\n",
              "  }\n",
              "\n",
              "  .colab-df-quickchart {\n",
              "    background-color: var(--bg-color);\n",
              "    border: none;\n",
              "    border-radius: 50%;\n",
              "    cursor: pointer;\n",
              "    display: none;\n",
              "    fill: var(--fill-color);\n",
              "    height: 32px;\n",
              "    padding: 0;\n",
              "    width: 32px;\n",
              "  }\n",
              "\n",
              "  .colab-df-quickchart:hover {\n",
              "    background-color: var(--hover-bg-color);\n",
              "    box-shadow: 0 1px 2px rgba(60, 64, 67, 0.3), 0 1px 3px 1px rgba(60, 64, 67, 0.15);\n",
              "    fill: var(--button-hover-fill-color);\n",
              "  }\n",
              "\n",
              "  .colab-df-quickchart-complete:disabled,\n",
              "  .colab-df-quickchart-complete:disabled:hover {\n",
              "    background-color: var(--disabled-bg-color);\n",
              "    fill: var(--disabled-fill-color);\n",
              "    box-shadow: none;\n",
              "  }\n",
              "\n",
              "  .colab-df-spinner {\n",
              "    border: 2px solid var(--fill-color);\n",
              "    border-color: transparent;\n",
              "    border-bottom-color: var(--fill-color);\n",
              "    animation:\n",
              "      spin 1s steps(1) infinite;\n",
              "  }\n",
              "\n",
              "  @keyframes spin {\n",
              "    0% {\n",
              "      border-color: transparent;\n",
              "      border-bottom-color: var(--fill-color);\n",
              "      border-left-color: var(--fill-color);\n",
              "    }\n",
              "    20% {\n",
              "      border-color: transparent;\n",
              "      border-left-color: var(--fill-color);\n",
              "      border-top-color: var(--fill-color);\n",
              "    }\n",
              "    30% {\n",
              "      border-color: transparent;\n",
              "      border-left-color: var(--fill-color);\n",
              "      border-top-color: var(--fill-color);\n",
              "      border-right-color: var(--fill-color);\n",
              "    }\n",
              "    40% {\n",
              "      border-color: transparent;\n",
              "      border-right-color: var(--fill-color);\n",
              "      border-top-color: var(--fill-color);\n",
              "    }\n",
              "    60% {\n",
              "      border-color: transparent;\n",
              "      border-right-color: var(--fill-color);\n",
              "    }\n",
              "    80% {\n",
              "      border-color: transparent;\n",
              "      border-right-color: var(--fill-color);\n",
              "      border-bottom-color: var(--fill-color);\n",
              "    }\n",
              "    90% {\n",
              "      border-color: transparent;\n",
              "      border-bottom-color: var(--fill-color);\n",
              "    }\n",
              "  }\n",
              "</style>\n",
              "\n",
              "  <script>\n",
              "    async function quickchart(key) {\n",
              "      const quickchartButtonEl =\n",
              "        document.querySelector('#' + key + ' button');\n",
              "      quickchartButtonEl.disabled = true;  // To prevent multiple clicks.\n",
              "      quickchartButtonEl.classList.add('colab-df-spinner');\n",
              "      try {\n",
              "        const charts = await google.colab.kernel.invokeFunction(\n",
              "            'suggestCharts', [key], {});\n",
              "      } catch (error) {\n",
              "        console.error('Error during call to suggestCharts:', error);\n",
              "      }\n",
              "      quickchartButtonEl.classList.remove('colab-df-spinner');\n",
              "      quickchartButtonEl.classList.add('colab-df-quickchart-complete');\n",
              "    }\n",
              "    (() => {\n",
              "      let quickchartButtonEl =\n",
              "        document.querySelector('#df-eafc88e2-46a2-4c24-9fac-1623f9b1cc6d button');\n",
              "      quickchartButtonEl.style.display =\n",
              "        google.colab.kernel.accessAllowed ? 'block' : 'none';\n",
              "    })();\n",
              "  </script>\n",
              "</div>\n",
              "\n",
              "    </div>\n",
              "  </div>\n"
            ],
            "application/vnd.google.colaboratory.intrinsic+json": {
              "type": "dataframe"
            }
          },
          "metadata": {},
          "execution_count": 7
        }
      ]
    },
    {
      "cell_type": "markdown",
      "source": [
        "## Merge aiport info"
      ],
      "metadata": {
        "id": "v6sMMBQKBEVX"
      }
    },
    {
      "cell_type": "code",
      "source": [
        "merged_dep_airport = pd.merge(flights, dep_airports, left_on=['Dep_Airport'], right_on=['IATA_CODE'], how='inner')\n",
        "merged_dep_airport.columns"
      ],
      "metadata": {
        "colab": {
          "base_uri": "https://localhost:8080/"
        },
        "id": "4e6qlz6Y3E2z",
        "outputId": "6938b08d-ff65-4977-952a-437639ebc55f"
      },
      "execution_count": null,
      "outputs": [
        {
          "output_type": "execute_result",
          "data": {
            "text/plain": [
              "Index(['FlightDate', 'Day_Of_Week', 'Airline', 'Tail_Number', 'Dep_Airport',\n",
              "       'Dep_CityName', 'DepTime_label', 'Dep_Delay', 'Dep_Delay_Tag',\n",
              "       'Dep_Delay_Type', 'Arr_Airport', 'Arr_CityName', 'Arr_Delay',\n",
              "       'Arr_Delay_Type', 'Flight_Duration', 'Distance_type', 'Delay_Carrier',\n",
              "       'Delay_Weather', 'Delay_NAS', 'Delay_Security', 'Delay_LastAircraft',\n",
              "       'Manufacturer', 'Model', 'Aicraft_age', 'IATA_CODE', 'AIRPORT', 'CITY',\n",
              "       'STATE', 'COUNTRY', 'LATITUDE', 'LONGITUDE'],\n",
              "      dtype='object')"
            ]
          },
          "metadata": {},
          "execution_count": 8
        }
      ]
    },
    {
      "cell_type": "code",
      "source": [
        "merged_dep_airport = merged_dep_airport.drop(['Flight_Duration', 'Delay_Carrier','Delay_Weather', 'Delay_NAS', 'Delay_Security', 'Delay_LastAircraft',\\\n",
        "                         'IATA_CODE', 'AIRPORT'], axis=1)\n",
        "col_mapping = {\n",
        "    'CITY': 'dep_city',\n",
        "    'STATE': 'dep_state',\n",
        "    'COUNTRY': 'dep_country',\n",
        "    'LATITUDE': 'dep_latitude',\n",
        "    'LONGITUDE': 'dep_longitude'\n",
        "}\n",
        "\n",
        "merged_dep_airport = merged_dep_airport.rename(columns=col_mapping)"
      ],
      "metadata": {
        "id": "WbOhTx3e6U2r"
      },
      "execution_count": null,
      "outputs": []
    },
    {
      "cell_type": "code",
      "source": [
        "merged_dep_airport.columns"
      ],
      "metadata": {
        "colab": {
          "base_uri": "https://localhost:8080/"
        },
        "id": "2nOx2iJj933Q",
        "outputId": "c591937b-cf3d-4ece-a6b8-9ee21bd6d8a5"
      },
      "execution_count": null,
      "outputs": [
        {
          "output_type": "execute_result",
          "data": {
            "text/plain": [
              "Index(['FlightDate', 'Day_Of_Week', 'Airline', 'Tail_Number', 'Dep_Airport',\n",
              "       'Dep_CityName', 'DepTime_label', 'Dep_Delay', 'Dep_Delay_Tag',\n",
              "       'Dep_Delay_Type', 'Arr_Airport', 'Arr_CityName', 'Arr_Delay',\n",
              "       'Arr_Delay_Type', 'Distance_type', 'Manufacturer', 'Model',\n",
              "       'Aicraft_age', 'dep_city', 'dep_state', 'dep_country', 'dep_latitude',\n",
              "       'dep_longitude'],\n",
              "      dtype='object')"
            ]
          },
          "metadata": {},
          "execution_count": 10
        }
      ]
    },
    {
      "cell_type": "code",
      "source": [
        "merged_arr_airport = pd.merge(merged_dep_airport, arr_airports, left_on=['Arr_Airport'], right_on=['IATA_CODE'], how='inner')\n",
        "merged_arr_airport.columns"
      ],
      "metadata": {
        "colab": {
          "base_uri": "https://localhost:8080/"
        },
        "outputId": "e7f1d06b-5d0e-41b4-98f6-a2106b02a207",
        "id": "hJOa3DFm9_HP"
      },
      "execution_count": null,
      "outputs": [
        {
          "output_type": "execute_result",
          "data": {
            "text/plain": [
              "Index(['FlightDate', 'Day_Of_Week', 'Airline', 'Tail_Number', 'Dep_Airport',\n",
              "       'Dep_CityName', 'DepTime_label', 'Dep_Delay', 'Dep_Delay_Tag',\n",
              "       'Dep_Delay_Type', 'Arr_Airport', 'Arr_CityName', 'Arr_Delay',\n",
              "       'Arr_Delay_Type', 'Distance_type', 'Manufacturer', 'Model',\n",
              "       'Aicraft_age', 'dep_city', 'dep_state', 'dep_country', 'dep_latitude',\n",
              "       'dep_longitude', 'IATA_CODE', 'AIRPORT', 'CITY', 'STATE', 'COUNTRY',\n",
              "       'LATITUDE', 'LONGITUDE'],\n",
              "      dtype='object')"
            ]
          },
          "metadata": {},
          "execution_count": 11
        }
      ]
    },
    {
      "cell_type": "code",
      "source": [
        "merged_arr_airport = merged_arr_airport.drop(['IATA_CODE', 'AIRPORT'], axis=1)\n",
        "col_mapping = {\n",
        "    'CITY': 'arr_city',\n",
        "    'STATE': 'arr_state',\n",
        "    'COUNTRY': 'arr_country',\n",
        "    'LATITUDE': 'arr_latitude',\n",
        "    'LONGITUDE': 'arr_longitude'\n",
        "}\n",
        "merged_arr_airport = merged_arr_airport.rename(columns=col_mapping)\n",
        "merged_arr_airport.columns"
      ],
      "metadata": {
        "colab": {
          "base_uri": "https://localhost:8080/"
        },
        "id": "cDd3Y4L19_HP",
        "outputId": "9e3f8061-36b3-427d-9232-69385900aca7"
      },
      "execution_count": null,
      "outputs": [
        {
          "output_type": "execute_result",
          "data": {
            "text/plain": [
              "Index(['FlightDate', 'Day_Of_Week', 'Airline', 'Tail_Number', 'Dep_Airport',\n",
              "       'Dep_CityName', 'DepTime_label', 'Dep_Delay', 'Dep_Delay_Tag',\n",
              "       'Dep_Delay_Type', 'Arr_Airport', 'Arr_CityName', 'Arr_Delay',\n",
              "       'Arr_Delay_Type', 'Distance_type', 'Manufacturer', 'Model',\n",
              "       'Aicraft_age', 'dep_city', 'dep_state', 'dep_country', 'dep_latitude',\n",
              "       'dep_longitude', 'arr_city', 'arr_state', 'arr_country', 'arr_latitude',\n",
              "       'arr_longitude'],\n",
              "      dtype='object')"
            ]
          },
          "metadata": {},
          "execution_count": 12
        }
      ]
    },
    {
      "cell_type": "markdown",
      "source": [
        "## Merge weather info"
      ],
      "metadata": {
        "id": "LfTYEkvbA_1J"
      }
    },
    {
      "cell_type": "code",
      "source": [
        "weather.columns"
      ],
      "metadata": {
        "colab": {
          "base_uri": "https://localhost:8080/"
        },
        "id": "krxrfVTe_dcv",
        "outputId": "b8a23f0a-51fd-40a5-ba3b-39b3fe79c46c"
      },
      "execution_count": null,
      "outputs": [
        {
          "output_type": "execute_result",
          "data": {
            "text/plain": [
              "Index(['time', 'tavg', 'tmin', 'tmax', 'prcp', 'snow', 'wdir', 'wspd', 'pres',\n",
              "       'airport_id'],\n",
              "      dtype='object')"
            ]
          },
          "metadata": {},
          "execution_count": 13
        }
      ]
    },
    {
      "cell_type": "code",
      "source": [
        "merged_dep_weather = pd.merge(merged_arr_airport, weather, left_on=['FlightDate', 'Dep_Airport'], right_on=['time', 'airport_id'], how='inner')"
      ],
      "metadata": {
        "id": "udzpXsLM-rXm"
      },
      "execution_count": null,
      "outputs": []
    },
    {
      "cell_type": "code",
      "source": [
        "merged_dep_weather = merged_dep_weather.drop(['time', 'airport_id'], axis=1)\n",
        "col_mapping = {\n",
        "    'tavg': 'dep_tavg',\n",
        "    'tmin': 'dep_tmin',\n",
        "    'tmax': 'dep_tmax',\n",
        "    'prcp': 'dep_prcp',\n",
        "    'snow': 'dep_snow',\n",
        "    'wdir': 'dep_wdir',\n",
        "    'wspd': 'dep_wspd',\n",
        "    'pres': 'dep_pres',\n",
        "}\n",
        "merged_dep_weather = merged_dep_weather.rename(columns=col_mapping)\n",
        "merged_dep_weather.columns"
      ],
      "metadata": {
        "id": "iPwIbo7h_7N3",
        "colab": {
          "base_uri": "https://localhost:8080/"
        },
        "outputId": "3e9bd800-5c32-41da-f4f6-94579544984f"
      },
      "execution_count": null,
      "outputs": [
        {
          "output_type": "execute_result",
          "data": {
            "text/plain": [
              "Index(['FlightDate', 'Day_Of_Week', 'Airline', 'Tail_Number', 'Dep_Airport',\n",
              "       'Dep_CityName', 'DepTime_label', 'Dep_Delay', 'Dep_Delay_Tag',\n",
              "       'Dep_Delay_Type', 'Arr_Airport', 'Arr_CityName', 'Arr_Delay',\n",
              "       'Arr_Delay_Type', 'Distance_type', 'Manufacturer', 'Model',\n",
              "       'Aicraft_age', 'dep_city', 'dep_state', 'dep_country', 'dep_latitude',\n",
              "       'dep_longitude', 'arr_city', 'arr_state', 'arr_country', 'arr_latitude',\n",
              "       'arr_longitude', 'dep_tavg', 'dep_tmin', 'dep_tmax', 'dep_prcp',\n",
              "       'dep_snow', 'dep_wdir', 'dep_wspd', 'dep_pres'],\n",
              "      dtype='object')"
            ]
          },
          "metadata": {},
          "execution_count": 15
        }
      ]
    },
    {
      "cell_type": "code",
      "source": [
        "merged_arr_weather = pd.merge(merged_dep_weather, weather, left_on=['FlightDate', 'Arr_Airport'], right_on=['time', 'airport_id'], how='inner')"
      ],
      "metadata": {
        "id": "zZ4vuRNiAtAW"
      },
      "execution_count": null,
      "outputs": []
    },
    {
      "cell_type": "code",
      "source": [
        "merged_arr_weather = merged_arr_weather.drop(['time', 'airport_id'], axis=1)\n",
        "col_mapping = {\n",
        "    'tavg': 'arr_tavg',\n",
        "    'tmin': 'arr_tmin',\n",
        "    'tmax': 'arr_tmax',\n",
        "    'prcp': 'arr_prcp',\n",
        "    'snow': 'arr_snow',\n",
        "    'wdir': 'arr_wdir',\n",
        "    'wspd': 'arr_wspd',\n",
        "    'pres': 'arr_pres',\n",
        "}\n",
        "merged_arr_weather = merged_arr_weather.rename(columns=col_mapping)\n",
        "merged_arr_weather.columns"
      ],
      "metadata": {
        "colab": {
          "base_uri": "https://localhost:8080/"
        },
        "id": "0sdNsRI3AtAd",
        "outputId": "4743d9c9-a7a4-4707-f7dd-ca8f63b7e76c"
      },
      "execution_count": null,
      "outputs": [
        {
          "output_type": "execute_result",
          "data": {
            "text/plain": [
              "Index(['FlightDate', 'Day_Of_Week', 'Airline', 'Tail_Number', 'Dep_Airport',\n",
              "       'Dep_CityName', 'DepTime_label', 'Dep_Delay', 'Dep_Delay_Tag',\n",
              "       'Dep_Delay_Type', 'Arr_Airport', 'Arr_CityName', 'Arr_Delay',\n",
              "       'Arr_Delay_Type', 'Distance_type', 'Manufacturer', 'Model',\n",
              "       'Aicraft_age', 'dep_city', 'dep_state', 'dep_country', 'dep_latitude',\n",
              "       'dep_longitude', 'arr_city', 'arr_state', 'arr_country', 'arr_latitude',\n",
              "       'arr_longitude', 'dep_tavg', 'dep_tmin', 'dep_tmax', 'dep_prcp',\n",
              "       'dep_snow', 'dep_wdir', 'dep_wspd', 'dep_pres', 'arr_tavg', 'arr_tmin',\n",
              "       'arr_tmax', 'arr_prcp', 'arr_snow', 'arr_wdir', 'arr_wspd', 'arr_pres'],\n",
              "      dtype='object')"
            ]
          },
          "metadata": {},
          "execution_count": 17
        }
      ]
    },
    {
      "cell_type": "markdown",
      "source": [
        "## Extract day, month, year"
      ],
      "metadata": {
        "id": "JDvy4NXSBKMN"
      }
    },
    {
      "cell_type": "code",
      "source": [
        "# Splitting the date string and converting to integers\n",
        "merged_arr_weather['Year'] = merged_arr_weather['FlightDate'].str.split('-').str[0].astype(int)\n",
        "merged_arr_weather['Month'] = merged_arr_weather['FlightDate'].str.split('-').str[1].astype(int)\n",
        "merged_arr_weather['Day'] = merged_arr_weather['FlightDate'].str.split('-').str[2].astype(int)\n",
        "\n",
        "merged_arr_weather.drop(['FlightDate'], axis=1, inplace=True)"
      ],
      "metadata": {
        "id": "UrdSO0xVBPle"
      },
      "execution_count": null,
      "outputs": []
    },
    {
      "cell_type": "code",
      "source": [
        "merged_arr_weather.drop(['Dep_CityName', 'Arr_CityName'], axis=1, inplace=True)"
      ],
      "metadata": {
        "id": "7g6lRBnFCVft"
      },
      "execution_count": null,
      "outputs": []
    },
    {
      "cell_type": "code",
      "source": [
        "merged_arr_weather.columns"
      ],
      "metadata": {
        "colab": {
          "base_uri": "https://localhost:8080/"
        },
        "id": "unYo_hQnCKSk",
        "outputId": "93046077-f3e1-44c4-d228-a543fa482996"
      },
      "execution_count": null,
      "outputs": [
        {
          "output_type": "execute_result",
          "data": {
            "text/plain": [
              "Index(['Day_Of_Week', 'Airline', 'Tail_Number', 'Dep_Airport', 'DepTime_label',\n",
              "       'Dep_Delay', 'Dep_Delay_Tag', 'Dep_Delay_Type', 'Arr_Airport',\n",
              "       'Arr_Delay', 'Arr_Delay_Type', 'Distance_type', 'Manufacturer', 'Model',\n",
              "       'Aicraft_age', 'dep_city', 'dep_state', 'dep_country', 'dep_latitude',\n",
              "       'dep_longitude', 'arr_city', 'arr_state', 'arr_country', 'arr_latitude',\n",
              "       'arr_longitude', 'dep_tavg', 'dep_tmin', 'dep_tmax', 'dep_prcp',\n",
              "       'dep_snow', 'dep_wdir', 'dep_wspd', 'dep_pres', 'arr_tavg', 'arr_tmin',\n",
              "       'arr_tmax', 'arr_prcp', 'arr_snow', 'arr_wdir', 'arr_wspd', 'arr_pres',\n",
              "       'Year', 'Month', 'Day'],\n",
              "      dtype='object')"
            ]
          },
          "metadata": {},
          "execution_count": 20
        }
      ]
    },
    {
      "cell_type": "markdown",
      "source": [
        "# Classification"
      ],
      "metadata": {
        "id": "cwhd5gEkQ5C9"
      }
    },
    {
      "cell_type": "code",
      "execution_count": null,
      "metadata": {
        "id": "-VIk2ucFex1o",
        "colab": {
          "base_uri": "https://localhost:8080/"
        },
        "outputId": "1a3069cb-b20d-442d-9b04-c2fde8bd6516"
      },
      "outputs": [
        {
          "output_type": "stream",
          "name": "stdout",
          "text": [
            "\u001b[2K     \u001b[90m━━━━━━━━━━━━━━━━━━━━━━━━━━━━━━━━━━━━━━━━\u001b[0m \u001b[32m98.2/98.2 MB\u001b[0m \u001b[31m9.4 MB/s\u001b[0m eta \u001b[36m0:00:00\u001b[0m\n",
            "\u001b[?25h"
          ]
        }
      ],
      "source": [
        "!pip install catboost -qq\n",
        "from catboost import CatBoostClassifier"
      ]
    },
    {
      "cell_type": "code",
      "source": [
        "data = merged_arr_weather.copy()\n",
        "data.info()"
      ],
      "metadata": {
        "colab": {
          "base_uri": "https://localhost:8080/"
        },
        "id": "Rro04Vx3Ln5e",
        "outputId": "597768db-2deb-42c8-d7ba-f476e29361ca"
      },
      "execution_count": null,
      "outputs": [
        {
          "output_type": "stream",
          "name": "stdout",
          "text": [
            "<class 'pandas.core.frame.DataFrame'>\n",
            "RangeIndex: 500000 entries, 0 to 499999\n",
            "Data columns (total 44 columns):\n",
            " #   Column          Non-Null Count   Dtype  \n",
            "---  ------          --------------   -----  \n",
            " 0   Day_Of_Week     500000 non-null  int64  \n",
            " 1   Airline         500000 non-null  object \n",
            " 2   Tail_Number     500000 non-null  object \n",
            " 3   Dep_Airport     500000 non-null  object \n",
            " 4   DepTime_label   500000 non-null  object \n",
            " 5   Dep_Delay       500000 non-null  int64  \n",
            " 6   Dep_Delay_Tag   500000 non-null  int64  \n",
            " 7   Dep_Delay_Type  500000 non-null  object \n",
            " 8   Arr_Airport     500000 non-null  object \n",
            " 9   Arr_Delay       500000 non-null  int64  \n",
            " 10  Arr_Delay_Type  500000 non-null  object \n",
            " 11  Distance_type   500000 non-null  object \n",
            " 12  Manufacturer    500000 non-null  object \n",
            " 13  Model           500000 non-null  object \n",
            " 14  Aicraft_age     500000 non-null  int64  \n",
            " 15  dep_city        500000 non-null  object \n",
            " 16  dep_state       500000 non-null  object \n",
            " 17  dep_country     500000 non-null  object \n",
            " 18  dep_latitude    500000 non-null  float64\n",
            " 19  dep_longitude   500000 non-null  float64\n",
            " 20  arr_city        500000 non-null  object \n",
            " 21  arr_state       500000 non-null  object \n",
            " 22  arr_country     500000 non-null  object \n",
            " 23  arr_latitude    500000 non-null  float64\n",
            " 24  arr_longitude   500000 non-null  float64\n",
            " 25  dep_tavg        500000 non-null  float64\n",
            " 26  dep_tmin        500000 non-null  float64\n",
            " 27  dep_tmax        500000 non-null  float64\n",
            " 28  dep_prcp        500000 non-null  float64\n",
            " 29  dep_snow        500000 non-null  int64  \n",
            " 30  dep_wdir        500000 non-null  float64\n",
            " 31  dep_wspd        500000 non-null  float64\n",
            " 32  dep_pres        500000 non-null  float64\n",
            " 33  arr_tavg        500000 non-null  float64\n",
            " 34  arr_tmin        500000 non-null  float64\n",
            " 35  arr_tmax        500000 non-null  float64\n",
            " 36  arr_prcp        500000 non-null  float64\n",
            " 37  arr_snow        500000 non-null  int64  \n",
            " 38  arr_wdir        500000 non-null  float64\n",
            " 39  arr_wspd        500000 non-null  float64\n",
            " 40  arr_pres        500000 non-null  float64\n",
            " 41  Year            500000 non-null  int64  \n",
            " 42  Month           500000 non-null  int64  \n",
            " 43  Day             500000 non-null  int64  \n",
            "dtypes: float64(18), int64(10), object(16)\n",
            "memory usage: 167.8+ MB\n"
          ]
        }
      ]
    },
    {
      "cell_type": "code",
      "source": [
        "column_names = data.columns\n",
        "categorical_variables = {}\n",
        "\n",
        "# Iterate through columns\n",
        "for col in column_names:\n",
        "    # Check if the column has categorical data\n",
        "    if pd.api.types.is_categorical_dtype(data[col]):\n",
        "        # If categorical, store unique values\n",
        "        categorical_variables[col] = data[col].cat.categories.tolist()\n",
        "    else:\n",
        "        # If not categorical, store unique values with quotes around 'ad_projectid'\n",
        "        values = data[col].unique().tolist()\n",
        "        if col == 'ad_projectid':\n",
        "            values = [f'{value}' for value in values]\n",
        "        categorical_variables[col] = values\n",
        "\n",
        "# Print the formatted output\n",
        "print(\"categorical_variables = {\")\n",
        "for col, values in categorical_variables.items():\n",
        "    print(f'    \"{col}\": {values},')\n",
        "print(\"}\")"
      ],
      "metadata": {
        "colab": {
          "base_uri": "https://localhost:8080/"
        },
        "id": "YKW_RzGA3TAb",
        "outputId": "bcab76e8-46f2-4495-e5b2-e2036a40b05b"
      },
      "execution_count": null,
      "outputs": [
        {
          "output_type": "stream",
          "name": "stdout",
          "text": [
            "categorical_variables = {\n",
            "    \"Day_Of_Week\": [4, 5, 6, 1, 2, 7, 3],\n",
            "    \"Airline\": ['Delta Air Lines Inc', 'Alaska Airlines Inc.', 'Southwest Airlines Co.', 'Endeavor Air', 'Spirit Air Lines', 'United Air Lines Inc.', 'Skywest Airlines Inc.', 'American Eagle Airlines Inc.', 'American Airlines Inc.', 'JetBlue Airways', 'Hawaiian Airlines Inc.', 'Allegiant Air', 'Frontier Airlines Inc.', 'PSA Airlines', 'Republic Airways'],\n",
            "    \"Tail_Number\": ['N329NW', 'N263AK', 'N224WN', 'N7746C', 'N971AT', 'N944WN', 'N304PQ', 'N924AT', 'N328DN', 'N681NK', 'N593NW', 'N112DU', 'N37409', 'N309SY', 'N358DN', 'N388DN', 'N830DN', 'N585NW', 'N273NN', 'N333NB', 'N365NW', 'N368NB', 'N315NB', 'N907XJ', 'N712EV', 'N181GJ', 'N374NW', 'N247SY', 'N341NW', 'N136EV', 'N546AS', 'N505SY', 'N38454', 'N8553W', 'N8631A', 'N653NK', 'N67812', 'N68452', 'N339DN', 'N135NN', 'N526DE', 'N111ZM', 'N296SY', 'N755US', 'N936AN', 'N360DN', 'N3733Z', 'N510DE', 'N556JB', 'N188US', 'N8725L', 'N118NN', 'N3773D', 'N3751B', 'N481WN', 'N7888A', 'N110SY', 'N171SY', 'N329NB', 'N8605E', 'N910DU', 'N8744B', 'N755SA', 'N992JB', 'N102NN', 'N172DN', 'N308SY', 'N257SY', 'N777UA', 'N930VA', 'N976AK', 'N402AN', 'N232WN', 'N277SY', 'N73270', 'N880DN', 'N928DU', 'N181SY', 'N290AK', 'N408SY', 'N361HA', 'N189SY', 'N477WN', 'N227HA', 'N7838A', 'N551AS', 'N413SY', 'N448AS', 'N391DA', 'N683NK', 'N915NK', 'N256WN', 'N61881', 'N7885A', 'N8813Q', 'N117DX', 'N551UW', 'N8759Q', 'N328RR', 'N297WN', 'N925NN', 'N206NV', 'N8773Q', 'N8557Q', 'N8508W', 'N278WN', 'N229WN', 'N8790Q', 'N783SW', 'N17265', 'N837UA', 'N964NK', 'N945NK', 'N191SY', 'N8853Q', 'N635NK', 'N314NV', 'N8649A', 'N906WN', 'N942WN', 'N7861J', 'N327NV', 'N483AS', 'N325NB', 'N821DN', 'N127DN', 'N259WN', 'N285SY', 'N323DN', 'N141NN', 'N368NW', 'N313DU', 'N123DQ', 'N411WN', 'N692NK', 'N312DU', 'N615JB', 'N369NB', 'N301DV', 'N256SY', 'N305DU', 'N823SK', 'N258SY', 'N272SY', 'N8524Z', 'N77525', 'N382DN', 'N563UW', 'N534UW', 'N166NN', 'N8720L', 'N747SA', 'N374DA', 'N570WN', 'N486WN', 'N255WN', 'N272WN', 'N205HA', 'N8758L', 'N268SY', 'N566AS', 'N493AS', 'N937AK', 'N377FR', 'N284AK', 'N910WN', 'N365FR', 'N66803', 'N8325D', 'N27520', 'N27515', 'N376FR', 'N17139', 'N77296', 'N8850Q', 'N621UX', 'N356DN', 'N316DN', 'N363DN', 'N8858K', 'N434UA', 'N338RS', 'N77871', 'N331DN', 'N211WN', 'N931WN', 'N769UA', 'N451WN', 'N830UA', 'N607FR', 'N69835', 'N231WN', 'N8783L', 'N246LV', 'N16234', 'N77539', 'N37548', 'N8552Z', 'N483WN', 'N24211', 'N935WN', 'N36469', 'N882UA', 'N257WN', 'N262WN', 'N710FR', 'N37267', 'N7741C', 'N8699A', 'N828UA', 'N833UA', 'N412UA', 'N479CA', 'N932EV', 'N787SK', 'N785SK', 'N786SK', 'N143SY', 'N784SK', 'N471CA', 'N491AS', 'N68842', 'N14102', 'N73860', 'N19136', 'N41135', 'N14118', 'N159AN', 'N27274', 'N843UA', 'N37554', 'N919AK', 'N440UA', 'N230FR', 'N925EV', 'N33262', 'N77536', 'N410SY', 'N77430', 'N944SW', 'N27519', 'N796SK', 'N145SY', 'N195SY', 'N264SY', 'N199SY', 'N187SY', 'N185SY', 'N170SY', 'N319AS', 'N204SY', 'N117DU', 'N306PB', 'N774SW', 'N561WN', 'N781WN', 'N8821S', 'N464WN', 'N250WN', 'N948WN', 'N514AS', 'N3754A', 'N263WN', 'N775DE', 'N8719Q', 'N410AN', 'N322FR', 'N380DN', 'N8319F', 'N425LV', 'N364FR', 'N466AN', 'N667AW', 'N425UA', 'N8695D', 'N883DN', 'N872CB', 'N724SK', 'N185UW', 'N442AN', 'N480WN', 'N467WN', 'N774XF', 'N467AL', 'N161AA', 'N7811F', 'N773SK', 'N764SK', 'N741EV', 'N270AK', 'N963NK', 'N357NW', 'N8722L', 'N629NK', 'N8681M', 'N907AA', 'N715JB', 'N3752', 'N66897', 'N17294', 'N174US', 'N407UA', 'N27253', 'N37532', 'N124DU', 'N940NN', 'N239WN', 'N109DU', 'N959NN', 'N924WN', 'N960WN', 'N367FR', 'N323FR', 'N922WN', 'N411AN', 'N510UW', 'N723FR', 'N379FR', 'N672NK', 'N125AA', 'N558UW', 'N5007E', 'N537US', 'N758US', 'N702UW', 'N541EA', 'N517AE', 'N702FR', 'N565NN', 'N3763D', 'N832DN', 'N8855Q', 'N314DN', 'N37540', 'N8581Z', 'N302PQ', 'N443YX', 'N815DN', 'N376DN', 'N8301J', 'N808DN', 'N828DN', 'N253SY', 'N921XJ', 'N8679A', 'N641CA', 'N330NB', 'N887DN', 'N676CA', 'N325PQ', 'N974AT', 'N341NB', 'N323SY', 'N459SW', 'N927VA', 'N902WN', 'N414SY', 'N461UA', 'N918US', 'N519SY', 'N956NK', 'N7733B', 'N818AW', 'N8736J', 'N420AN', 'N562UW', 'N607NK', 'N21108', 'N58101', 'N431AN', 'N455AN', 'N932AM', 'N695NK', 'N352PS', 'N959NK', 'N161SY', 'N443AA', 'N508SY', 'N295SY', 'N960NK', 'N462AA', 'N903AA', 'N991JT', 'N110AN', 'N727TW', 'N703TW', 'N972NK', 'N506SY', 'N8724J', 'N882DN', 'N436WN', 'N216WR', 'N183DN', 'N109NN', 'N8705Q', 'N198NV', 'N589AS', 'N273NV', 'N757LV', 'N579AS', 'N394DX', 'N608SK', 'N687NK', 'N349DX', 'N846DN', 'N374DX', 'N820DN', 'N693CA', 'N896AT', 'N229FR', 'N105DX', 'N607UX', 'N942AT', 'N928AT', 'N364NW', 'N985AT', 'N643NK', 'N364NB', 'N299PQ', 'N903NN', 'N932AN', 'N335PQ', 'N208JQ', 'N357NB', 'N925DZ', 'N132EV', 'N449SW', 'N8533S', 'N713FR', 'N294WN', 'N389DN', 'N499WN', 'N39463', 'N213UA', 'N37518', 'N995AN', 'N356FR', 'N8793Q', 'N619NK', 'N8750Q', 'N474WN', 'N993JE', 'N8314L', 'N8566Z', 'N298WN', 'N2043J', 'N57862', 'N370FR', 'N8602F', 'N807DN', 'N920US', 'N571JB', 'N1803U', 'N7840A', 'N976NK', 'N339FR', 'N7702A', 'N322NV', 'N968WN', 'N287NV', 'N538AS', 'N535JB', 'N894DN', 'N375DN', 'N330DX', 'N752SW', 'N699DL', 'N897DN', 'N819DX', 'N8302F', 'N393DN', 'N394DA', 'N414UA', 'N3765', 'N38727', 'N373DX', 'N386DA', 'N586NW', 'N947AT', 'N6711M', 'N7729A', 'N538US', 'N675DL', 'N839AW', 'N838DN', 'N893AT', 'N978AT', 'N8322X', 'N810DN', 'N8739L', 'N934AT', 'N7851A', 'N823DX', 'N314NB', 'N826DN', 'N613FR', 'N648NK', 'N350NA', 'N7879A', 'N349NW', 'N955AT', 'N806SK', 'N841DN', 'N951DX', 'N368DN', 'N333DX', 'N679DA', 'N868DN', 'N362NW', 'N363NW', 'N6713Y', 'N930AT', 'N959DZ', 'N921AT', 'N990AT', 'N928XJ', 'N138EV', 'N340CA', 'N965WN', 'N8568Z', 'N8795L', 'N458WN', 'N7846A', 'N767SW', 'N8718Q', 'N8673F', 'N8697C', 'N8678E', 'N8751R', 'N294AK', 'N69813', 'N583AS', 'N839DN', 'N931NN', 'N66848', 'N12109', 'N165NN', 'N822UA', 'N932AK', 'N39475', 'N176SY', 'N326RP', 'N815UA', 'N131DU', 'N157SY', 'N529JB', 'N183SY', 'N342NB', 'N37521', 'N77535', 'N207PS', 'N205SY', 'N280SY', 'N276SY', 'N342FR', 'N27213', 'N476WN', 'N8603F', 'N8525S', 'N175SY', 'N8752Q', 'N378HA', 'N537UW', 'N68807', 'N324NB', 'N566WN', 'N8797Q', 'N408WN', 'N7704B', 'N7730A', 'N304SY', 'N556WN', 'N827NN', 'N855DN', 'N914WN', 'N487WN', 'N463WN', 'N245WN', 'N343NW', 'N8764Q', 'N315DU', 'N524AS', 'N316SY', 'N314DU', 'N37471', 'N15751', 'N892UA', 'N118SY', 'N855UA', 'N726SK', 'N542US', 'N611FR', 'N29124', 'N16217', 'N33209', 'N67815', 'N272NN', 'N581UW', 'N902AN', 'N163SY', 'N995NN', 'N700UW', 'N13227', 'N638RW', 'N76516', 'N801AW', 'N315SY', 'N933NN', 'N992AN', 'N884NN', 'N14250', 'N8518R', 'N76519', 'N856AS', 'N762DT', 'N441UA', 'N37535', 'N868RW', 'N209SY', 'N973NN', 'N774UA', 'N841NN', 'N955NN', 'N604UX', 'N958AN', 'N37274', 'N418UA', 'N220NN', 'N939SW', 'N617UX', 'N17753', 'N148SY', 'N73283', 'N983NN', 'N138HQ', 'N874AS', 'N956SW', 'N197SY', 'N857NN', 'N260AK', 'N223NV', 'N284SY', 'N875AS', 'N783SK', 'N403SY', 'N494CA', 'N504DZ', 'N34131', 'N493HA', 'N1806U', 'N8778Q', 'N8794Q', 'N478HA', 'N490HA', 'N491HA', 'N69840', 'N558AS', 'N255NN', 'N228JQ', 'N592AS', 'N516AS', 'N428YX', 'N420YX', 'N408YX', 'N114HQ', 'N103SY', 'N482UA', 'N756YX', 'N482WN', 'N833NN', 'N7814B', 'N592JB', 'N212JQ', 'N209JQ', 'N7887A', 'N722US', 'N7721E', 'N410YX', 'N607NN', 'N522AE', 'N560WN', 'N543EA', 'N274JB', 'N542EA', 'N513AE', 'N500AE', 'N436YX', 'N598NN', 'N545PB', 'N417YX', 'N388HA', 'N577AS', 'N436AN', 'N492HA', 'N588AS', 'N536AS', 'N489UA', 'N406SY', 'N415WN', 'N6708D', 'N433UA', 'N611AS', 'N494AS', 'N33203', 'N108DQ', 'N8780Q', 'N814UA', 'N854DN', 'N129DN', 'N355DN', 'N398DN', 'N8539V', 'N970AT', 'N613CZ', 'N330PQ', 'N935NN', 'N871DN', 'N335DN', 'N106DU', 'N611NN', 'N103DY', 'N459UA', 'N370DN', 'N998NN', 'N833SK', 'N946AT', 'N348FR', 'N390DN', 'N312US', 'N712SK', 'N335NW', 'N311SY', 'N514SY', 'N309AS', 'N274AK', 'N830MH', 'N383DZ', 'N658JB', 'N861DN', 'N8669B', 'N62895', 'N77019', 'N942NK', 'N346DN', 'N37547', 'N182SY', 'N37523', 'N282SY', 'N432AN', 'N8519R', 'N275SY', 'N104DN', 'N1801U', 'N520SY', 'N1805U', 'N77572', 'N37295', 'N513SY', 'N943SW', 'N774DE', 'N8622A', 'N324DX', 'N8670A', 'N908AA', 'N938NK', 'N642NK', 'N661NK', 'N1802U', 'N323RM', 'N985NK', 'N523NK', 'N375FR', 'N269SY', 'N391HA', 'N27546', 'N773SA', 'N778SW', 'N956JT', 'N529NK', 'N38467', 'N7857B', 'N8317M', 'N929NK', 'N401WN', 'N440LV', 'N927NK', 'N8536Z', 'N281NV', 'N565AS', 'N8878L', 'N3123J', 'N564WN', 'N435WN', 'N16701', 'N7884G', 'N826NN', 'N345NB', 'N512DE', 'N870DN', 'N378FR', 'N8305E', 'N505JB', 'N358JB', 'N3759', 'N988AL', 'N616NK', 'N237AK', 'N361FR', 'N660UA', 'N715FR', 'N380FR', 'N231JB', 'N697NK', 'N957NK', 'N951NK', 'N8646B', 'N75854', 'N393DA', 'N302SS', 'N8845L', 'N150NN', 'N522DA', 'N8572X', 'N354NW', 'N8865L', 'N336FR', 'N693NK', 'N8846Q', 'N7852A', 'N431WN', 'N918NN', 'N8709Q', 'N903AK', 'N470UA', 'N37506', 'N13750', 'N324SY', 'N246SY', 'N27958', 'N224AK', 'N7824A', 'N289CT', 'N564AS', 'N429AN', 'N507AY', 'N72405', 'N8534Z', 'N961WN', 'N170US', 'N8565Z', 'N7854B', 'N791SW', 'N441WN', 'N270SY', 'N407SY', 'N293AK', 'N381DN', 'N353DN', 'N77537', 'N945WN', 'N719FR', 'N48127', 'N424UA', 'N388FR', 'N925AN', 'N67846', 'N222UA', 'N376DA', 'N537DT', 'N387FR', 'N320TF', 'N77520', 'N8578Q', 'N75429', 'N519UW', 'N851UA', 'N437UA', 'N8802Q', 'N8600F', 'N8511K', 'N76514', 'N338FR', 'N558WN', 'N328FR', 'N131NN', 'N888DU', 'N17244', 'N335NB', 'N460UA', 'N8882Q', 'N8832H', 'N8841L', 'N37319', 'N416WN', 'N360FR', 'N78509', 'N8692F', 'N8888M', 'N812UA', 'N241WN', 'N414WN', 'N215WN', 'N699BR', 'N623UX', 'N76528', 'N605UX', 'N819UA', 'N416UA', 'N811DZ', 'N793SK', 'N900EV', 'N150SY', 'N304FR', 'N961AK', 'N18112', 'N824UA', 'N75433', 'N19141', 'N988JT', 'N937JB', 'N37290', 'N926SW', 'N475UA', 'N704X', 'N842UA', 'N213SY', 'N895UA', 'N479AS', 'N320AS', 'N8727M', 'N946WN', 'N8645A', 'N565WN', 'N7880D', 'N207WN', 'N299SY', 'N177SY', 'N266AK', 'N430SY', 'N8827Q', 'N465UA', 'N744YX', 'N346PR', 'N798UA', 'N76526', 'N847UA', 'N514NK', 'N17126', 'N767YX', 'N69819', 'N37277', 'N806UA', 'N456UA', 'N36476', 'N745YX', 'N47280', 'N68821', 'N741YX', 'N3738B', 'N683DA', 'N9013A', 'N27252', 'N913NK', 'N820NN', 'N952AA', 'N335SN', 'N77575', 'N76504', 'N73251', 'N142DU', 'N847NN', 'N305FR', 'N631NK', 'N121HQ', 'N24224', 'N77510', 'N77865', 'N37273', 'N867NN', 'N306SY', 'N436UA', 'N450AN', 'N941NK', 'N61882', 'N18243', 'N124SY', 'N142SY', 'N493UA', 'N26210', 'N208SY', 'N117HQ', 'N211SY', 'N278AK', 'N922DZ', 'N339JB', 'N535DN', 'N710TW', 'N329JB', 'N3115J', 'N840DN', 'N883NN', 'N634JB', 'N236JQ', 'N3138J', 'N340NW', 'N322SY', 'N306PQ', 'N305PQ', 'N469UA', 'N492AS', 'N363NB', 'N38403', 'N361NW', 'N37536', 'N17296', 'N79402', 'N986NK', 'N107SY', 'N445UA', 'N517NK', 'N339NW', 'N3735D', 'N6710E', 'N708FR', 'N961NK', 'N813NN', 'N378NW', 'N705FR', 'N907JB', 'N443WN', 'N8879Q', 'N8863Q', 'N802AW', 'N814DN', 'N62884', 'N541DE', 'N8647A', 'N641NK', 'N129AA', 'N126AN', 'N967AN', 'N874NN', 'N852UA', 'N69888', 'N428AA', 'N914AN', 'N989NN', 'N970AN', 'N348JB', 'N582UW', 'N760MQ', 'N800NN', 'N711UW', 'N14735', 'N535UW', 'N884AA', 'N457AM', 'N976NN', 'N522NK', 'N416AN', 'N877BF', 'N8009T', 'N226NN', 'N268NN', 'N309PC', 'N258NN', 'N233NN', 'N103US', 'N740UW', 'N212NN', 'N605NN', 'N772XF', 'N224NN', 'N710EV', 'N256NN', 'N286NN', 'N236NN', 'N200NN', 'N592NN', 'N234JW', 'N129DU', 'N101DU', 'N135DQ', 'N293WN', 'N607AS', 'N622AS', 'N707AL', 'N369DN', 'N587NW', 'N803UA', 'N8902Q', 'N991AT', 'N829DN', 'N356NW', 'N367NW', 'N323NV', 'N320DU', 'N995AT', 'N243SY', 'N139DU', 'N421UA', 'N177DN', 'N928NK', 'N445AA', 'N61887', 'N8559Q', 'N24974', 'N371NB', 'N38479', 'N707TW', 'N2105J', 'N198DN', 'N842DN', 'N793AN', 'N917NN', 'N29129', 'N752AN', 'N438AN', 'N593AS', 'N289SY', 'N320NV', 'N459AS', 'N860DN', 'N8549Z', 'N853DN', 'N451UA', 'N124DX', 'N903NK', 'N345DN', 'N843DN', 'N313PQ', 'N810NN', 'N731YX', 'N317NB', 'N318DX', 'N337NB', 'N366NW', 'N424YX', 'N981AT', 'N539US', 'N651NK', 'N836SK', 'N326NB', 'N891AT', 'N186GJ', 'N838SK', 'N831SK', 'N508DA', 'N673DL', 'N375NC', 'N199UW', 'N614CZ', 'N649JB', 'N657JB', 'N203JQ', 'N865DN', 'N545UW', 'N965AN', 'N357PV', 'N990JL', 'N19130', 'N227JQ', 'N3121J', 'N224JQ', 'N120DU', 'N414YX', 'N8601C', 'N357DN', 'N304JB', 'N337JB', 'N248AK', 'N591NW', 'N608NK', 'N63890', 'N7822A', 'N554UW', 'N961JT', 'N8777Q', 'N983NK', 'N8730Q', 'N8880G', 'N8762Q', 'N8526W', 'N8820L', 'N973NK', 'N8653A', 'N71411', 'N525NK', 'N908NK', 'N934WN', 'N325DN', 'N958NK', 'N8874Q', 'N8806Q', 'N329NV', 'N487AS', 'N236WN', 'N942DZ', 'N8611F', 'N7864B', 'N576NN', 'N200SY', 'N634NK', 'N8638A', 'N7713A', 'N211NV', 'N849DN', 'N977AT', 'N705NK', 'N8913S', 'N249NV', 'N7853B', 'N7737E', 'N539DN', 'N382HA', 'N487HA', 'N476HA', 'N489HA', 'N485HA', 'N394DL', 'N413AS', 'N484HA', 'N488HA', 'N480HA', 'N316DU', 'N237WN', 'N7825A', 'N8641B', 'N37466', 'N66841', 'N62896', 'N467UA', 'N37470', 'N800SK', 'N832SK', 'N746YX', 'N807UA', 'N725YX', 'N732YX', 'N288AK', 'N923DZ', 'N344FR', 'N462AS', 'N980JT', 'N472AS', 'N174DN', 'N178SY', 'N512SY', 'N375DA', 'N896UA', 'N313DN', 'N477AS', 'N411SY', 'N168SY', 'N622UX', 'N146SY', 'N134SY', 'N7858A', 'N7860A', 'N27304', 'N404SY', 'N7738A', 'N240SY', 'N8760L', 'N105UW', 'N916NN', 'N967WN', 'N8609A', 'N288SY', 'N192SY', 'N8522P', 'N412WN', 'N928WN', 'N908WN', 'N529AS', 'N152UW', 'N719SK', 'N481UA', 'N78540', 'N77558', 'N805UA', 'N698NK', 'N639RW', 'N54711', 'N12218', 'N567UW', 'N104UW', 'N908AN', 'N821JB', 'N37516', 'N964AK', 'N78009', 'N24706', 'N710NK', 'N33266', 'N73291', 'N979AT', 'N994AT', 'N640JB', 'N765YX', 'N27724', 'N758YX', 'N17272', 'N16703', 'N722YX', 'N753YX', 'N763YX', 'N287SY', 'N286SY', 'N338NB', 'N905AU', 'N349FR', 'N836NN', 'N3113J', 'N964AN', 'N979AN', 'N986AN', 'N150UW', 'N186US', 'N27283', 'N14242', 'N322TH', 'N77571', 'N805AN', 'N801AC', 'N931AM', 'N905NK', 'N817NN', 'N970NN', 'N979UY', 'N312BT', 'N973AN', 'N143AN', 'N850NN', 'N809AW', 'N120EE', 'N121AN', 'N937NN', 'N826AW', 'N601EN', 'N587NN', 'N549UW', 'N730US', 'N962NN', 'N235NN', 'N401AN', 'N773XF', 'N241NN', 'N574NN', 'N836AW', 'N223NN', 'N216NN', 'N229NN', 'N817UA', 'N86534', 'N77518', 'N113AN', 'N310RF', 'N17719', 'N457WN', 'N15710', 'N409WN', 'N512AS', 'N223WN', 'N433AN', 'N352DN', 'N295WN', 'N923AN', 'N993AN', 'N566NN', 'N580UW', 'N203JB', 'N977UY', 'N392FR', 'N822AW', 'N717UW', 'N126HQ', 'N610NN', 'N513AS', 'N440AS', 'N947DZ', 'N352FR', 'N308FR', 'N723YX', 'N637RW', 'N306DN', 'N628NK', 'N930DZ', 'N110DU', 'N8898L', 'N73406', 'N402YX', 'N315DN', 'N338DN', 'N242SY', 'N980AT', 'N910XJ', 'N162PQ', 'N244SY', 'N319SY', 'N187PQ', 'N586JB', 'N78506', 'N8503A', 'N274WN', 'N504SY', 'N366NB', 'N993NN', 'N75426', 'N57870', 'N360NW', 'N301NB', 'N985JT', 'N950AN', 'N195UW', 'N219UA', 'N921VA', 'N982JB', 'N37522', 'N938AN', 'N8668A', 'N397DN', 'N784JB', 'N8643A', 'N402SY', 'N926DZ', 'N850DN', 'N964JT', 'N903DN', 'N969AK', 'N423UA', 'N27277', 'N978UY', 'N47293', 'N461AS', 'N502DX', 'N362DN', 'N14237', 'N187JB', 'N267JB', 'N233JQ', 'N464AA', 'N247JB', 'N217JQ', 'N830AW', 'N245NN', 'N231AN', 'N8815L', 'N544UW', 'N13113', 'N198JB', 'N137DU', 'N126DU', 'N372DN', 'N717FR', 'N8582Z', 'N368FR', 'N701FR', 'N383FR', 'N28457', 'N8732S', 'N8862Q', 'N8792Q', 'N214WN', 'N935NK', 'N609FR', 'N8754S', 'N8847Q', 'N485WN', 'N8887Q', 'N962NK', 'N530NK', 'N769SW', 'N469WN', 'N302NV', 'N7823A', 'N465WN', 'N324NV', 'N307NV', 'N351DN', 'N122DN', 'N960AN', 'N329SL', 'N876NN', 'N975AN', 'N785SW', 'N498WN', 'N372NW', 'N225NN', 'N310PQ', 'N959WN', 'N8839Q', 'N271NN', 'N450YX', 'N319US', 'N262NN', 'N863DN', 'N625FR', 'N17557', 'N568JB', 'N310DN', 'N342DN', 'N326DN', 'N151UW', 'N3746H', 'N516DN', 'N885DN', 'N968NK', 'N967AT', 'N939AT', 'N351NB', 'N556NW', 'N619FR', 'N844DN', 'N824DN', 'N686DA', 'N671DN', 'N918DU', 'N818DA', 'N455WN', 'N6714Q', 'N706FR', 'N658DL', 'N536US', 'N696DL', 'N946NK', 'N691NK', 'N937DZ', 'N109DN', 'N685DA', 'N419WN', 'N8661A', 'N957DZ', 'N776XF', 'N320DN', 'N9008U', 'N3739P', 'N936AT', 'N932XJ', 'N147PQ', 'N901DN', 'N948DZ', 'N398CA', 'N983AT', 'N601LR', 'N812DN', 'N365NB', 'N183GJ', 'N985AK', 'N7715E', 'N275WN', 'N381HA', 'N8721J', 'N8704Q', 'N8755L', 'N494HA', 'N483HA', 'N475HA', 'N8747Q', 'N267SY', 'N78285', 'N255SY', 'N286WN', 'N920NK', 'N258WN', 'N3730B', 'N899UA', 'N77867', 'N17245', 'N17312', 'N582NN', 'N27267', 'N53441', 'N604LR', 'N802UA', 'N838UA', 'N61898', 'N761YX', 'N3747D', 'N8788L', 'N136AN', 'N898DN', 'N296WN', 'N324US', 'N866DN', 'N679CA', 'N949AK', 'N76522', 'N192UW', 'N568AS', 'N290SY', 'N8660A', 'N8881L', 'N793SA', 'N8547V', 'N33284', 'N421LV', 'N188SY', 'N945JT', 'N982AK', 'N501DA', 'N468WN', 'N415AN', 'N931AK', 'N435UA', 'N27287', 'N923NN', 'N36444', 'N555LV', 'N431UA', 'N68802', 'N7866A', 'N35236', 'N39418', 'N37541', 'N37419', 'N626FR', 'N411UA', 'N8512U', 'N54241', 'N37253', 'N8540V', 'N78524', 'N284WN', 'N220WN', 'N313FR', 'N121SY', 'N7886A', 'N68817', 'N609UX', 'N608UX', 'N116SY', 'N12221', 'N964SW', 'N941AK', 'N916DU', 'N47414', 'N8608N', 'N34460', 'N78448', 'N526AS', 'N8851Q', 'N204UA', 'N37549', 'N601UX', 'N946AK', 'N135SY', 'N795SK', 'N73259', 'N268WN', 'N898UA', 'N37513', 'N603CZ', 'N47291', 'N167SY', 'N8715Q', 'N8632A', 'N7841A', 'N7740A', 'N291WN', 'N8876Q', 'N913AK', 'N780SW', 'N7865A', 'N8800L', 'N563WN', 'N8544Z', 'N966AK', 'N768US', 'N936WN', 'N945NN', 'N913US', 'N7744A', 'N102UW', 'N8558Z', 'N7889A', 'N956WN', 'N472WN', 'N834AW', 'N753EV', 'N515SY', 'N748SK', 'N297AK', 'N546US', 'N17310', 'N954NK', 'N706NK', 'N133AN', 'N591JB', 'N524JB', 'N8801Q', 'N8662F', 'N933NK', 'N912WN', 'N947NK', 'N979NK', 'N966JT', 'N971JT', 'N2029J', 'N953NK', 'N938NN', 'N230NV', 'N17309', 'N13138', 'N26208', 'N881UA', 'N760YX', 'N929VA', 'N17128', 'N187US', 'N651RW', 'N859RW', 'N787UA', 'N27239', 'N301DU', 'N762YX', 'N23721', 'N253AK', 'N68453', 'N17564', 'N806MD', 'N21723', 'N953NN', 'N614NK', 'N852NN', 'N76532', 'N426UA', 'N865NN', 'N409UA', 'N883UA', 'N814NN', 'N37462', 'N14228', 'N992NN', 'N47505', 'N35260', 'N822SK', 'N35271', 'N659NK', 'N27539', 'N37468', 'N954AN', 'N458UA', 'N894UA', 'N877UA', 'N809MD', 'N679SA', 'N442UA', 'N764JD', 'N125SY', 'N750SK', 'N81449', 'N961NN', 'N753US', 'N778SK', 'N114SY', 'N102HQ', 'N441YX', 'N610UX', 'N647RW', 'N650RW', 'N929SW', 'N464SW', 'N11206', 'N965SW', 'N761RW', 'N881AS', 'N246PS', 'N529DT', 'N293SY', 'N104HQ', 'N439YX', 'N211JQ', 'N112AN', 'N1604R', 'N987JT', 'N554JB', 'N391DN', 'N909NN', 'N375JB', 'N422YX', 'N906XJ', 'N584JB', 'N997JL', 'N228PQ', 'N588JB', 'N339NB', 'N905JB', 'N153PQ', 'N3077J', 'N779JB', 'N938AK', 'N8671D', 'N66828', 'N284JN', 'N896NN', 'N502AE', 'N261WN', 'N8706W', 'N950WN', 'N442AS', 'N449AN', 'N530DE', 'N6701', 'N965NN', 'N446YX', 'N478WN', 'N603SK', 'N134DU', 'N351NW', 'N355NW', 'N603AT', 'N337PQ', 'N478AS', 'N435AS', 'N910AU', 'N874DN', 'N252WN', 'N637NK', 'N548AS', 'N951AT', 'N998AT', 'N937AT', 'N835DN', 'N216JB', 'N684NK', 'N704FR', 'N317US', 'N7876A', 'N962WN', 'N837DN', 'N768SK', 'N3742C', 'N385DZ', 'N317DN', 'N8828L', 'N392DN', 'N8737L', 'N7855A', 'N917NK', 'N446WN', 'N538DN', 'N922NK', 'N8726H', 'N219WN', 'N69847', 'N337FR', 'N385DN', 'N8515X', 'N31412', 'N621NK', 'N318AS', 'N8329B', 'N218NN', 'N397DA', 'N577NN', 'N846UA', 'N8610A', 'N57857', 'N77538', 'N444UA', 'N39416', 'N618AS', 'N8831L', 'N484UA', 'N334DN', 'N220UA', 'N466UA', 'N157AA', 'N65832', 'N945SW', 'N381DZ', 'N8830Q', 'N210WN', 'N8814K', 'N177XF', 'N233LV', 'N63820', 'N38443', 'N480UA', 'N818UA', 'N8886C', 'N27255', 'N801UA', 'N331FR', 'N487UA', 'N816UA', 'N8529Z', 'N8311Q', 'N983SW', 'N4888U', 'N7850B', 'N624UX', 'N854UA', 'N923US', 'N163AA', 'N934AA', 'N27292', 'N435AN', 'N26910', 'N947WN', 'N968JT', 'N221UA', 'N57863', 'N47533', 'N792SK', 'N430UA', 'N23983', 'N38424', 'N156SY', 'N447UA', 'N791SK', 'N133SY', 'N8702L', 'N274SY', 'N12225', 'N8655D', 'N8808Q', 'N327NW', 'N7750A', 'N7881A', 'N410WN', 'N261SY', 'N412SY', 'N8743K', 'N281SY', 'N382FR', 'N506AS', 'N283WN', 'N432UA', 'N8627B', 'N272AK', 'N64844', 'N449UA', 'N814AW', 'N764US', 'N863RW', 'N780UA', 'N47570', 'N807NN', 'N519JB', 'N17233', 'N601NK', 'N57868', 'N68811', 'N714US', 'N776SK', 'N865RW', 'N12754', 'N428UA', 'N889NN', 'N873RW', 'N719EV', 'N62894', 'N282NN', 'N243NN', 'N961SW', 'N87531', 'N779RN', 'N283SY', 'N303SY', 'N523DE', 'N534AS', 'N386DN', 'N910NN', 'N816AW', 'N563NN', 'N445YX', 'N589JB', 'N520AS', 'N324JB', 'N784SW', 'N715UW', 'N824AW', 'N401YX', 'N429YX', 'N215NN', 'N8030F', 'N533AE', 'N720PS', 'N317JB', 'N804AW', 'N572NN', 'N510AE', 'N511AE', 'N440YX', 'N521AE', 'N281AK', 'N924US', 'N575UW', 'N901NN', 'N167US', 'N190UW', 'N678NK', 'N152AA', 'N962AN', 'N942NN', 'N134AN', 'N328NW', 'N156AN', 'N821UA', 'N931AN', 'N603FR', 'N943AN', 'N393FR', 'N160AN', 'N306DU', 'N990AU', 'N169UW', 'N348NW', 'N944AN', 'N664AW', 'N982AN', 'N966NN', 'N930AU', 'N732US', 'N972NN', 'N947AN', 'N8001N', 'N655AW', 'N749US', 'N905AN', 'N708EV', 'N708SK', 'N291NN', 'N232NN', 'N9026C', 'N550NN', 'N612QX', 'N922NN', 'N838AW', 'N724EV', 'N707EV', 'N562NN', 'N763SK', 'N394FR', 'N8844Q', 'N330FR', 'N124AA', 'N146AA', 'N755YX', 'N829AW', 'N945AT', 'N531NK', 'N720FR', 'N390FR', 'N748UW', 'N568NN', 'N548NN', 'N535US', 'N516NK', 'N911DQ', 'N113DX', 'N79541', 'N590NW', 'N516DA', 'N145DQ', 'N317SY', 'N289NV', 'N607CZ', 'N948AT', 'N306AS', 'N511DE', 'N154UW', 'N156UW', 'N8848Q', 'N377DE', 'N632NK', 'N519DT', 'N8674B', 'N348NB', 'N942JB', 'N452AN', 'N590AS', 'N881DN', 'N650NK', 'N983JT', 'N177DZ', 'N937NK', 'N928VA', 'N7727A', 'N912SW', 'N201LV', 'N7833A', 'N493WN', 'N971AK', 'N118DY', 'N955AK', 'N924AK', 'N184JB', 'N540UW', 'N520DE', 'N8604K', 'N809UA', 'N996JL', 'N373DA', 'N903JB', 'N924NN', 'N340DN', 'N202JQ', 'N390HA', 'N3008J', 'N895DN', 'N210JQ', 'N229JB', 'N3736C', 'N952WN', 'N437YX', 'N113HQ', 'N519AS', 'N918NK', 'N975UY', 'N519NK', 'N68843', 'N400WN', 'N944NK', 'N203WN', 'N901WN', 'N37538', 'N936NN', 'N208WN', 'N68801', 'N341FR', 'N238AK', 'N514DE', 'N998JE', 'N909AM', 'N8711Q', 'N338NV', 'N665NK', 'N8767M', 'N8326F', 'N8514F', 'N208NV', 'N8543Z', 'N256NV', 'N408AS', 'N933AK', 'N912NN', 'N497UA', 'N820UA', 'N496UA', 'N735SA', 'N8327A', 'N495WN', 'N334JB', 'N512NK', 'N932WN', 'N7877H', 'N736SA', 'N414AL', 'N17254', 'N510NK', 'N676NK', 'N37420', 'N348DN', 'N584NW', 'N547JB', 'N37434', 'N776DE', 'N648JB', 'N449WN', 'N690NK', 'N7831B', 'N617NK', 'N636JB', 'N686NK', 'N722FR', 'N955WN', 'N8629A', 'N711FR', 'N363FR', 'N979AK', 'N216HA', 'N8769Q', 'N479HA', 'N467AS', 'N950AT', 'N849UA', 'N198UW', 'N494UA', 'N27901', 'N37555', 'N751UW', 'N977NK', 'N949NK', 'N155UW', 'N301NW', 'N872NN', 'N980NN', 'N638NK', 'N584NN', 'N770UW', 'N982VJ', 'N583NN', 'N901AN', 'N157UW', 'N815NN', 'N827AW', 'N712US', 'N701UW', 'N573NN', 'N70020', 'N828AW', 'N127UW', 'N679AW', 'N517DN', 'N902NN', 'N165SY', 'N805DN', 'N130DU', 'N120DN', 'N8548P', 'N378DN', 'N550WN', 'N243WN', 'N291SY', 'N252SY', 'N919EV', 'N315AS', 'N589NW', 'N470WN', 'N268AK', 'N489WN', 'N8577Z', 'N384FR', 'N525AS', 'N310DU', 'N557AS', 'N585AS', 'N304DN', 'N940WN', 'N8618N', 'N8825Q', 'N904WN', 'N8676A', 'N269WN', 'N75853', 'N374FR', 'N8625A', 'N7849A', 'N8624J', 'N396DA', 'N27511', 'N385FR', 'N987AM', 'N164SY', 'N37537', 'N76508', 'N909EV', 'N778UA', 'N204WN', 'N933EV', 'N354FR', 'N8694E', 'N937EV', 'N317AS', 'N14219', 'N37474', 'N227UA', 'N948AK', 'N419UA', 'N283AK', 'N954AK', 'N702TW', 'N197DN', 'N920AK', 'N990NN', 'N528AS', 'N147AA', 'N908SW', 'N105SY', 'N963SW', 'N196SY', 'N789SK', 'N263SY', 'N222WN', 'N8776L', 'N249WN', 'N583UW', 'N271SY', 'N331NV', 'N325US', 'N651AW', 'N7867A', 'N323AS', 'N960AK', 'N235FR', 'N560UW', 'N191UW', 'N161UW', 'N660AW', 'N516SY', 'N8690A', 'N75428', 'N214NN', 'N821AW', 'N8318F', 'N8771D', 'N210NN', 'N737US', 'N87527', 'N973UY', 'N685NK', 'N37422', 'N646NK', 'N378SC', 'N290NN', 'N893UA', 'N604CZ', 'N61886', 'N844NN', 'N751YX', 'N122DU', 'N39728', 'N641RW', 'N850UA', 'N645RW', 'N897UA', 'N946SW', 'N909SW', 'N776MS', 'N958SW', 'N280NN', 'N959SW', 'N505DZ', 'N845MH', 'N828JB', 'N116AN', 'N187DN', 'N637JB', 'N610CZ', 'N994JL', 'N603JB', 'N179JB', 'N296PQ', 'N355JB', 'N298PQ', 'N137EV', 'N789JB', 'N225JQ', 'N119HQ', 'N706JB', 'N181PQ', 'N238JB', 'N314PQ', 'N976JT', 'N645JB', 'N206JB', 'N293PQ', 'N444YX', 'N186PQ', 'N538CA', 'N37408', 'N27733', 'N27251', 'N779UA', 'N121DU', 'N87507', 'N904EV', 'N434AS', 'N970SW', 'N420WN', 'N993AT', 'N1804U', 'N939NN', 'N871RW', 'N535AS', 'N486HA', 'N1808U', 'N8742M', 'N194UW', 'N976UY', 'N27270', 'N523UW', 'N968AN', 'N890NN', 'N200NV', 'N275NN', 'N886NN', 'N907NN', 'N849NN', 'N972AN', 'N112US', 'N768AA', 'N204NN', 'N606SK', 'N208AN', 'N740SK', 'N760US', 'N588NN', 'N716SK', 'N533AS', 'N508AS', 'N921NK', 'N966WN', 'N87512', 'N139SY', 'N978NN', 'N174SY', 'N138SY', 'N801DZ', 'N886DN', 'N344DN', 'N595NW', 'N104DU', 'N114DN', 'N358NW', 'N689CA', 'N134EV', 'N926VA', 'N615NK', 'N772UA', 'N362NB', 'N981NN', 'N967JT', 'N422AN', 'N352NW', 'N871AY', 'N8637A', 'N178DN', 'N115NN', 'N175DN', 'N713SK', 'N710SK', 'N469AS', 'N929DZ', 'N79521', 'N8528Q', 'N291BT', 'N947JB', 'N3023J', 'N873DN', 'N948JB', 'N87513', 'N929NN', 'N973JT', 'N3767', 'N266JB', 'N258JB', 'N231JQ', 'N738US', 'N3104J', 'N318JB', 'N823AW', 'N108UW', 'N822DN', 'N350DN', 'N118HQ', 'N659DL', 'N321US', 'N602NK', 'N678DL', 'N395DN', 'N954AT', 'N996AT', 'N709UW', 'N833DN', 'N321DH', 'N347NW', 'N607SK', 'N303DN', 'N338NW', 'N334NB', 'N6706Q', 'N336DX', 'N613NK', 'N569WN', 'N692DL', 'N300PQ', 'N121DZ', 'N342NW', 'N915DU', 'N943AT', 'N13718', 'N897SK', 'N3760C', 'N929AT', 'N366DX', 'N552NW', 'N329PQ', 'N776WN', 'N899SK', 'N929XJ', 'N965AT', 'N8968E', 'N371CA', 'N292AK', 'N260WN', 'N658AW', 'N709BR', 'N562WN', 'N259SY', 'N7728D', 'N33264', 'N471UA', 'N557WN', 'N57855', 'N67827', 'N69806', 'N8717M', 'N403AS', 'N37514', 'N3758Y', 'N442WN', 'N37252', 'N389FR', 'N823UA', 'N401UA', 'N8824Q', 'N8710M', 'N398DA', 'N7862A', 'N76254', 'N211FR', 'N8816Q', 'N567WN', 'N217JC', 'N731SA', 'N403UA', 'N486UA', 'N8635F', 'N975SW', 'N407AS', 'N193SY', 'N77530', 'N78005', 'N440AN', 'N8523W', 'N924SW', 'N141SY', 'N198SY', 'N39450', 'N7883A', 'N34222', 'N929AK', 'N839UA', 'N206SY', 'N36272', 'N917UY', 'N8785L', 'N179SY', 'N7739A', 'N552AS', 'N7828A', 'N285WN', 'N3750D', 'N27263', 'N69885', 'N17262', 'N27269', 'N892NN', 'N736YX', 'N922VA', 'N69833', 'N35204', 'N653RW', 'N59053', 'N890UA', 'N810UA', 'N918XJ', 'N855RW', 'N68880', 'N943AK', 'N12114', 'N39461', 'N279MQ', 'N780SK', 'N949AN', 'N207SY', 'N113DQ', 'N668NK', 'N128DU', 'N347NB', 'N17752', 'N76065', 'N16713', 'N128SY', 'N459AN', 'N228FR', 'N902NK', 'N326FR', 'N119NN', 'N919NN', 'N207AN', 'N461AN', 'N149AN', 'N904AA', 'N350FR', 'N811AB', 'N521JB', 'N893NN', 'N283NN', 'N763US', 'N430AN', 'N877NN', 'N260NN', 'N138AN', 'N906NN', 'N242NN', 'N270NN', 'N815AW', 'N205NN', 'N716EV', 'N602UX', 'N8803L', 'N232PQ', 'N536NK', 'N696AE', 'N8569Z', 'N803DN', 'N8787K', 'N250SY', 'N655CA', 'N319NB', 'N958NN', 'N176PQ', 'N917DU', 'N101DQ', 'N486AS', 'N944JT', 'N12003', 'N755AN', 'N364DX', 'N906AA', 'N856NN', 'N934JB', 'N463AA', 'N349NB', 'N521SY', 'N106NN', 'N122SY', 'N57852', 'N454AL', 'N217UA', 'N8756S', 'N8837Q', 'N569AS', 'N864DN', 'N958WN', 'N956AN', 'N14240', 'N7752B', 'N570JB', 'N825NN', 'N682NK', 'N776UA', 'N892DN', 'N967NK', 'N7874B', 'N8626B', 'N611NK', 'N424WN', 'N907NK', 'N202SY', 'N354PT', 'N523JB', 'N254NN', 'N446UA', 'N8606C', 'N7731A', 'N151SY', 'N777QC', 'N8822Q', 'N8812Q', 'N640NK', 'N247WN', 'N248WN', 'N457UA', 'N33103', 'N724YX', 'N750YX', 'N518DQ', 'N17285', 'N328NB', 'N653AW', 'N802DN', 'N114DU', 'N8614M', 'N484WN', 'N595JB', 'N331NB', 'N360NB', 'N302SY', 'N496CA', 'N273AK', 'N8779Q', 'N131SY', 'N303AS', 'N117AN', 'N619UX', 'N852DN', 'N78866', 'N214HA', 'N154SY', 'N69830', 'N831UA', 'N144SY', 'N311DU', 'N910NK', 'N655NK', 'N16709', 'N7820L', 'N972AK', 'N468UA', 'N206WN', 'N8564Z', 'N8731J', 'N292WN', 'N67501', 'N149SY', 'N8663A', 'N27273', 'N694NK', 'N835UA', 'N453UA', 'N7813P', 'N76533', 'N515NK', 'N26232', 'N26226', 'N841UA', 'N160SY', 'N32404', 'N8542Z', 'N8738K', 'N8796L', 'N8654B', 'N267NN', 'N829SK', 'N8563Z', 'N314PD', 'N465AN', 'N546UW', 'N132DU', 'N181UW', 'N503JB', 'N969NK', 'N339PL', 'N994AN', 'N855NN', 'N139AN', 'N265NN', 'N654NK', 'N863NN', 'N148AN', 'N955NK', 'N798AN', 'N929AA', 'N956NN', 'N337PJ', 'N158AN', 'N766US', 'N274NN', 'N809NN', 'N935AE', 'N3014R', 'N766SK', 'N705SK', 'N774SK', 'N360HA', 'N834AA', 'N403WN', 'N405SY', 'N649NK', 'N513DA', 'N8652B', 'N345NW', 'N894AT', 'N116DN', 'N347DN', 'N817SK', 'N908DN', 'N323US', 'N605LR', 'N392DA', 'N585UW', 'N509AY', 'N950NK', 'N924VA', 'N91007', 'N511SY', 'N3762Y', 'N298SY', 'N926WN', 'N1602', 'N620UX', 'N409SY', 'N278SY', 'N238WN', 'N8843S', 'N958AK', 'N862DN', 'N662NK', 'N826SK', 'N949AT', 'N477UA', 'N859DN', 'N316PQ', 'N367DN', 'N146PQ', 'N319PQ', 'N940NK', 'N588NW', 'N995JL', 'N125DN', 'N915AN', 'N951WN', 'N8567Z', 'N69838', 'N7848A', 'N7878A', 'N952JB', 'N915WN', 'N362FR', 'N108DN', 'N8770Q', 'N8584Z', 'N8875B', 'N943NK', 'N332NV', 'N953AK', 'N107DU', 'N627JB', 'N618UX', 'N450WN', 'N871HK', 'N953WN', 'N8866H', 'N715SK', 'N305CL', 'N8842L', 'N267AK', 'N334FR', 'N359NW', 'N413AN', 'N309DN', 'N674DL', 'N6704Z', 'N456WN', 'N175DZ', 'N305DN', 'N332NW', 'N17303', 'N550NW', 'N717TW', 'N698DL', 'N836UA', 'N242WN', 'N551NW', 'N670DN', 'N668DN', 'N937WN', 'N9018E', 'N396DN', 'N603NK', 'N656NK', 'N302DN', 'N548US', 'N8870K', 'N809DN', 'N689DL', 'N988AT', 'N29717', 'N945DZ', 'N926AT', 'N803SK', 'N295PQ', 'N925XJ', 'N308PQ', 'N423AN', 'N179UW', 'N940AN', 'N4032T', 'N162UW', 'N572UW', 'N427AN', 'N703UW', 'N668AW', 'N984NN', 'N123DW', 'N579NN', 'N128UW', 'N589NN', 'N547NN', 'N222NS', 'N9006', 'N575NN', 'N8860S', 'N485UA', 'N334NW', 'N3756', 'N703JB', 'N312SY', 'N507DZ', 'N327DN', 'N913DU', 'N308DU', 'N251SY', 'N369NW', 'N137AA', 'N3732J', 'N977AK', 'N563AS', 'N560AS', 'N530AS', 'N559AS', 'N267WN', 'N329FR', 'N76529', 'N729JB', 'N236FR', 'N290WN', 'N405WN', 'N775UA', 'N483UA', 'N473UA', 'N8712L', 'N8579Z', 'N326US', 'N879UA', 'N386FR', 'N379DA', 'N78511', 'N77544', 'N280WN', 'N371DA', 'N8502Z', 'N8633A', 'N919WN', 'N136SY', 'N106SY', 'N7723E', 'N221PS', 'N472UA', 'N614UX', 'N76288', 'N913EV', 'N912EV', 'N916EV', 'N939AN', 'N194SY', 'N75858', 'N786UA', 'N796UA', 'N509SY', 'N722TW', 'N63899', 'N889DN', 'N531AS', 'N2748U', 'N8541W', 'N479WN', 'N208HA', 'N8320J', 'N8307K', 'N8537Z', 'N8570W', 'N8807L', 'N17229', 'N538UW', 'N415UA', 'N927AT', 'N140DU', 'N213NN', 'N141DU', 'N73275', 'N665DN', 'N74856', 'N920NN', 'N24702', 'N891NN', 'N316SE', 'N949NN', 'N750EV', 'N75851', 'N303RG', 'N873UA', 'N930AN', 'N806AW', 'N982NN', 'N881NN', 'N27290', 'N130SY', 'N57299', 'N108SY', 'N862RW', 'N910SW', 'N181DN', 'N532DN', 'N118DU', 'N377NW', 'N569JB', 'N969JT', 'N930XJ', 'N908XJ', 'N825DN', 'N602LR', 'N389DA', 'N287AK', 'N6716C', 'N620FR', 'N796JB', 'N247AK', 'N207JQ', 'N528NK', 'N739YX', 'N257NN', 'N427YX', 'N495HA', 'N359FR', 'N8634A', 'N276WN', 'N8677A', 'N8527Q', 'N8623F', 'N428WN', 'N337NW', 'N987AN', 'N928AM', 'N311DN', 'N355PU', 'N934NN', 'N991AU', 'N933AM', 'N552UW', 'N976AN', 'N762US', 'N444UW', 'N122NN', 'N947NN', 'N915NN', 'N302SA', 'N981AN', 'N8031M', 'N927NN', 'N342PM', 'N219NN', 'N247NN', 'N861NN', 'N945AN', 'N832NN', 'N201NN', 'N561NN', 'N128AN', 'N862NN', 'N586NN', 'N8027D', 'N90024', 'N992AU', 'N978AK', 'N265AK', 'N614AS', 'N3769L', 'N621FR', 'N8684F', 'N808AW', 'N551WN', 'N197JB', 'N898NN', 'N317FR', 'N652NK', 'N490UA', 'N353NB', 'N625CA', 'N106DN', 'N3065J', 'N307DX', 'N879DN', 'N376NW', 'N305SY', 'N170PQ', 'N352NB', 'N509DT', 'N624JB', 'N18220', 'N8530W', 'N803AW', 'N622NK', 'N986JB', 'N340NB', 'N77261', 'N38473', 'N964NN', 'N104NN', 'N837MH', 'N179DN', 'N773UA', 'N218HA', 'N28478', 'N281WN', 'N934AK', 'N975AK', 'N173SY', 'N413WN', 'N73276', 'N8561Z', 'N276NV', 'N27256', 'N950JT', 'N8665D', 'N460WN', 'N989AU', 'N919NK', 'N7832A', 'N709FR', 'N8656B', 'N142AN', 'N921NN', 'N323JB', 'N561UW', 'N806AA', 'N447WN', 'N303FR', 'N605JB', 'N386HA', 'N829AN', 'N417AN', 'N67052', 'N732SK', 'N305AS', 'N7749B', 'N479UA', 'N227WN', 'N184SY', 'N915AK', 'N8501V', 'N457AS', 'N8696E', 'N943WN', 'N914UY', 'N490WN', 'N539UW', 'N762SK', 'N744EV', 'N542UW', 'N8765Q', 'N264NN', 'N835AW', 'N8804L', 'N444WN', 'N954WN', 'N717EV', 'N449YX', 'N478UA', 'N795UA', 'N2737U', 'N655RW', 'N78438', 'N27268', 'N747YX', 'N608AT', 'N742YX', 'N68891', 'N301NV', 'N979RP', 'N820DX', 'N979NN', 'N14704', 'N570AS', 'N932NN', 'N498UA', 'N260SY', 'N806NN', 'N971NN', 'N324SH', 'N26215', 'N37464', 'N829NN', 'N412YX', 'N76502', 'N62889', 'N300LK', 'N763CC', 'N933JN', 'N77258', 'N8857Q', 'N723UW', 'N733UW', 'N904DN', 'N721FR', 'N17301', 'N8520Q', 'N307FR', 'N8308K', 'N426WN', 'N515DE', 'N8714Q', 'N8763L', 'N236AK', 'N613AS', 'N251AK', 'N813DN', 'N505NK', 'N358NB', 'N8619F', 'N582CA', 'N933AT', 'N387DN', 'N313SY', 'N355NB', 'N8313F', 'N876DN', 'N404AN', 'N616UX', 'N868NN', 'N8324A', 'N751AN', 'N153UW', 'N845NN', 'N823AN', 'N194DN', 'N8723Q', 'N69824', 'N559UW', 'N609AS', 'N318NB', 'N495AS', 'N127DU', 'N8580Z', 'N8761L', 'N938WN', 'N331NW', 'N8781Q', 'N252NN', 'N277AK', 'N6709', 'N581NW', 'N682DA', 'N867DN', 'N102DN', 'N944AT', 'N582NW', 'N695DL', 'N192DN', 'N966AT', 'N8583Z', 'N438YX', 'N681DA', 'N657NK', 'N545US', 'N8809L', 'N8933B', 'N925AT', 'N554NW', 'N395FR', 'N822DX', 'N964AT', 'N938AT', 'N8946A', 'N272PQ', 'N836AY', 'N282AK', 'N437WN', 'N584AS', 'N320US', 'N184US', 'N817DN', 'N311FR', 'N303DU', 'N214AK', 'N918AK', 'N3743H', 'N8775Q', 'N27205', 'N226WN', 'N1811U', 'N526JL', 'N322DN', 'N7844A', 'N8316H', 'N613UX', 'N7835A', 'N947SW', 'N743SK', 'N831DN', 'N452UA', 'N874UA', 'N400SY', 'N641JB', 'N463SW', 'N834UA', 'N39415', 'N2639U', 'N307DU', 'N907DN', 'N212HA', 'N251WN', 'N471AS', 'N508AY', 'N8753Q', 'N907WN', 'N8510E', 'N673AW', 'N306NY', 'N536UW', 'N371FR', 'N396FR', 'N838AA', 'N117UW', 'N16732', 'N975JT', 'N14235', 'N27266', 'N36447', 'N941AN', 'N222JQ', 'N36247', 'N661JB', 'N47275', 'N27722', 'N644RW', 'N102DU', 'N758SK', 'N171DZ', 'N34455', 'N916NK', 'N901AA', 'N955AN', 'N998AN', 'N927UW', 'N830NN', 'N821AN', 'N869NN', 'N183UW', 'N115DU', 'N986NN', 'N604SK', 'N230NN', 'N904NN', 'N263NN', 'N665AW', 'N261NN', 'N281NN', 'N248NN', 'N304KM', 'N211NN', 'N706SK', 'N285NN', 'N730EV', 'N754SK', 'N656CA', 'N973AK', 'N186DN', 'N980UY', 'N840NN', 'N119DU', 'N403YX', 'N963NN', 'N8546V', 'N917EV', 'N857DZ', 'N133DU', 'N899DN', 'N348PQ', 'N8683D', 'N523AS', 'N7839A', 'N481AS', 'N606NK', 'N807AW', 'N567NN', 'N337DN', 'N110DX', 'N594NW', 'N880UA', 'N896DN', 'N354DN', 'N669DN', 'N312DN', 'N344NB', 'N308DN', 'N939DZ', 'N931DQ', 'N952AT', 'N816SK', 'N554CA', 'N931XJ', 'N8691A', 'N8688J', 'N288WN', 'N289MW', 'N906AN', 'N119US', 'N658NK', 'N543UW', 'N309PQ', 'N834NN', 'N903AN', 'N835NN', 'N604AW', 'N122US', 'N745VJ', 'N585NN', 'N926UW', 'N528EG', 'N559NN', 'N702PS', 'N644AS', 'N605FR', 'N474AS', 'N750SA', 'N165US', 'N27477', 'N36472', 'N826UA', 'N210UA', 'N68822', 'N76265', 'N230WN', 'N652AW', 'N643JB', 'N76505', 'N7732A', 'N606FR', 'N448WN', 'N69818', 'N941WN', 'N291NV', 'N8556Z', 'N8833L', 'N786SW', 'N757UW', 'N215AK', 'N166SY', 'N241SY', 'N358FR', 'N453AA', 'N750UW', 'N663AW', 'N745SK', 'N613SK', 'N341DN', 'N494WN', 'N412UW', 'N316NV', 'N821DX', 'N931NK', 'N819DN', 'N454WN', 'N633NK', 'N625UX', 'N656AW', 'N788UA', 'N68805', 'N659UA', 'N913NN', 'N984JB', 'N768UA', 'N783UA', 'N204NV', 'N657RW', 'N27258', 'N259NV', 'N265JB', 'N3058J', 'N106HQ', 'N521DT', 'N789AN', 'N878DN', 'N840MH', 'N176DN', 'N625JB', 'N135HQ', 'N426YX', 'N430YX', 'N984AK', 'N118US', 'N724UW', 'N381FR', 'N62883', 'N500WR', 'N479PX', 'N336NW', 'N438WN', 'N957WN', 'N778XF', 'N708UW', 'N206JQ', 'N765US', 'N250NN', 'N614NN', 'N997AA', 'N163US', 'N578UW', 'N316PF', 'N831NN', 'N866NN', 'N301PA', 'N846NN', 'N630SK', 'N9029F', 'N916US', 'N820AW', 'N730SK', 'N941NN', 'N595NN', 'N246NN', 'N870DC', 'N217NN', 'N203NN', 'N310JZ', 'N278NN', 'N875NN', 'N400AN', 'N425AN', 'N292NN', 'N9019F', 'N269NN', 'N336RU', 'N917WN', 'N225WN', 'N62849', 'N549NN', 'N526EA', 'N426AN', 'N110UW', 'N659AW', 'N602NN', 'N705PS', 'N316FR', 'N775XF', 'N851DN', 'N848DN', 'N185DN', 'N310SY', 'N809SK', 'N886AS', 'N108NN', 'N319DN', 'N41140', 'N828AA', 'N751SK', 'N77543', 'N779SK', 'N935AK', 'N287WN', 'N336NB', 'N770SA', 'N506DA', 'N878RW', 'N64809', 'N3764D', 'N228JB', 'N236JB', 'N253NN', 'N419YX', 'N144DU', 'N143DU', 'N387DA', 'N919DU', 'N921DU', 'N127AA', 'N8310C', 'N802AN', 'N419AN', 'N969AN', 'N439UA', 'N172US', 'N302AS', 'N369FR', 'N371DN', 'N384DA', 'N996AN', 'N604NN', 'N587UW', 'N919AT', 'N890DN', 'N717JL', 'N8784Q', 'N8315C', 'N900PC', 'N834DN', 'N802SK', 'N8554X', 'N385HA', 'N782AN', 'N8733M', 'N8791D', 'N8672F', 'N8729H', 'N8698B', 'N827SK', 'N26909', 'N463UA', 'N949WN', 'N111DC', 'N804DN', 'N370NB', 'N304DU', 'N517AS', 'N27526', 'N8615E', 'N29977', 'N153SY', 'N675NK', 'N8607M', 'N200WN', 'N235WN', 'N47517', 'N265WN', 'N18223', 'N262SY', 'N503DZ', 'N782UA', 'N77431', 'N453WN', 'N439WN', 'N47524', 'N205WN', 'N7736A', 'N423WN', 'N7724A', 'N997NN', 'N8575Z', 'N8757L', 'N709SK', 'N647AW', 'N819NN', 'N8658A', 'N8735L', 'N324FR', 'N503SY', 'N842NN', 'N507SY', 'N7751A', 'N860NN', 'N20904', 'N37287', 'N982AT', 'N880NN', 'N808UA', 'N766JM', 'N338PK', 'N402UA', 'N409YX', 'N37508', 'N923AE', 'N825UA', 'N918SW', 'N922AE', 'N8644C', 'N7882B', 'N974UY', 'N558JB', 'N13720', 'N991NN', 'N915US', 'N840AW', 'N912UY', 'N227NN', 'N772SK', 'N408AN', 'N899NN', 'N780AN', 'N809JB', 'N900DU', 'N963AN', 'N937AN', 'N989AN', 'N974AN', 'N506NK', 'N298FR', 'N335RT', 'N7843A', 'N586AS', 'N37281', 'N619AS', 'N390DA', 'N877DN', 'N67171', 'N895AT', 'N407YX', 'N297SY', 'N913WN', 'N228WN', 'N925UY', 'N7742B', 'N359DN', 'N679NK', 'N935AT', 'N235JQ', 'N963AT', 'N909XJ', 'N562AS', 'N77552', 'N368JB', 'N239JB', 'N939WN', 'N354JB', 'N17122', 'N952NN', 'N4048J', 'N243JQ', 'N3768', 'N281JB', 'N279JB', 'N383DN', 'N542DE', 'N128DN', 'N37510', 'N531DA', 'N366FR', 'N927WN', 'N8869L', 'N492WN', 'N923NK', 'N645NK', 'N8900L', 'N914DU', 'N543US', 'N660DL', 'N169DZ', 'N802NN', 'N543DE', 'N107HQ', 'N912DU', 'N676DL', 'N899AT', 'N365DN', 'N388DA', 'N827DN', 'N958DZ', 'N997AT', 'N376CA', 'N992AT', 'N527DE', 'N904AN', 'N8328A', 'N978NK', 'N8716B', 'N162AA', 'N330NW', 'N524NK', 'N57869', 'N656JB', 'N974JT', 'N878NN', 'N971AN', 'N517JB', 'N763SW', 'N8774Q', 'N37531', 'N443UA', 'N37542', 'N8734Q', 'N909WN', 'N8509U', 'N971SW', 'N140SY', 'N243NV', 'N7875A', 'N601AW', 'N900WN', 'N233FR', 'N66808', 'N446AN', 'N266WN', 'N7827A', 'N57286', 'N811NN', 'N502SY', 'N8789Q', 'N8728Q', 'N770SK', 'N744P', 'N7863A', 'N17730', 'N829UA', 'N119SY', 'N111HQ', 'N451YX', 'N75861', 'N920AT', 'N307TA', 'N960NN', 'N861RW', 'N772MR', 'N14230', 'N117SY', 'N930EV', 'N915EV', 'N434YX', 'N431YX', 'N989JT', 'N706TW', 'N835MH', 'N200PQ', 'N229JQ', 'N213JQ', 'N565JB', 'N3753', 'N913JB', 'N937XJ', 'N37561', 'N671NK', 'N520JB', 'N805JB', 'N783LC', 'N612NK', 'N825AW', 'N8535S', 'N967AK', 'N703AL', 'N527AS', 'N218WN', 'N597AS', 'N212WN', 'N875DN', 'N15712', 'N109HQ', 'N320SY', 'N691CA', 'N921EV', 'N38458', 'N922US', 'N893DN', 'N528DE', 'N14120', 'N332NB', 'N188DN', 'N105NN', 'N771UA', 'N8675A', 'N37534', 'N7734H', 'N804JB', 'N669NK', 'N196UW', 'N8513F', 'N950DZ', 'N7836A', 'N8852Q', 'N8707P', 'N496WN', 'N8838Q', 'N953DZ', 'N819AW', 'N583NW', 'N905DN', 'N553NW', 'N451AN', 'N667DN', 'N923WN', 'N361NB', 'N311PQ', 'N349PQ', 'N76515', 'N475WN', 'N38446', 'N834SK', 'N112DN', 'N8617E', 'N279SY', 'N273SY', 'N8859Q', 'N45440', 'N794SK', 'N173US', 'N391FR', 'N24202', 'N37255', 'N8531Q', 'N762SW', 'N430SW', 'N903EV', 'N75432', 'N342RX', 'N68823', 'N4901U', 'N785UA', 'N603UX', 'N26902', 'N127SY', 'N765SW', 'N452WN', 'N473WN', 'N8651A', 'N275AK', 'N14249', 'N977NN', 'N462WN', 'N556UW', 'N448AN', 'N752US', 'N767SK', 'N437AN', 'N991AN', 'N318SF', 'N956AK', 'N553AS', 'N69804', 'N922AN', 'N7869A', 'N296AK', 'N123UW', 'N302RN', 'N882NN', 'N317PG', 'N878AS', 'N906NK', 'N326PQ', 'N805SK', 'N419AS', 'N27503', 'N930NK', 'N965NK', 'N563JB', 'N8746Q', 'N395HA', 'N406AN', 'N326NV', 'N7725A', 'N974AK', 'N353NW', 'N909DN', 'N837SK', 'N8928A', 'N251NN', 'N219YX', 'N8970D', 'N607LR', 'N8650F', 'N8571Z', 'N8834L', 'N8823Q', 'N7873A', 'N8687A', 'N8811L', 'N3731T', 'N927DZ', 'N540US', 'N825MH', 'N133HQ', 'N371NW', 'N8613K', 'N373NW', 'N555NW', 'N961DZ', 'N3744F', 'N320PQ', 'N913XJ', 'N940AT', 'N197PQ', 'N609SK', 'N301FR', 'N47282', 'N409AS', 'N584UW', 'N324RA', 'N224UA', 'N76503', 'N8545V', 'N8826Q', 'N792SW', 'N351FR', 'N969WN', 'N37413', 'N920WN', 'N8745K', 'N954SW', 'N113SY', 'N790SK', 'N917SW', 'N2136U', 'N869DN', 'N923VA', 'N162SY', 'N974NK', 'N532AS', 'N7842A', 'N8630B', 'N33714', 'N3755D', 'N506DN', 'N680AW', 'N8819L', 'N703SK', 'N213WN', 'N942AK', 'N580JB', 'N477HA', 'N885NN', 'N531EG', 'N596NN', 'N344NW', 'N738CB', 'N591NN', 'N908NN', 'N316RK', 'N919XJ', 'N996NN', 'N830SK', 'N936XJ', 'N932AT', 'N692CA', 'N585JB', 'N69810', 'N285AK', 'N320NB', 'N524DE', 'N301SY', 'N37700', 'N153AN', 'N581AS', 'N124US', 'N244WN', 'N8864H', 'N429WN', 'N389HA', 'N379HA', 'N298AK', 'N517SY', 'N265SY', 'N461SW', 'N377DN', 'N832UA', 'N39423', 'N37313', 'N8620H', 'N766JB', 'N37465', 'N37278', 'N8616C', 'N459WN', 'N8562Z', 'N202WN', 'N714FR', 'N223JS', 'N17264', 'N3737C', 'N959AN', 'N596AS', 'N2749U', 'N38268', 'N2142J', 'N782SK', 'N615UX', 'N917AK', 'N3749D', 'N8576Z', 'N576UW', 'N669AW', 'N559WN', 'N8884Q', 'N655JB', 'N742PS', 'N746SK', 'N549US', 'N693DL', 'N37567', 'N674NK', 'N8877Q', 'N3740C', 'N797UA', 'N872UA', 'N968AK', 'N17300', 'N14731', 'N749YX', 'N656RW', 'N27421', 'N315PE', 'N438UA', 'N37502', 'N68836', 'N816NN', 'N928AN', 'N769KW', 'N132SY', 'N466SW', 'N487CA', 'N37545', 'N3771K', 'N891UA', 'N838NN', 'N221NN', 'N8667D', 'N215JQ', 'N843NN', 'N905NN', 'N853NN', 'N439AN', 'N125UW', 'N244NN', 'N919US', 'N277NN', 'N771SK', 'N237NN', 'N612AS', 'N947AK', 'N994NN', 'N548CA', 'N738SK', 'N254SY', 'N901NK', 'N592NW', 'N935AN', 'N625NK', 'N354CA', 'N825SK', 'N367CA', 'N3734B', 'N556AS', 'N145AN', 'N970NK', 'N254WN', 'N8861Q', 'N9023N', 'N9010R', 'N953AT', 'N6707A', 'N936DZ', 'N845DN', 'N943DZ', 'N917XJ', 'N824SK', 'N990AK', 'N971UY', 'N8680C', 'N431AS', 'N189UW', 'N946JL', 'N12125', 'N804UA', 'N701BR', 'N977JE', 'N380HA', 'N116DU', 'N318TD', 'N17574', 'N604FR', 'N427WN', 'N336TM', 'N765SK', 'N707SK', 'N760SK', 'N69839', 'N670NK', 'N521UW', 'N858DZ', 'N12116', 'N929JB', 'N729YX', 'N228UA', 'N966NK', 'N982NK', 'N62892', 'N68061', 'N673NK', 'N834JB', 'N301PQ', 'N951NN', 'N599JB', 'N328JB', 'N3745B', 'N38257', 'N228NN', 'N214UA', 'N961AN', 'N907AN', 'N948NN', 'N712FR', 'N831AW', 'N954NN', 'N800AN', 'N8772M', 'N123NN', 'N972UY', 'N7819A', 'N125DU', 'N116HQ', 'N926EV', 'N536DN', 'N8312C', 'N837NN', 'N969NN', 'N935JB', 'N14106', 'N621JB', 'N8701Q', 'N587AS', 'N17306', 'N8748Q', 'N372DA', 'N3085J', 'N927XJ', 'N331PQ', 'N933XJ', 'N36207', 'N2151J', 'N332DN', 'N3125J', 'N746UW', 'N965JT', 'N204JQ', 'N214JQ', 'N605NK', 'N586UW', 'N980AN', 'N7817J', 'N904NK', 'N566JB', 'N177US', 'N409AA', 'N353FR', 'N370HA', 'N930WN', 'N8309C', 'N858RW', 'N35953', 'N906DN', 'N8628A', 'N8504G', 'N347FR', 'N17316', 'N279WN', 'N747UW', 'N810AW', 'N8323C', 'N8713M', 'N721UW', 'N303DD', 'N453AS', 'N6705Y', 'N69829', 'N928NN', 'N950NN', 'N37525', 'N476UA', 'N427UA', 'N967SW', 'N336SR', 'N344PP', 'N837AW', 'N930SW', 'N134HQ', 'N973SW', 'N111NG', 'N952AK', 'N37307', 'N916AN', 'N926NN', 'N657AW', 'N776AN', 'N624FR', 'N556NN', 'N164NN', 'N569NN', 'N202NN', 'N614QX', 'N914NN', 'N756SK', 'N615AS', 'N428AS', 'N544EA', 'N325NV', 'N816DN', 'N986AT', 'N931EV', 'N321NB', 'N884DN', 'N335PH', 'N3757D', 'N103DU', 'N323NB', 'N508NK', 'N987NN', 'N933WN', 'N464AS', 'N379DN', 'N622FR', 'N24736', 'N309FR', 'N322NB', 'N952NK', 'N8664J', 'N4005X', 'N6703D', 'N687DL', 'N361DN', 'N6712B', 'N935DZ', 'N955DZ', 'N949DZ', 'N924DZ', 'N781UA', 'N775AN', 'N120SY', 'N329DN', 'N612FR', 'N8621A', 'N606UX', 'N232FR', 'N38417', 'N27568', 'N17529', 'N981JT', 'N943JT', 'N468AS', 'N8686A', 'N8321D', 'N964WN', 'N197UW', 'N889UA', 'N791UA', 'N726YX', 'N979JT', 'N39726', 'N37263', 'N951AA', 'N303RE', 'N930NN', 'N804NN', 'N76517', 'N37563', 'N914EV', 'N874RW', 'N960SW', 'N955SW', 'N755SK', 'N37530', 'N879RW', 'N336PQ', 'N182DN', 'N759AN', 'N223JQ', 'N905XJ', 'N926XJ', 'N2060J', 'N516JB', 'N39297', 'N305NX', 'N240NN', 'N924AN', 'N808NN', 'N988NN', 'N276NN', 'N702SK', 'N832AW', 'N649AW', 'N12028', 'N611SK', 'N193NV', 'N37560', 'N442YX', 'N37293', 'N12238', 'N17566', 'N69816', 'N609NK', 'N8868L', 'N7735A', 'N573UW', 'N410UA', 'N612NN', 'N989AT', 'N983AN', 'N504AE', 'N613NN', 'N564NN', 'N448YX', 'N558NN', 'N560NN', 'N1809U', 'N33292', 'N27246', 'N650AW', 'N25201', 'N797SK', 'N14231', 'N8810L', 'N900UW', 'N972JT', 'N8856S', 'N880RW', 'N47512', 'N728YX', 'N884UA', 'N743YX', 'N37551', 'N553UW', 'N454UA', 'N343PN', 'N982SW', 'N929WN', 'N654AW', 'N928AK', 'N773AN', 'N215HA', 'N549AS', 'N910AN', 'N856DN', 'N417WN', 'N596NW', 'N17002', 'N69826', 'N343DN', 'N178DZ', 'N264LV', 'N346NB', 'N3044J', 'N652JB', 'N660NK', 'N230JQ', 'N635JB', 'N806JB', 'N244JQ', 'N239JQ', 'N234JQ', 'N421YX', 'N435YX', 'N101HQ', 'N1810U', 'N262NV', 'N844UA', 'N306JB', 'N572DZ', 'N672DL', 'N963DZ', 'N932DZ', 'N544DN', 'N638JB', 'N8550Q', 'N508JL', 'N718FR', 'N374HA', 'N830NW', 'N818NN', 'N140AN', 'N571NN', 'N519AE', 'N551NN', 'N871UA', 'N27271', 'N78501', 'N77573', 'N37528', 'N488UA', 'N17317', 'N77579', 'N788SA', 'N17104', 'N223UA', 'N76010', 'N712TW', 'N8805L', 'N823NN', 'N27734', 'N721YX', 'N495UA', 'N613JB', 'N422UA', 'N912AK', 'N872DN', 'N135EV', 'N873AS', 'N57111', 'N536JB', 'N447AN', 'N510SY', 'N934NK', 'N923AT', 'N980NK', 'N8517F', 'N384HA', 'N716FR', 'N644NK', 'N250NV', 'N7859B', 'N318NV', 'N321NV', 'N37305', 'N317NV', 'N8538V', 'N53442', 'N249NN', 'N154AA', 'N768JB', 'N583JB', 'N626NK', 'N665JB', 'N815NW', 'N876AL', 'N925WN', 'N29968', 'N27260', 'N981UY', 'N372FR', 'N553NN', 'N491PX', 'N848NN', 'N926AN', 'N594NN', 'N527EA', 'N694DL', 'N920DU', 'N395DZ', 'N985NN', 'N474UA', 'N970UY', 'N8303R', 'N37504', 'N73445', 'N311NV', 'N335FR', 'N310FR', 'N273WN', 'N614FR', 'N282WN', 'N234WN', 'N346FR', 'N12216', 'N37018', 'N215UA', 'N37553', 'N8648A', 'N3112J', 'N579UW', 'N407WN', 'N319TE', 'N876UA', 'N653JB', 'N667NK', 'N680NK', 'N561JB', 'N17302', 'N207NV', 'N423AS', 'N298NV', 'N562JB', 'N237NV', 'N13716', 'N310NV', 'N827UA', 'N47284', 'N203SY', 'N966AN', 'N9004F', 'N532NK', 'N768RD', 'N919AN', 'N182UW', 'N308TB', 'N206NN', 'N37427', 'N304RB', 'N833AW', 'N509JB', 'N77259', 'N37257', 'N464UA', 'N448UA', 'N248NV', 'N520DC', 'N108HQ', 'N232JQ', 'N424AN', 'N808AN', 'N713UW', 'N126DN', 'N804SK', 'N8682B', 'N501SY', 'N568DZ', 'N913AN', 'N13110', 'N441UW', 'N712NK', 'N788SK', 'N990AN', 'N840SK', 'N8840Q', 'N8657B', 'N9021H', 'N958JB', 'N56859', 'N983AK', 'N882BL', 'N196DN', 'N593JB', 'N319DU', 'N294SY', 'N647NK', 'N418WN', 'N610FR', 'N497WN', 'N8908Q', 'N876AS', 'N37527', 'N631FR', 'N27323', 'N8904L', 'N77578', 'N8911Q', 'N37456', 'N191NV', 'N718SK', 'N934AN', 'N24715', 'N292SY', 'N132AN', 'N167AN', 'N696NK', 'N469AN', 'N918AN', 'N957NN', 'N600NN', 'N259NN', 'N299JJ', 'N590NN', 'N238NN', 'N643RW', 'N306SW', 'N321TG', 'N306RC', 'N399DA', 'N328TC', 'N7847A', 'N37556', 'N630JB', 'N971NK', 'N199DN', 'N307AS', 'N323SG', 'N299WN', 'N7812G', 'N559JB', 'N403AN', 'N826NW', 'N119DN', 'N277WN', 'N963AK', 'N57439', 'N186SY', 'N845UA', 'N354NB', 'N68834', 'N903WN', 'N612UX', 'N309DU', 'N25705', 'N47281', 'N14001', 'N66825', 'N47288', 'N2047J', 'N384DN', 'N967NN', 'N721TW', 'N1603', 'N923XJ', 'N300SY', 'N604NK', 'N970JB', 'N960DZ', 'N184GJ', 'N307SY', 'N458AL', 'N460AN', 'N19951', 'N806DN', 'N115DN', 'N8741L', 'N402AS', 'N283NV', 'N763JB', 'N76523', 'N238FR', 'N936AK', 'N908EV', 'N8749Q', 'N7868K', 'N557UW', 'N718EV', 'N24979', 'N132HQ', 'N733YX', 'N640RW', 'N765ST', 'N33286', 'N908AE', 'N980SW', 'N35407', 'N77542', 'N30401', 'N646RW', 'N73256', 'N921US', 'N421UW', 'N654RW', 'N662AW', 'N516AE', 'N539EA', 'N412DX', 'N607AT', 'N370NW', 'N498CA', 'N45956', 'N874AN', 'N202HA', 'N346JB', 'N921AK', 'N312FR', 'N902DN', 'N308NV', 'N8693A', 'N202NV', 'N315NV', 'N8817L', 'N831MH', 'N734SA', 'N6715C', 'N327NB', 'N833AY', 'N8877A', 'N901XJ', 'N351JB', 'N534JB', 'N732SW', 'N294PQ', 'N944NN', 'N341RW', 'N455UA', 'N955JB', 'N67134', 'N151AN', 'N832AA', 'N293NN', 'N753SK', 'N419DX', 'N27903', 'N623NK', 'N210FR', 'N527NK', 'N915AT', 'N302NB', 'N3772H', 'N245NV', 'N8912Q', 'N962AK', 'N925NK', 'N627NK', 'N17565', 'N8899H', 'N286NV', 'N8507C', 'N939NK', 'N633JB', 'N616FR', 'N377DA', 'N8551Q', 'N284JB', 'N1807U', 'N8897K', 'N533DT', 'N7826B', 'N8901Q', 'N953SW', 'N629FR', 'N27261', 'N24212', 'N17105', 'N848UA', 'N457SW', 'N28912', 'N45905', 'N341SV', 'N33289', 'N8642E', 'N136DQ', 'N121UW', 'N8786Q', 'N314RH', 'N894NN', 'N629JB', 'N122HQ', 'N17322', 'N171DN', 'N1605', 'N753AN', 'N909AN', 'N264AK', 'N695CA', 'N129HQ', 'N280AK', 'N66831', 'N37562', 'N978JB', 'N247NV', 'N957JB', 'N587JB', 'N77066', 'N75436', 'N854NN', 'N237JQ', 'N568UW', 'N864NN', 'N109UW', 'N597NN', 'N555NN', 'N875UA', 'N963WN', 'N488WN', 'N854AS', 'N14115', 'N518AS', 'N211UA', 'N209WN', 'N221WN', 'N418AN', 'N359PX', 'N8573Z', 'N8835Q', 'N507JT', 'N962JT', 'N103NN', 'N205JQ', 'N105HQ', 'N112HQ', 'N303PQ', 'N195PQ', 'N37577', 'N813UA', 'N878UA', 'N24729', 'N853UA', 'N978SW', 'N630NK', 'N7720F', 'N8836Q', 'N155NN', 'N821NN', 'N873NN', 'N897NN', 'N288NN', 'N239NN', 'N518AE', 'N836DN', 'N297PQ', 'N133EV', 'N460SW', 'N517DZ', 'N728SK', 'N8532S', 'N36962', 'N620NK', 'N299NV', 'N433AS', 'N847DN', 'N8867Q', 'N274NV', 'N7856A', 'N305NV', 'N422WN', 'N684DA', 'N178US', 'N338ST', 'N343RY', 'N744SK', 'N839NN', 'N131HQ', 'N75435', 'N778RH', 'N152SY', 'N635RW', 'N537JT', 'N187GJ', 'N433YX', 'N416YX', 'N279PQ', 'N195NV', 'N382DA', 'N343NB', 'N8873S', 'N333NW', 'N8685B', 'N793JB', 'N230HA', 'N66837', 'N697DL', 'N956DZ', 'N107DN', 'N390CA', 'N3741S', 'N182GJ', 'N903XJ', 'N600LR', 'N819AN', 'N712JB', 'N538EG', 'N581NN', 'N491UA', 'N929EV', 'N891DN', 'N308RD', 'N8639B', 'N812AW', 'N339SU', 'N702NK', 'N423YX', 'N727SK', 'N462UA', 'N209HA', 'N226JQ', 'N136HQ', 'N3748Y', 'N302DU', 'N607JB', 'N957SW', 'N594AS', 'N822AN', 'N639NK', 'N7726A', 'N19117', 'N2747U', 'N915SW', 'N8708Q', 'N942AN', 'N461WN', 'N760JB', 'N754YX', 'N677NK', 'N664MS', 'N622AE', 'N661JA', 'N668HH', 'N939AE', 'N928AE', 'N9012', 'N851NN', 'N957AN', 'N878BG', 'N399HA', 'N410DZ', 'N754SW', 'N8555Z', 'N839SK', 'N8782Q', 'N343FR', 'N2333U', 'N547US', 'N8818Q', 'N524UW', 'N926AK', 'N77559', 'N858NN', 'N614SK', 'N193JB', 'N292NV', 'N296NV', 'N8829Q', 'N445WN', 'N332FR', 'N123HQ', 'N804AN', 'N661AW', 'N453YX', 'N658CA', 'N266NN', 'N869RW', 'N856RW', 'N609NN', 'N105DU', 'N277NV', 'N8891Q', 'N708NK', 'N957AT', 'N557NW', 'N615FR', 'N7748A', 'N3766', 'N34137', 'N252NV', 'N334SM', 'N7815L', 'N8883Q', 'N66051', 'N531JL', 'N13248', 'N757YX', 'N727YX', 'N821MD', 'N879NN', 'N927AN', 'N624NK', 'N407AN', 'N709EV', 'N420UA', 'N16008', 'N491WN', 'N309NV', 'N333NV', 'N184DN', 'N552NN', 'N902XJ', 'N922AT', 'N17314', 'N405AN', 'N417UA', 'N8689C', 'N66814', 'N837AN', 'N710UW', 'N23707', 'N343SY', 'N827MH', 'N324RN', 'N27509', 'N278NV', 'N318FR', 'N37507', 'N432YX', 'N236NV', 'N8768Q', 'N209NV', 'N210NV', 'N824NW', 'N7829B', 'N8766T', 'N373HA', 'N38459', 'N212UA', 'N218PS', 'N693BR', 'N287NN', 'N926NK', 'N599NN', 'N924NK', 'N137HQ', 'N238JQ', 'N506CA', 'N8659D', 'N76269', 'N8612K', 'N2142U', 'N962SW', 'N2016J', 'N552JB', 'N612JB', 'N8306H', 'N895NN', 'N8640D', 'N480PX', 'N606JB', 'N690DL', 'N359NB', 'N817AW', 'N636NK', 'N66893', 'N651JB', 'N13014', 'N730YX', 'N8560Z', 'N144AN', 'N887NN', 'N19986', 'N171US', 'N984NK', 'N317DU', 'N3132J', 'N212NV', 'N8892S', 'N219NV', 'N7743B', 'N406WN', 'N961AT', 'N579JB', 'N506JB', 'N273JB', 'N8849Q', 'N7845A', 'N3761R', 'N240WN', 'N741UW', 'N864RW', 'N752YX', 'N9022G', 'N726AN', 'N537AS', 'N709NK', 'N512AE', 'N549CA', 'N7745A', 'N534DT', 'N9011P', 'N383HA', 'N812AA', 'N240JQ', 'N523AE', 'N593NN', 'N378DA', 'N253WN', 'N8917Q', 'N47569', 'N705TW', 'N946AN', 'N18119', 'N716UW', 'N793UA', 'N78002', 'N746JB', 'N801NN', 'N981NK', 'N969SW', 'N8871Q', 'N544US', 'N525DA', 'N204HA', 'N223HA', 'N411YX', 'N392HA', 'N557NN', 'N17550', 'N8798Q', 'N794AN', 'N78003', 'N358PW', 'N649RW', 'N242JQ', 'N307PQ', 'N190JB', 'N408UA', 'N228HA', 'N634RW', 'N161PQ', 'N949JT', 'N882RW', 'N999JQ', 'N218JQ', 'N67845', 'N8854Q', 'N922EV', 'N774JG', 'N928EV', 'N598JB', 'N935XJ', 'N824MD', 'N975NK', 'N306SP', 'N429UA', 'N618JB', 'N350RV', 'N290NV', 'N130AN', 'N664NK', 'N434AN', 'N7747C', 'N618NK', 'N8740A', 'N794UA', 'N807JB', 'N703NK', 'N241NV', 'N127HQ', 'N663NK', 'N375HA', 'N597JB', 'N103HQ', 'N541US', 'N936NK', 'N954DZ', 'N594JB', 'N813AW', 'N606NN', 'N537EA', 'N812NN', 'N282NV', 'N2135U', 'N316NB', 'N578NN', 'N794JB', 'N509AE', 'N754UW', 'N57864', 'N29961', 'N203NV', 'N413UA', 'N3118J', 'N815MD', 'N902AA', 'N813NW', 'N959JB', 'N244NV', 'N2645U', 'N2039J', 'N7821L', 'N564JB', 'N2027J', 'N827JB', 'N229NV', 'N224NV', 'N17017', 'N770JM', 'N12005', 'N109SY', 'N131EV', 'N107NN', 'N834MH', 'N2044J', 'N241JQ', 'N249JB', 'N526NK', 'N784AN', 'N326SJ', 'N12020', 'N315RJ', 'N194NV', 'N307JB', 'N771XF', 'N912NK', 'N7818L', 'N195DN', 'N110HQ', 'N6702', 'N492UA', 'N662JB', 'N839MH', 'N17279', 'N872RW', 'N309US', 'N275NV', 'N115HQ', 'N191DN', 'N192JB', 'N3062J', 'N2250U', 'N769US', 'N107US', 'N615NN', 'N580NN', 'N611UX', 'N126UW', 'N75410', 'N8574Z', 'N968NN', 'N324PQ', 'N507AE', 'N702BR', 'N644JB', 'N328NV', 'N746SW', 'N315PQ', 'N8837B', 'N835AY', 'N575DZ', 'N78060', 'N823DN', 'N738EV', 'N931AE', 'N613AE', 'N662EH', 'N283JB', 'N775JB', 'N201JQ', 'N659JB', 'N870NN', 'N38955', 'N761AJ', 'N623JB', 'N2002J', 'N858NW', 'N468AN', 'N17133', 'N943NN', 'N404UA', 'N292PQ', 'N860RW', 'N9017P', 'N442SW', 'N946NN', 'N29978', 'N521NK', 'N925VA', 'N414DZ', 'N723TW', 'N811UA', 'N917AN', 'N536EA', 'N535EA', 'N608JB', 'N8918B', 'N408DX', 'N871NN', 'N570NN', 'N608NN', 'N501BG', 'N27015', 'N229UA', 'N26906', 'N24973', 'N805NN', 'N929AN', 'N942LL', 'N101NN', 'N315SD', 'N205NV', 'N829NW', 'N405YX', 'N12006', 'N447YX', 'N293NV', 'N2846U', 'N406UA', 'N652BR', 'N111US', 'N27957', 'N787AL', 'N368CA', 'N936EV', 'N505DN', 'N872AN', 'N840UA', 'N114UW', 'N534AE', 'N373FR', 'N30913', 'N663AR', 'N27964', 'N245JQ', 'N2048J', 'N976SW', 'N176UW', 'N642UA', 'N684UA', 'N527JL', 'N642RW', 'N525AE', 'N826AN', 'N209NN', 'N718TW', 'N220JQ', 'N405UA', 'N261NV', 'N404WN', 'N14107', 'N12012', 'N504JB', 'N246JQ', 'N393HA', 'N335NV', 'N2534U', 'N413YX', 'N246NV', 'N816AA', 'N456AN', 'N923JB', 'N678CA', 'N217HA', 'N535NK', 'N986SW', 'N2038J', 'N138DU', 'N3102J', 'N216JQ', 'N396HA', 'N279NV', 'N921AN', 'N391CA', 'N540EG', 'N406YX', 'N554NN', 'N880BJ', 'N93003', 'N603NN', 'N404YX', 'N518DZ', 'N843MH', 'N2341U', 'N38451', 'N590JB', 'N425YX', 'N924XJ', 'N258NV', 'N875RW', 'N13954', 'N663JB', 'N2017J', 'N418YX', 'N327SK', 'N9015D', 'N822NN', 'N4064J', 'N532EA', 'N1200K', 'N817AN', 'N758AN', 'N76054', 'N29975', 'N2059J', 'N33294', 'N509NK', 'N953AN', 'N2332U', 'N2331U', 'N380DA', 'N815AA', 'N779AN', 'N2086J', 'N512DN', 'N199NV', 'N606LR', 'N519DN', 'N799UA', 'N166PQ', 'N180DN', 'N510JB', 'N180US', 'N508AE', 'N216FR', 'N709JB', 'N920EV', 'N17289', 'N17015', 'N1201P', 'N962DZ', 'N27276', 'N748YX', 'N885BP', 'N766YX', 'N312NV', 'N254NV', 'N280NV', 'N545DE', 'N838MH', 'N952DZ', 'N8872Q', 'N8885Q', 'N77576', 'N17333', 'N190NV', 'N78004', 'N47340', 'N17329', 'N218NV', 'N17321', 'N37318', 'N646JB', 'N828MH', 'N630FR', 'N704US', 'N514AE', 'N221JQ', 'N124HQ', 'N128HQ', 'N810AN', 'N285NV', 'N7722B', 'N688DL', 'N946DZ', 'N960AT', 'N959AT', 'N680DA', 'N805AW', 'N183JB', 'N720EV', 'N321RL', 'N529EA', 'N12010', 'N192NV', 'N334NV', 'N2138U', 'N27965', 'N313SB', 'N818MD', 'N341PQ', 'N38950', 'N840AN', 'N221NV', 'N337NV', 'N643UA', 'N226UA', 'N948AN', 'N841AN', 'N857NW', 'N17311', 'N330NV', 'N255NV', 'N1902U', 'N938DZ', 'N13018', 'N804NW', 'N23708', 'N844MH', 'N816NW', 'N859NN', 'N914XJ', 'N406DX', 'N834AY', 'N193DN', 'N319NV', 'N225UA', 'N220NV', 'N756US', 'N189DN', 'N418DX', 'N12004', 'N14016', 'N417DX', 'N238NV', 'N602XJ', 'N663UA', 'N873BB', 'N749SW', 'N870AX', 'N824NN', 'N633RW', 'N9025B', 'N485PX', 'N708JB', 'N742SK', 'N636RW', 'N29981', 'N810MD', 'N2156J', 'N807NW', 'N206UA', 'N78008', 'N9016', 'N216UA', 'N803NN', 'N655UA', 'N37437', 'N833AA', 'N822NW', 'N733SA', 'N842VA', 'N792UA', 'N190DN', 'N232NV', 'N215NV', 'N925AE', 'N906EV', 'N689EC', 'N465SW', 'N405DX', 'N641UA', 'N647UA', 'N16009', 'N875BD', 'N786AN', 'N861NW', 'N829MH', 'N574DZ', 'N318DU', 'N44501', 'N632SK', 'N639JB', 'N507NK', 'N748SW', 'N740YX', 'N75425', 'N948NK', 'N675UA', 'N26970', 'N209UA', 'N751SW', 'N916XJ', 'N954JB', 'N765AN', 'N799AN', 'N764YX', 'N833MH', 'N987NK', 'N27908', 'N886BR', 'N768YX', 'N253NV', 'N306DD', 'N902BC', 'N288NV', 'N197NV', 'N813AN', 'N77006', 'N530EA', 'N737JW', 'N806NW', 'N213HA', 'N67058', 'N69020', 'N297NV', 'N14011', 'N193UW', 'N760SW', 'N670AE', 'N196NV', 'N705UW', 'N8986B', 'N677UA', 'N792AN', 'N836AA', 'N257NV', 'N760AN', 'N8974C', 'N213FR', 'N839AA', 'N920XJ', 'N8903H', 'N331TK', 'N233NV', 'N767UW', 'N77014', 'N618NN', 'N515DN', 'N9002U', 'N2352U', 'N29984', 'N817NW', 'N879BH', 'N33132', 'N770AN', 'N546FF', 'N284NV', 'N905JH', 'N823MD', 'N601XJ', 'N642VA', 'N653AE', 'N713EV', 'N849VA', 'N705JB', 'N57016', 'N26966', 'N8889Q', 'N8890Q', 'N8909L', 'N649UA', 'N478PX', 'N515AE', 'N69059', 'N810NW', 'N881BK', 'N29985', 'N725UW', 'N240NV', 'N2084J', 'N506AE', 'N26960', 'N632JB', 'N76062', 'N447SW', 'N174DZ', 'N2140U', 'N12021', 'N77022', 'N546DN', 'N37308', 'N771JV', 'N17326', 'N14502', 'N402DX', 'N8906K', 'N826MH', 'N502DN', 'N411DX', 'N803AL', 'N827AN', 'N630VA', 'N629VA', 'N855VA', 'N176DZ', 'N706PS', 'N2157J', 'N78001', 'N342SX', 'N524AE', 'N24980', 'N28987', 'N657UA', 'N904XJ', 'N490PX', 'N573DZ', 'N648UA', 'N835AN', 'N631RW', 'N853NW', 'N66056', 'N26952', 'N14214', 'N16065', 'N13013', 'N706AL', 'N651UA', 'N756AM', 'N809CA', 'N413DX', 'N808NW', 'N852NW', 'N2644U', 'N616NN', 'N78013', 'N416DX', 'N727AN', 'N234NV', 'N708AL', 'N811NW', 'N857RW', 'N830AN', 'N2243U', 'N832MH', 'N26967', 'N788AN', 'N704AL', 'N272NV', 'N932AE', 'N909AE', 'N441SW', 'N74007', 'N825AA', 'N260NV', 'N511DN', 'N617NN', 'N172DZ', 'N752SK', 'N796AN', 'N831AA', 'N217NV', 'N330TJ', 'N619NN', 'N633FR', 'N922XJ', 'N482PX', 'N571DZ', 'N29907', 'N173DZ', 'N915XJ', 'N802NW', 'N407DX', 'N797AN', 'N446SW', 'N867RW', 'N766AN', 'N826MD', 'N941LT', 'N783AN', 'N2102J', 'N239NV', 'N771AN', 'N294NV', 'N306NV', 'N235NV', 'N870RW', 'N767AJ', 'N8965E', 'N777AN', 'N812NW', 'N403DX', 'N924EV', 'N504NK', 'N503NK', 'N507DN', 'N540DE', 'N705AL', 'N827NW', 'N906AT', 'N334TL', 'N824AN', 'N820AL', 'N676UA', 'N533NK', 'N242NV', 'N785AN', 'N860NW', 'N8893L', 'N505AE', 'N769YX', 'N569DZ', 'N644UA', 'N719AN', 'N420DX', 'N790AN', 'N795AN', 'N222NV', 'N73299', 'N504DN', 'N27959', 'N3139J', 'N941DZ', 'N503AE', 'N717AN', 'N251NV', 'N735AT', 'N836MH', 'N912XJ', 'N313NV', 'N295NV', 'N754AN', 'N791AN', 'N508DN', 'N801NW', 'N825NW', 'N8896L', 'N8920Q', 'N757AN', 'N452YX', 'N37325', 'N784UA', 'N673UA', 'N2251U', 'N916SW', 'N818AL', 'N514DN', 'N723AN', 'N685UA', 'N216NV', 'N3145J', 'N770YX', 'N803NW', 'N17320', 'N8894Q', 'N337TN', 'N679AE', 'N814AA', 'N662UA', 'N3142J', 'N778AN', 'N271NV', 'N633SK', 'N905EV', 'N818NW', 'N477CA', 'N29971', 'N934XJ', 'N17327', 'N722AN', 'N856NW', 'N820NW', 'N218UA', 'N842MH', 'N534NK', 'N868AS', 'N8932C', 'N502NK', 'N401DZ', 'N772AN', 'N8976E', 'N750AN', 'N14019', 'N809AA', 'N841MH', 'N17963', 'N828NW', 'N76021', 'N311VE', 'N633NN', 'N709AL', 'N570DZ', 'N77012', 'N658UA', 'N933DZ', 'N24972', 'N66057', 'N619AE', 'N501DN', 'N4074J', 'N821NW', 'N78017', 'N76055', 'N445SW', 'N774AN', 'N76064', 'N576DZ', 'N854NW', 'N8914Q', 'N323DU', 'N339TP', 'N724AN', 'N24976', 'N509DN', 'N549DN', 'N421DX', 'N654UA', 'N69063', 'N855NW', 'N8903A', 'N892AT', 'N79011', 'N3152J', 'N859NW', 'N656UA', 'N819NW', 'N4058J', 'N814NW', 'N805NW', 'F-HZEN', 'N781AN', 'N807AA', 'N73278', 'N729SW', 'N513DZ', 'N729AN', 'N666UA', 'N748EV', 'N762AN', 'N736AT', 'N809NW', 'N728AN', 'N15969', 'N851NW', 'N730AN', 'N639VA', 'N439SW', 'N841VA', 'N409DX', 'N733AR', 'N404DX', 'N220HA', 'N422DZ', 'N415DX', 'N923SW', 'N3149J', 'F-HHUG', 'N800AY', 'F-', 'N77295', 'N79279', 'N37298', 'N34282', 'N36280'],\n",
            "    \"Dep_Airport\": ['SEA', 'DEN', 'ORD', 'MDW', 'CVG', 'MCI', 'DTW', 'MCO', 'IAH', 'OKC', 'BOS', 'PHX', 'DCA', 'SAT', 'BWI', 'DSM', 'CID', 'IND', 'AVL', 'BIS', 'FCA', 'DLH', 'ATL', 'SLC', 'BDL', 'DFW', 'AUS', 'BNA', 'MIA', 'SMF', 'SFO', 'STL', 'MSP', 'OAK', 'JFK', 'RNO', 'ABQ', 'HNL', 'IAD', 'RDM', 'LIH', 'TUS', 'LAS', 'OGG', 'SJC', 'BUR', 'SBA', 'EWR', 'LAX', 'SAN', 'EUG', 'HOU', 'SNA', 'BOI', 'ELP', 'BLI', 'PDX', 'ONT', 'LGB', 'GEG', 'SGU', 'FAT', 'MSO', 'CLT', 'OMA', 'TPA', 'LGA', 'RDU', 'DAL', 'PHL', 'PIT', 'SRQ', 'JAC', 'COS', 'LBL', 'RAP', 'AMA', 'ASE', 'SBP', 'CPR', 'JMS', 'KOA', 'BZN', 'ACV', 'PSP', 'BFL', 'FLG', 'CHS', 'RSW', 'ORF', 'BTV', 'CLE', 'FAR', 'JAX', 'MSY', 'XNA', 'MSN', 'MKE', 'GTF', 'HIB', 'FLL', 'TUL', 'ROC', 'CMH', 'SYR', 'TYS', 'PLN', 'SGF', 'PAE', 'RIC', 'CHA', 'CRW', 'PBI', 'LIT', 'ALB', 'JAN', 'DAB', 'BTR', 'CAE', 'ICT', 'CHO', 'TRI', 'BQK', 'PSC', 'HPN', 'MEM', 'DAY', 'ATW', 'BHM', 'FNT', 'MBS', 'GRR', 'MHT', 'HHH', 'AGS', 'EYW', 'GRB', 'INL', 'FSD', 'BJI', 'MOT', 'MRY', 'PRC', 'MAF', 'SJU', 'GCC', 'IDA', 'GJT', 'GSO', 'MYR', 'BUF', 'ABE', 'SAV', 'PIB', 'TLH', 'HSV', 'VPS', 'GRK', 'SHV', 'BIL', 'AEX', 'MTJ', 'CRP', 'MGM', 'EVV', 'SIT', 'BRD', 'IMT', 'LAN', 'PVD', 'TVC', 'ELM', 'SDF', 'SCK', 'ITO', 'OTH', 'GSP', 'ILM', 'LBB', 'PNS', 'ECP', 'COU', 'RST', 'MFE', 'MFR', 'LEX', 'MLI', 'FAY', 'PWM', 'TWF', 'DRO', 'XWA', 'CNY', 'STS', 'PIA', 'FWA', 'CAK', 'CIU', 'DVL', 'SUN', 'DIK', 'BGR', 'MDT', 'ABI', 'SAF', 'TYR', 'HRL', 'ACT', 'GRI', 'SWO', 'ROW', 'AZA', 'RFD', 'PVU', 'ISP', 'STT', 'CDC', 'BRW', 'FAI', 'DDC', 'SHR', 'BFF', 'SLN', 'ITH', 'LCH', 'BMI', 'GNV', 'CSG', 'ABY', 'HDN', 'VEL', 'BQN', 'GPT', 'DRT', 'SJT', 'RDD', 'MLU', 'CMI', 'SBN', 'YUM', 'MOB', 'SPS', 'GCK', 'GFK', 'RHI', 'LFT', 'ADQ', 'OTZ', 'ADK', 'EGE', 'ANC', 'BIH', 'AVP', 'MVY', 'ACK', 'TTN', 'ROA', 'CWA', 'GTR', 'GUC', 'MHK', 'CLL', 'BPT', 'ABR', 'JNU', 'OME', 'ACY', 'BRO', 'FSM', 'PSG', 'HLN', 'LAR', 'ERI', 'TXK', 'STX', 'OAJ', 'SCC', 'BET', 'JST', 'ORH', 'LWS', 'HYS', 'BTM', 'SCE', 'CMX', 'KTN', 'LBE', 'CDV', 'LNK', 'AZO', 'EKO', 'LBF', 'MEI', 'MLB', 'VLD', 'DHN', 'FOD', 'GGG', 'APN', 'RIW', 'LRD', 'PSE', 'AKN', 'WRG', 'MCW', 'SUX', 'PIE', 'RKS', 'SPI', 'LAW', 'PIH', 'MQT', 'WYS', 'PGD', 'USA', 'SFB', 'GUM', 'LSE', 'DEC', 'DLG', 'PGV', 'CYS', 'SWF', 'SMX', 'COD', 'JLN', 'ESC', 'GST', 'VCT', 'YAK', 'PPG', 'PBG', 'HYA', 'BGM', 'BLV', 'LCK', 'ALW', 'EWN', 'PUB', 'CKB', 'HTS', 'PSM', 'ALO', 'HGR', 'TOL', 'STC', 'IAG', 'OWB', 'SPN'],\n",
            "    \"DepTime_label\": ['Night', 'Evening', 'Morning', 'Afternoon'],\n",
            "    \"Dep_Delay\": [-3, -5, 0, -1, 180, 211, 41, -7, -11, -4, 2, 5, -9, -10, -14, 7, 14, 10, 12, -8, 17, -6, 140, 32, 23, 3, 19, 1, 47, 8, 13, -13, 30, 94, -2, 6, 4, 22, 16, 18, 50, 40, 25, 57, 9, 15, 166, 29, 74, 232, 64, 162, 34, 26, 11, -12, 66, 28, 156, 105, 53, 46, 39, 60, 97, 151, 124, 27, 110, 43, 49, 31, 88, 135, 20, 107, 48, 61, 36, 42, 116, 51, 99, 115, 21, 131, 44, 96, 63, 83, 86, 33, 108, 111, 75, -15, 70, 68, 76, 38, 24, 45, 54, 300, 174, 114, 56, 184, 270, 304, 67, 80, 101, 98, 158, 130, -17, 153, 84, 37, 192, 95, 348, -16, -20, 52, 35, 77, -21, 62, 157, 72, -25, 170, 197, 149, 89, 104, 82, 141, 78, 129, 208, 286, 100, 58, 79, -19, 125, 172, 59, 127, 112, 169, 128, 138, -18, 237, 684, 465, 73, 224, 538, 406, 326, 194, 248, 120, 71, 2281, 109, 103, -24, 311, 87, 136, 65, 200, 861, 205, 168, 69, 118, -22, 113, 55, 188, 142, 91, 242, 122, 209, 193, 216, 347, 147, 106, 414, 85, 139, 238, 173, 839, 364, 278, 119, 257, 81, 302, 263, 102, 182, 382, 117, 322, 922, 281, 297, 150, 90, 309, 146, 229, 228, 1326, 160, 145, 133, 213, 1044, 181, 121, 185, 179, 126, 273, 313, 177, 668, 134, 183, 210, 289, 239, -28, 235, 206, 372, 892, 457, 164, 92, 468, 723, 165, 244, 203, 1099, 264, 399, 225, 291, 152, 137, 363, 202, 319, 144, 93, -31, 163, 486, 412, 298, 790, 161, 275, 132, 143, 240, 351, 155, 262, 497, 274, 566, 542, 1223, 226, 271, 417, 148, 458, 201, 243, 195, 154, 424, 518, 1130, 501, 187, 344, 331, 303, -30, 1133, 290, 230, 315, 939, 207, 123, 234, 904, 383, 249, 456, 198, 256, 176, 247, 321, 600, 241, 159, 425, 314, 1306, -23, 276, 427, 360, 385, 396, 196, 227, 379, 361, 490, 369, 366, 259, 388, 389, 334, 218, 260, 255, 245, 246, 288, 343, 444, 266, 265, 253, 398, 623, 171, 267, 221, 801, 317, 167, 738, 1153, 459, 614, 175, 204, 223, 1363, 186, 308, 580, -27, 1139, 280, 390, 842, 1065, 1084, 330, 287, 572, 519, 2111, 236, 332, 582, 370, 338, 421, 420, 402, 470, 359, 650, 806, 431, 282, 433, 726, 178, 310, 1761, 349, 711, 423, 482, 190, 386, 337, 438, 189, 1036, 284, 621, 301, 2728, 1373, 747, 328, 371, 487, 285, 272, -33, 258, 941, 191, 214, 316, 659, 336, 422, 222, 756, 419, 843, 902, 1179, 212, 268, 320, 217, 299, 764, 231, 305, 543, 233, 1395, 601, 1750, 722, 1091, 220, 982, 318, 293, 1660, 1649, 395, 683, 342, 345, 377, 984, 762, 269, 353, 524, 312, 292, 1149, 977, 1470, 261, 1034, 885, 199, 531, 924, 610, 307, 732, 1415, 295, 279, 355, 545, 552, 436, 400, 563, 691, 453, 994, 848, 219, 853, 744, 544, 1313, 294, 1087, 962, 492, 989, 2705, 408, 1170, 804, 392, 517, 585, 639, 375, 921, 657, -26, 569, 970, 1109, 661, 479, 435, 514, 283, 929, 339, 440, 622, 549, 774, 335, 437, 215, 333, 401, 1375, 367, 475, 1021, 721, 677, 250, 660, 512, 937, 397, 1518, 559, 1319, 329, 494, 352, 251, 483, 405, 1056, 407, 770, 1376, 327, 410, 859, 516, 254, 979, 381, 895, 252, 1366, 485, 652, 1441, 1469, 1612, 916, 384, 346, 953, 477, 500, 949, 800, 341, 695, 717, 876, 306, 1852, 576, 445, 439, 513, 667, 965, 815, 1268, 976, -35, 936, 891, 846, 583, 619, 350, 844, 771, 1078, 1032, 1340, 378, 526, 884, 1050, 845, 733, -43, 696, 633, 1764, 676, 529, 441, 449, 527, 451, 511, 739, 1165, 296, 1082, 788, 380, 663, -29, 985, 881, 1085, 912, 1071, 617, 374, 448, 974, 557, 463, 832, 474, 354, 983, 581, 894, 596, 867, 358, 491, 765, 523, 811, 1013, 874, 1117, 1148, 426, 768, 539, 1481, 1224, 781, 681, 1345, 2395, 323, 685, 387, 452, 675, 1048, 792, 672, 1200, 577, 785, 416, 564, 393, 602, 634, 560, 537, 403, 567, 831, 783, 1255, 1996, 1000, 1008, 825, 909, 649, 882, 362, 704, 938, 522, 670, 324, 460, 860, 446, 918, 365, 620, 919, 888, 718, 598, 502, 488, 340, 558, 863, 1064, 428, 905, 1191, 1236, 1437, 775, 357, 476, 450, 373, 1357, 886, 478, 640, 712, 461, 454, 931, 499, 789, 508, 356, 1338, 694, 997, 1061, 1440, 688, 766, 556, 579, 568, 690, 1668, 536, 887, 1054, 505, 972, 590, 1180, 697, 418, 1062, 906, 791, 277, 680, 1321, 368, 506, 608, 1235, 603, -52, 1184, 798, 875, 530, 1047, 893, 1089, 698, 1006, 533, 510, 473, 1030, 910, 729, 1163, 1251, 948, 944, 1280, 1164, 1113, 673, 554, 1372, 1489, 605, 1434, 946, 1250, 736, 816, 1622, 724, 443, 1178, 391, 521, 928, 507, 716, 971, 376, 571, 472, 1865, 489, 793, 942, 1475, 664, 797, 595, 773, 1073, 430, 584, 741, 784, 1090, 1033, 509, 813, 682, 547, 1066, 1086, 404, 1247, 967, 467, 1332, 2226, 1401, 847, 394, 1249, 1029, 551, 597, 1058, 469, 434, 701, 665, 838, 991, 900, -36, 818, 466, 934, 496, 455, 1039, 480, 817, 1273, 1691, 932, 1014, 593, 462, 926, 703, 1004, 786, 787, 553, 1285, 594, 757, 728, 709, 618, 669, 429, 1017, 548, 447, 589, 1214, 795, 873, 707, 858, 2675, 920, 647, 930, 1110, 1127, 654, 1049, 1467, 1020, 626, 555, 629, 1288, 796, 1659, 730, 532, 799, 862, 782, 837, 678, 648, 689, 1385, 1182, 495, 868, 1081, 535, 687, 1001, 471, 1141, 1608, 656, 908, 1675, 415, 1763, 484, 1335, 767, 325, 872, 923, 854, 1367, 809, 651, 413, 981, 1446, 1351, 1043, 643, 927, 1281, 1079, 1339, 625, 737, 2663, 607, 3238, 857, 642, 763, 1201, 734, 870, 1019, 755, 713, 833, 830, 1208, 777, 686, 515, 1096, 824, 988, 957, 546, 1101, 1129, 725, 964, 1196, 1183, 1116, 772, 820, 883, 869, 776, 829, 940, 1483, 1162, 1212, 573, 794, 865, 1131, 807, 966, 742, 1227, 592, 901, 3445, 907, 1051, 442, 570, -34, 628, 693, 1187, 550, 992, 1152, 1286, 1005, 975, 586, 1206, 653, 645, 464, 999, 750, 1125, 871, 528, 877, 503, 1404, 409, 1070, 1111, 1243, 638, 1553, 1140, 980, 963, 504, 562, 1052, 1012, 1577, 1031, 641, 1490, 574, 996, 973, 627, 1114, 753, 889, 2508, 606, 1097, 1060, 575, 1528, 1866, 481, 822, 1784, 520, 1279, 630, 715, 631, 758, 632, 990, 759, 1775, 805, 878, 740, 1599, 1154, 644, 1069, -32, 1083, 561, 714, 761, 1119, -39, 637, 950, 956, 588, 925, 1492, 1410, 587, 708, 748, 432, 710, 1077, 719, 498, 955, 2046, -42, 780],\n",
            "    \"Dep_Delay_Tag\": [0, 1],\n",
            "    \"Dep_Delay_Type\": ['Low <5min', 'Hight >60min', 'Medium >15min'],\n",
            "    \"Arr_Airport\": ['MSP', 'LAX', 'PDX', 'LAS', 'SLC', 'SAN', 'ANC', 'DEN', 'SFO', 'BOI', 'SJC', 'FAI', 'PHX', 'TPA', 'SNA', 'PHL', 'DTW', 'ATL', 'OAK', 'SMF', 'OKC', 'ORD', 'GEG', 'PSC', 'FAT', 'KOA', 'DCA', 'OGG', 'KTN', 'SAT', 'AUS', 'MCO', 'IAD', 'DAL', 'ONT', 'PSP', 'EWR', 'JFK', 'IAH', 'DFW', 'JNU', 'BOS', 'BNA', 'HNL', 'CVG', 'BUR', 'RDM', 'RNO', 'FLL', 'MCI', 'LIH', 'CLT', 'MFR', 'STL', 'GTF', 'EUG', 'MKE', 'OMA', 'BZN', 'IND', 'MDW', 'RDU', 'JAC', 'TUS', 'MIA', 'CLE', 'ABQ', 'CHS', 'BWI', 'MSY', 'PIT', 'MRY', 'BLI', 'CMH', 'SBP', 'HLN', 'ALW', 'SIT', 'SBA', 'RDD', 'FCA', 'RSW', 'STS', 'LWS', 'ELP', 'PBI', 'LGA', 'CHA', 'MEM', 'GSP', 'JAX', 'DAY', 'SYR', 'GTR', 'MSN', 'TUL', 'SRQ', 'GRR', 'VPS', 'AVL', 'SEA', 'DAB', 'ECP', 'CSG', 'AEX', 'FWA', 'ILM', 'RIC', 'SAV', 'SDF', 'LEX', 'BHM', 'TYS', 'HPN', 'ICT', 'EVV', 'BTV', 'MLU', 'PVD', 'JAN', 'HOU', 'BUF', 'GNV', 'BDL', 'GSO', 'CHO', 'MLB', 'MYR', 'DHN', 'TLH', 'MOB', 'MDT', 'BTR', 'ROA', 'ORF', 'CAE', 'ALB', 'FSD', 'GRB', 'HSV', 'SJU', 'PNS', 'DSM', 'LIT', 'SHV', 'XNA', 'MGM', 'PWM', 'AGS', 'SGF', 'ROC', 'TTN', 'ABE', 'BMI', 'TVC', 'MTJ', 'ABY', 'EYW', 'ASE', 'GPT', 'CRW', 'TRI', 'MLI', 'VLD', 'SBN', 'BQK', 'LFT', 'ATW', 'EGE', 'COS', 'HDN', 'FAY', 'OAJ', 'STT', 'CID', 'HHH', 'STX', 'IDA', 'LGB', 'BIL', 'SGU', 'TWF', 'MSO', 'BTM', 'CNY', 'CPR', 'PIH', 'SUN', 'EKO', 'CDC', 'WYS', 'CAK', 'BGR', 'MHT', 'AVP', 'PIA', 'RAP', 'PGV', 'ACK', 'MAF', 'FAR', 'RFD', 'SMX', 'PVU', 'SCK', 'SFB', 'GJT', 'LRD', 'AMA', 'LBB', 'GRI', 'MOT', 'PAE', 'MFE', 'BLV', 'FNT', 'GFK', 'BIS', 'DRO', 'BFF', 'XWA', 'SUX', 'GUC', 'GCC', 'LAR', 'DIK', 'ACV', 'VEL', 'DDC', 'SHR', 'JLN', 'LBF', 'PRC', 'DVL', 'RIW', 'CYS', 'BFL', 'RKS', 'LBL', 'SLN', 'BIH', 'JMS', 'OTH', 'COD', 'MBS', 'LSE', 'COU', 'CMI', 'MQT', 'SCE', 'HYS', 'JST', 'MCW', 'CWA', 'ERI', 'DLH', 'CMX', 'MHK', 'LNK', 'DEC', 'RST', 'FOD', 'AZO', 'ALO', 'LAN', 'SPI', 'BQN', 'PGD', 'PIE', 'AZA', 'BRO', 'TYR', 'TXK', 'ACT', 'LAW', 'CLL', 'SJT', 'SAF', 'BPT', 'CRP', 'ABI', 'FSM', 'GRK', 'GGG', 'LCH', 'HRL', 'ROW', 'SPS', 'YUM', 'GCK', 'DRT', 'FLG', 'SWO', 'ISP', 'PSM', 'IMT', 'ELM', 'PLN', 'CIU', 'ESC', 'APN', 'LBE', 'PSE', 'ACY', 'ORH', 'SWF', 'VCT', 'MEI', 'PIB', 'BGM', 'MVY', 'HYA', 'USA', 'PBG', 'EWN', 'ITH', 'CDV', 'OME', 'BRW', 'SCC', 'AKN', 'BET', 'ADQ', 'ADK', 'DLG', 'ITO', 'GUM', 'LCK', 'TOL', 'PUB', 'BRD', 'ABR', 'RHI', 'HIB', 'BJI', 'INL', 'PPG', 'OTZ', 'HGR', 'PHF', 'HTS', 'CKB', 'IAG', 'SPN', 'GST', 'PSG', 'YAK', 'STC', 'WRG', 'OWB'],\n",
            "    \"Arr_Delay\": [-5, -16, -12, -13, -18, -14, -29, -7, -21, 170, 196, 32, -9, -28, -17, -15, -30, -31, -34, -22, -51, -10, -8, -32, -3, -2, -4, -11, 29, -20, 12, 8, 115, -1, -6, 15, 10, 9, 4, -35, -19, 5, 6, 16, -25, 13, 23, -42, -37, -36, 0, 1, 7, 87, 18, -23, 3, 11, 37, 43, 2, 19, -39, 57, -24, -41, 143, 21, -59, 24, 83, 199, 25, 63, -27, 27, 22, -43, 151, -50, -26, 36, -33, 62, -48, 181, 28, 14, 144, 106, 64, 42, 40, 65, 81, 17, 155, 38, 39, 150, 93, 31, 46, 89, 104, 103, 34, 112, 113, 56, 33, 119, 30, 49, -40, 60, 105, 124, 61, 101, 70, 48, 96, 78, 74, 80, 45, 20, 100, 26, 107, 44, 67, 55, 69, 298, 171, 88, 41, 66, 58, 202, 273, 286, 35, -38, 71, 109, 75, 116, 47, 114, -44, 54, 190, -46, 90, 341, -45, 50, 82, 52, 129, 91, 121, -55, 173, 193, 139, -49, 94, -47, 130, 198, 282, 156, 53, 72, 85, 141, 77, 131, 132, 148, 138, 230, 661, 436, 76, 221, 550, 68, 396, 311, 204, 189, 251, 146, 2270, 136, -56, 95, 84, 175, 98, 108, 912, 160, 122, 125, 51, 111, 137, 174, 134, 110, 236, 255, 200, 59, 73, 335, 142, 92, 401, -58, 232, 197, 99, -53, 176, 213, 787, 346, 97, 252, 259, 149, 350, 293, 279, -79, 186, 384, 306, 910, 303, 79, 318, 152, 118, 153, 157, 102, 227, 245, 1327, 86, 162, 305, 133, 126, 224, 1036, -60, 191, 145, 299, 206, 178, 650, 140, 192, 135, 288, 264, 300, 231, 355, -54, -52, -73, -68, -61, 916, 454, 265, 324, 437, 207, 715, 172, 240, 123, 1079, 164, 203, 387, 215, 274, 309, 154, 168, 222, 359, 147, 182, 212, 165, 466, 406, 779, -63, 158, 120, 117, 235, 180, 229, 283, 127, 491, 262, 540, 257, -65, 523, 1215, 226, 166, 256, 426, 400, 167, 208, 435, 249, 407, 228, 506, 1214, 496, 375, 321, 169, 320, 1117, 234, 317, 941, 242, 188, 897, 374, 233, 443, 183, 243, 588, 253, 205, 219, 418, 291, 1311, 128, 424, 347, 363, 372, 201, 369, 609, 185, 292, 357, 316, 376, 379, 238, 326, -62, 223, 241, 161, 225, 323, 209, 438, 352, 272, 184, 268, 301, 271, 217, 390, 195, 620, 270, 247, 397, 260, 163, 211, 827, -57, 297, 216, 179, 246, 267, 710, 1124, 453, 618, 439, 237, 1354, 289, 266, 587, 275, 1125, 261, 826, 1062, 1115, 285, 571, 511, 2098, 596, 331, 315, 425, 440, 459, 354, 654, 818, 415, 328, 302, 446, 722, 177, 187, 313, 1751, 330, 689, 470, 380, 416, 1032, 284, 606, 2721, 1362, 748, 308, 159, -64, 409, 218, 495, 949, -72, -70, 312, 663, 423, 304, 377, 738, 345, 385, 244, 336, 846, 889, 1169, 250, 761, 1379, 599, 1747, 708, 1078, 971, 194, 1655, 1640, 277, 673, 322, 269, 239, 340, 997, 263, 337, 529, 1131, 220, 960, 1477, 1044, 883, 294, 513, 367, 927, 598, 730, 1399, 486, 343, 525, 552, 417, 361, 556, 448, 983, 854, 844, 721, 742, 329, 295, 553, 1300, 477, 961, 493, 969, 465, 2764, 1164, 378, 483, 581, 281, 634, 362, 358, 583, 939, 248, 659, 579, 946, 360, 389, 1106, 655, 432, 472, 503, 290, 900, 430, 642, 551, 351, 395, 210, 214, 653, 412, 332, -75, 1352, 463, 287, 1024, 704, 667, 258, 433, 919, 777, 1527, 578, 1309, 534, 327, 392, 276, 473, 1055, 771, 504, 413, 314, 515, 467, 973, 590, 867, 278, 1358, 481, 645, 1433, 296, 371, 1462, 1591, 254, 348, 404, 319, 280, 934, 492, 508, 944, 791, 349, 683, 705, 858, 307, 1862, 562, 421, 937, 796, 1258, 962, 930, 877, 839, 580, 612, 855, 799, 1097, 1021, 1337, 339, 497, 851, 1029, 835, 701, 696, 594, 1754, 333, 460, 502, 764, 1148, 386, 1089, 517, 775, 649, 449, 988, 872, 945, 1060, 428, 373, 968, 548, 410, 820, 471, 956, 601, 414, 958, 849, 561, 887, 617, 865, 1001, 751, 812, 1008, 403, 886, 462, 1104, 549, 743, 1149, 530, 756, 567, 1467, 1239, 780, 651, 1049, 1389, 2427, 679, 368, 904, 528, 1126, 687, 342, 805, 479, 669, 1193, -71, -76, 558, 760, 817, 572, 546, 807, 793, 1257, 860, 2007, 356, 995, 1000, 896, 666, 871, 681, 859, 936, 670, 310, 838, 445, 905, 615, 933, 876, 688, 484, 544, 398, 885, 675, 1051, 921, 1231, 475, 1442, 749, 1035, 592, 604, 366, 458, 861, 866, 501, 334, 624, 1364, 457, 603, 672, 441, 925, 1020, 908, 789, 1333, 692, 408, 992, 1194, -66, 488, 500, 1446, 740, 671, 512, 566, 691, 1696, 536, 338, 427, 890, 560, 1050, 555, 1187, 474, 480, 353, 1045, 411, 1059, 950, 694, 1321, 625, 591, 1237, 576, 1213, 325, 478, 680, 1330, 370, 405, 782, 565, 891, 772, 1072, 693, 447, 1012, -78, 527, 365, 494, 1361, 852, 895, 773, 1156, 1261, 935, 431, 1271, 1153, 1095, 452, 1329, 1472, 383, 1073, 610, 382, 1426, 940, 728, 828, 1626, 444, 716, 899, 1161, 695, 735, -74, -84, 526, 487, 686, 1119, -67, 393, 514, 1864, 1152, 825, 1053, 794, 744, 1454, 783, 574, 364, 723, 768, 924, 577, 718, 468, 767, 1076, 607, 521, 785, 815, 665, 531, 1043, 1096, 399, 729, 1274, 982, 456, 1334, 2214, 963, 1046, 1387, 1233, 1130, 524, 1039, 932, 644, 821, 676, 986, 797, 482, 802, 1041, 974, 808, 792, 1680, 1013, 563, 774, 911, 903, 344, 1005, 545, 1286, 499, 402, 741, 394, 557, 709, 498, 597, 391, 381, 1002, 541, 1207, 2679, 510, -69, 915, 848, 630, 1028, 455, 614, 1093, 1132, 464, 602, 1322, 1466, 1320, 763, 781, 1686, 519, 953, 824, 836, 605, 1479, 678, 633, 806, 943, 388, 685, 698, 1167, 869, 1080, 831, 1121, 1631, 485, 656, 664, 980, 451, 892, 1661, 829, 862, 769, 1748, 538, 1346, 840, 1082, 461, 810, 1048, 641, 853, 931, 975, 600, 1457, 1348, 1031, 420, 1129, 720, 843, 909, 1366, 489, 1301, 758, 2649, 660, 3241, 847, 914, 429, 537, 589, 559, 850, 1190, 725, 569, 682, 834, 1198, 518, 1112, 658, 1086, 994, 801, 734, 1074, 711, 1189, 1192, 804, 1004, 646, 922, 636, 857, 750, 434, 1484, 1172, 1235, 1139, 1019, 640, 1158, 726, 703, 778, 878, 1269, 3424, 1265, 819, 662, 1299, 635, 702, 928, 759, 450, 833, 1174, 697, 613, 1197, 1183, 522, 985, 1151, 1312, 990, 979, 1033, 999, 1199, 657, 422, 627, 490, 938, 1489, 1277, 616, 1553, 619, 584, 639, 809, 959, 1285, 573, 520, 822, 784, 442, 856, 469, 880, 842, 1565, 1027, 732, 1488, 972, 724, 707, 543, 918, 2511, 1138, 1529, 1877, 795, 881, 1790, 917, 1270, 628, -77, 1241, 647, 762, 1136, 879, 623, 1769, 752, 1597, 1056, 765, 868, 706, 1108, 816, 690, 632, 942, 1042, 586, 1498, 1407, 1229, 568, 575, 476, 727, 712, 547, 419, 948, 2019, 1166, 864],\n",
            "    \"Arr_Delay_Type\": ['Low <5min', 'Hight >60min', 'Medium >15min'],\n",
            "    \"Distance_type\": ['Short Haul >1500Mi', 'Medium Haul <3000Mi', 'Long Haul <6000Mi'],\n",
            "    \"Manufacturer\": ['AIRBUS', 'BOEING', 'CANADAIR REGIONAL JET', 'EMBRAER'],\n",
            "    \"Model\": ['A320', '737 NG', '717', 'CRJ', 'A321', '757', 'A220', '170/175', 'A319', '737 NG/MAX', '767', '777', 'A330', '190/195', '787', 'A350', '737', '135/145', 'A300', 'A320 '],\n",
            "    \"Aicraft_age\": [32, 8, 19, 17, 23, 14, 10, 24, 7, 21, 5, 2, 6, 22, 25, 16, 15, 3, 12, 9, 20, 11, 34, 4, 29, 18, 13, 1, 26, 28, 30, 27, 31, 33, 56, 48, 39, 38, 57],\n",
            "    \"dep_city\": ['Seattle', 'Denver', 'Chicago', 'Covington', 'Kansas City', 'Detroit', 'Orlando', 'Houston', 'Oklahoma City', 'Boston', 'Phoenix', 'Arlington', 'San Antonio', 'Baltimore', 'Des Moines', 'Cedar Rapids', 'Indianapolis', 'Asheville', 'Bismarck', 'Kalispell', 'Duluth', 'Atlanta', 'Salt Lake City', 'Windsor Locks', 'Dallas-Fort Worth', 'Austin', 'Nashville', 'Miami', 'Sacramento', 'San Francisco', 'St Louis', 'Minneapolis', 'Oakland', 'New York', 'Reno', 'Albuquerque', 'Honolulu', 'Chantilly', 'Redmond', 'Lihue', 'Tucson', 'Las Vegas', 'Kahului', 'San Jose', 'Burbank', 'Santa Barbara', 'Newark', 'Los Angeles', 'San Diego', 'Eugene', 'Santa Ana', 'Boise', 'El Paso', 'Bellingham', 'Portland', 'Ontario', 'Long Beach', 'Spokane', 'St George', 'Fresno', 'Missoula', 'Charlotte', 'Omaha', 'Tampa', 'Raleigh', 'Dallas', 'Philadelphia', 'Pittsburgh', 'Sarasota', 'Jackson', 'Colorado Springs', 'Liberal', 'Rapid City', 'Amarillo', 'Aspen', 'San Luis Obispo', 'Casper', 'Jamestown', 'Kailua/Kona', 'Bozeman', 'Arcata/Eureka', 'Palm Springs', 'Bakersfield', 'Flagstaff', 'Charleston', 'Ft. Myers', 'Norfolk', 'Burlington', 'Cleveland', 'Fargo', 'Jacksonville', 'New Orleans', 'Fayetteville/Springdale/Rogers', 'Madison', 'Milwaukee', 'Great Falls', 'Hibbing', 'Ft. Lauderdale', 'Tulsa', 'Rochester', 'Columbus', 'Syracuse', 'Knoxville', 'Pellston', 'Springfield', 'Snohomish', 'Richmond', 'Chattanooga', 'West Palm Beach', 'Little Rock', 'Albany', 'Daytona Beach', 'Baton Rouge', 'Columbia', 'Wichita', 'Charlottesville', 'Bristol', 'Brunswick', 'Pasco', 'White Plains', 'Memphis', 'Dayton', 'Appleton', 'Birmingham', 'Flint', 'Saginaw', 'Grand Rapids', 'Manchester', 'Hilton Head Island', 'Augusta', 'Key West', 'Green Bay', 'International Falls', 'Sioux Falls', 'Bemidji', 'Minot', 'Monterey', 'Prescott', 'Midland', 'San Juan', 'Gillette', 'Idaho Falls', 'Grand Junction', 'Greensboro', 'Myrtle Beach', 'Buffalo', 'Allentown', 'Savannah', 'Hattiesburg-Laurel', 'Tallahassee', 'Huntsville', 'Valparaiso', 'Killeen', 'Shreveport', 'Billings', 'Alexandria', 'Montrose', 'Corpus Christi', 'Montgomery', 'Evansville', 'Sitka', 'Brainerd', 'Iron Mountain/Kingsford', 'Lansing', 'Providence', 'Traverse City', 'Elmira', 'Louisville', 'Stockton', 'Hilo', 'North Bend', 'Greer', 'Wilmington', 'Lubbock', 'Pensacola', 'Panama City', 'McAllen', 'Medford', 'Lexington', 'Moline', 'Fayetteville', 'Twin Falls', 'Durango', 'Williston', 'Moab', 'Santa Rosa', 'Peoria', 'Fort Wayne', 'Akron', 'Sault Ste. Marie', 'Devils Lake', 'Hailey', 'Dickinson', 'Bangor', 'Harrisburg', 'Abilene', 'Santa Fe', 'Tyler', 'Harlingen', 'Waco', 'Grand Island', 'Stillwater', 'Roswell', 'Rockford', 'Provo', 'Islip', 'Charlotte Amalie', 'Cedar City', 'Barrow', 'Fairbanks', 'Dodge City', 'Sheridan', 'Scottsbluff', 'Salina', 'Ithaca', 'Lake Charles', 'Bloomington', 'Gainesville', 'Hayden', 'Vernal', 'Aguadilla', 'Gulfport-Biloxi', 'Del rio', 'San Angelo', 'Redding', 'Monroe', 'Champaign/Urbana', 'South Bend', 'Yuma', 'Mobile', 'Wichita Falls', 'Garden City', 'Grand Forks', 'Rhinelander', 'Lafayette', 'Kodiak', 'Kotzebue', 'Adak', 'Eagle', 'Anchorage', 'Bishop', 'Wilkes-Barre/Scranton', 'Marthas Vineyard', 'Nantucket', 'Trenton', 'Roanoke', 'Mosinee', 'Columbus-Starkville-West Point', 'Gunnison', 'Manhattan', 'College Station', 'Beaumont/Port Arthur', 'Aberdeen', 'Juneau', 'Nome', 'Atlantic City', 'Brownsville', 'Fort Smith', 'Petersburg', 'Helena', 'Laramie', 'Erie', 'Texarkana', 'Christiansted', 'Deadhorse', 'Bethel', 'Johnstown', 'Worcester', 'Lewiston', 'Hays', 'Butte', 'State College', 'Hancock', 'Ketchikan', 'Latrobe', 'Cordova', 'Lincoln', 'Kalamazoo', 'Elko', 'North Platte', 'Meridian', 'Melbourne', 'Valdosta', 'Dothan', 'Fort Dodge', 'Longview', 'Alpena', 'Riverton', 'Laredo', 'Ponce', 'King Salmon', 'Wrangell', 'Mason City', 'Sioux City', 'Saint Petersburg Clearwater', 'Rock Springs', 'Lawton', 'Pocatello', 'Marquette', 'West Yellowstone', 'Punta Gorda', 'Concord-Padgett', 'Agana', 'La Crosse', 'Decatur', 'Dillingham', 'Greenville', 'Cheyenne', 'Newburgh', 'Santa Maria', 'Cody', 'Joplin', 'Escanaba', 'Gustavus', 'Victoria', 'Yakutat', 'Pago Pago', 'Plattsburgh', 'Hyannis', 'Binghamton', 'Belleville', 'Walla Walla', 'New Bern', 'Pueblo', 'Clarksburg', 'Huntington', 'Portsmouth', 'Waterloo', 'Hagerstown', 'Toledo', 'St Cloud', 'Niagara Falls', 'Owensboro', 'Saipan'],\n",
            "    \"dep_state\": ['WA', 'CO', 'IL', 'KY', 'MO', 'MI', 'FL', 'TX', 'OK', 'MA', 'AZ', 'VA', 'MD', 'IA', 'IN', 'NC', 'ND', 'MT', 'MN', 'GA', 'UT', 'CT', 'TN', 'CA', 'NY', 'NV', 'NM', 'HI', 'OR', 'NJ', 'ID', 'NE', 'PA', 'WY', 'KS', 'SD', 'SC', 'VT', 'OH', 'LA', 'AR', 'WI', 'WV', 'MS', 'AL', 'NH', 'PR', 'AK', 'RI', 'ME', 'VI', 'GU', 'AS', 'SA'],\n",
            "    \"dep_country\": ['USA'],\n",
            "    \"dep_latitude\": [47.44898, 39.85841, 41.9796, 41.78598, 39.04614, 39.29761, 42.21206, 28.42889, 29.98047, 35.39309, 42.36435, 33.43417, 38.85208, 29.53369, 39.1754, 41.53493, 41.88459, 39.71733, 35.4333, 46.77411, 48.3114, 46.84209, 33.64044, 40.78839, 41.93887, 32.89595, 30.19453, 36.12448, 25.79325, 38.69542, 37.619, 38.74769, 44.88055, 37.72129, 40.63975, 39.49858, 35.04022, 21.31869, 38.94453, 44.25407, 21.97598, 32.11608, 36.08036, 20.89865, 37.36186, 34.20062, 34.42621, 40.6925, 33.94254, 32.73356, 44.12326, 29.64542, 33.67566, 43.56444, 31.80667, 48.79275, 45.58872, 34.056, 33.81772, 47.61986, 37.09058, 36.77619, 46.91631, 35.21401, 41.30252, 27.97547, 40.77724, 35.87764, 32.84711, 39.87195, 40.49147, 27.39533, 43.60732, 38.80581, 37.0431, 44.04532, 35.21937, 39.22316, 35.23706, 42.90836, 46.92972, 19.73877, 45.7769, 40.97812, 33.82922, 35.4336, 35.13845, 32.89865, 26.53617, 36.89461, 44.473, 41.41089, 46.91935, 30.49406, 29.99339, 36.28187, 43.13986, 42.94722, 47.482, 47.3866, 26.07258, 36.19837, 43.11887, 39.99799, 43.11119, 35.81249, 45.57093, 37.24433, 47.9129, 37.50517, 35.03527, 38.37315, 26.68316, 34.7294, 42.74812, 32.31117, 29.17992, 30.53316, 33.93884, 37.64996, 38.13864, 36.47521, 31.25903, 46.26468, 41.06696, 35.04242, 39.90238, 44.25741, 33.56294, 42.9655, 43.53291, 42.88082, 42.93452, 32.1938, 33.36996, 24.55611, 44.48507, 48.56619, 43.58135, 47.50942, 48.25938, 36.58698, 34.6544, 31.94253, 18.43942, 44.3489, 43.51456, 39.12241, 36.09775, 33.67975, 42.94052, 40.65236, 32.12758, 31.46715, 30.39653, 34.64045, 30.48325, 31.0649, 32.44663, 45.80766, 31.32737, 38.50887, 27.77036, 32.30064, 38.03799, 57.04714, 46.39786, 45.81835, 42.7787, 41.724, 44.74144, 42.15991, 38.17439, 37.9577, 19.72026, 43.41714, 34.89567, 34.27061, 33.66364, 30.47331, 30.176, 38.81809, 43.90883, 26.17583, 42.37423, 38.03697, 41.44853, 34.99147, 43.64617, 42.4818, 37.15152, 48.147, 38.75496, 38.2919, 40.66424, 40.97847, 40.91631, 46.25075, 48.11425, 43.50484, 46.79739, 44.80744, 40.1935, 32.41132, 35.61678, 32.35414, 26.22851, 31.61129, 40.96747, 36.1156, 33.30156, 33.4484, 42.2, 40.2338, 40.79524, 18.33731, 37.70097, 71.28545, 64.81368, 37.7667, 44.7972, 41.8666, 38.8403, 42.49103, 30.1261, 40.47799, 29.69006, 32.51633, 31.53552, 40.48118, 40.4409, 18.49486, 30.40728, 29.3627, 31.35775, 40.50898, 32.51087, 40.03925, 41.70895, 32.65658, 30.69142, 33.9888, 37.92752, 47.94926, 45.63119, 30.20528, 57.74997, 66.88468, 51.87796, 39.64257, 61.17432, 37.3667, 41.3333, 41.39303, 41.25305, 40.27669, 37.32547, 44.77762, 33.45033, 38.53396, 39.14097, 30.58859, 29.95083, 45.44906, 58.35496, 64.5122, 39.3642, 25.90683, 35.33659, 56.80165, 46.60682, 41.31205, 42.08202, 33.45371, 17.70189, 34.82916, 70.19476, 60.77978, 42.9982, 42.26734, 46.3745, 38.84494, 45.9548, 40.85121, 47.16842, 55.35557, 40.27594, 60.49183, 40.85097, 42.23488, 40.82493, 41.1167, 32.33313, 28.10275, 30.7825, 31.32134, 42.4975, 32.38486, 45.07807, 43.025, 27.54374, 18.0083, 58.6768, 56.48433, 43.1536, 42.4026, 27.7651, 41.59422, 39.84395, 34.56771, 42.91131, 46.35364, 44.6884, 26.9298, 37.978, 28.5383, 13.4833, 43.87938, 39.8403, 59.04541, 35.6127, 41.14, 41.50409, 34.89925, 44.52019, 37.15181, 45.72267, 58.42438, 28.8667, 59.50336, -14.2781, 44.699, 41.66934, 42.0, 38.6245, 40.0, 46.0646, 35.07297, 38.28909, 39.2807, 38.3667, 43.077, 42.55708, 39.6418, 41.58681, 45.54532, 43.10726, 37.7742, 15.1167],\n",
            "    \"dep_longitude\": [-122.30931, -104.667, -87.90446, -87.75242, -84.66217, -94.71391, -83.34884, -81.31603, -95.33972, -97.60073, -71.00518, -112.00806, -77.03772, -98.46978, -76.6682, -93.66068, -91.71087, -86.29438, -82.0333, -100.74672, -114.25507, -92.19365, -84.42694, -111.97777, -72.68323, -97.0372, -97.66987, -86.67818, -80.29056, -121.59077, -122.37484, -90.35999, -93.21692, -122.22072, -73.77893, -119.76806, -106.60919, -157.92241, -77.45581, -121.14996, -159.33896, -110.94103, -115.15233, -156.43046, -121.92901, -118.3585, -119.84037, -74.16866, -118.40807, -117.18966, -123.21869, -95.27889, -117.86822, -116.22278, -106.37781, -122.53753, -122.5975, -117.60119, -118.15161, -117.53384, -113.59306, -119.71814, -114.09056, -80.94313, -95.89417, -82.53325, -73.87261, -78.78747, -96.85177, -75.24114, -80.23287, -82.55411, -110.73774, -104.70025, -100.921, -103.05737, -101.70593, -106.86885, -120.64239, -106.46447, -98.6782, -156.04563, -111.15301, -124.10862, -116.50625, -119.05677, -111.67122, -80.04051, -81.75517, -76.20122, -73.15031, -81.8494, -96.81499, -81.68786, -90.25803, -94.30681, -89.33751, -87.89658, -111.37069, -92.83899, -80.15275, -95.88824, -77.67238, -82.89188, -76.10631, -83.99286, -84.79672, -93.38686, -122.0982, -77.31967, -85.20379, -81.59319, -80.09559, -92.22425, -73.80298, -90.07589, -81.05806, -91.14963, -81.11954, -97.43305, -78.45286, -82.40742, -81.46631, -119.11903, -73.70757, -89.97667, -84.21938, -88.51948, -86.75355, -83.74346, -84.07965, -85.52277, -71.43706, -80.7382, -81.9645, -81.75956, -88.12959, -93.40307, -96.7417, -94.93372, -101.28033, -121.84295, -112.4196, -102.20191, -66.00183, -105.53936, -112.07017, -108.52673, -79.9373, -78.92833, -78.73217, -75.4404, -81.20214, -89.33706, -84.35033, -86.77311, -86.5254, -97.8278, -93.8256, -108.54286, -92.54856, -107.89383, -97.50122, -86.39398, -87.53063, -135.3616, -94.13723, -88.11454, -84.58736, -71.42822, -85.58224, -76.89144, -85.736, -121.2908, -155.04847, -124.24603, -82.21886, -77.90256, -101.82278, -87.18744, -85.8055, -92.21963, -92.49799, -98.23861, -122.8735, -84.60539, -90.50754, -78.88, -70.30875, -114.48774, -107.75377, -103.618, -109.75484, -122.458, -89.69331, -85.19515, -81.44247, -84.47239, -98.90878, -114.29659, -102.80195, -68.82814, -76.7634, -99.6819, -106.08814, -95.40239, -97.65439, -97.23052, -98.30861, -97.0584, -104.53056, -112.074, -89.1, -111.6585, -73.10021, -64.97336, -113.09858, -156.766, -147.85967, -99.1333, -106.9562, -103.6672, -97.6114, -76.45844, -93.2234, -88.91595, -82.27178, -84.93886, -84.19447, -107.21766, -109.50992, -67.12944, -89.07009, -100.8968, -100.49631, -122.2934, -92.03769, -88.27806, -86.31847, -114.60597, -88.24283, -98.49189, -100.72441, -97.17611, -89.46745, -91.98766, -152.49386, -162.59855, -176.64603, -106.9177, -149.99619, -118.3667, -75.0667, -70.61433, -70.06018, -74.81347, -79.97543, -89.66678, -88.59137, -106.93318, -96.67083, -96.36382, -94.02069, -98.42183, -134.57628, -165.44525, -74.4231, -97.42586, -94.36744, -132.94528, -111.98275, -105.67499, -80.17622, -93.99102, -64.79856, -77.61214, -148.46516, -161.838, -74.3296, -71.87571, -117.01539, -99.27403, -112.49746, -77.8463, -88.48906, -131.71374, -79.4048, -145.47765, -96.75925, -85.55206, -115.7917, -100.6667, -88.75121, -80.64581, -83.27672, -85.44963, -94.168, -94.71171, -83.56029, -108.3801, -99.46154, -66.56301, -156.64922, -132.36982, -93.201, -96.38437, -82.627, -109.06519, -89.67762, -98.41664, -112.59586, -87.39536, -111.11764, -82.0454, -122.0311, -81.3792, 144.8, -91.25654, -88.9548, -158.50334, -77.3663, -104.8203, -74.10484, -120.45758, -109.0238, -94.49827, -87.09373, -135.70738, -96.1, -139.66023, -170.7025, -73.4529, -70.28036, -75.15, -90.1509, -82.05, -118.343, -77.04294, -104.49657, -80.3445, -82.55, -70.7577, -92.40034, -77.72, -83.80783, -94.05834, -78.94538, -87.1133, 145.7333],\n",
            "    \"arr_city\": ['Minneapolis', 'Los Angeles', 'Portland', 'Las Vegas', 'Salt Lake City', 'San Diego', 'Anchorage', 'Denver', 'San Francisco', 'Boise', 'San Jose', 'Fairbanks', 'Phoenix', 'Tampa', 'Santa Ana', 'Philadelphia', 'Detroit', 'Atlanta', 'Oakland', 'Sacramento', 'Oklahoma City', 'Chicago', 'Spokane', 'Pasco', 'Fresno', 'Kailua/Kona', 'Arlington', 'Kahului', 'Ketchikan', 'San Antonio', 'Austin', 'Orlando', 'Chantilly', 'Dallas', 'Ontario', 'Palm Springs', 'Newark', 'New York', 'Houston', 'Dallas-Fort Worth', 'Juneau', 'Boston', 'Nashville', 'Honolulu', 'Covington', 'Burbank', 'Redmond', 'Reno', 'Ft. Lauderdale', 'Kansas City', 'Lihue', 'Charlotte', 'Medford', 'St Louis', 'Great Falls', 'Eugene', 'Milwaukee', 'Omaha', 'Bozeman', 'Indianapolis', 'Raleigh', 'Jackson', 'Tucson', 'Miami', 'Cleveland', 'Albuquerque', 'Charleston', 'Baltimore', 'New Orleans', 'Pittsburgh', 'Monterey', 'Bellingham', 'Columbus', 'San Luis Obispo', 'Helena', 'Walla Walla', 'Sitka', 'Santa Barbara', 'Redding', 'Kalispell', 'Ft. Myers', 'Santa Rosa', 'Lewiston', 'El Paso', 'West Palm Beach', 'Chattanooga', 'Memphis', 'Greer', 'Jacksonville', 'Dayton', 'Syracuse', 'Columbus-Starkville-West Point', 'Madison', 'Tulsa', 'Sarasota', 'Grand Rapids', 'Valparaiso', 'Asheville', 'Seattle', 'Daytona Beach', 'Panama City', 'Alexandria', 'Fort Wayne', 'Wilmington', 'Richmond', 'Savannah', 'Louisville', 'Lexington', 'Birmingham', 'Knoxville', 'White Plains', 'Wichita', 'Evansville', 'Burlington', 'Monroe', 'Providence', 'Buffalo', 'Gainesville', 'Windsor Locks', 'Greensboro', 'Charlottesville', 'Melbourne', 'Myrtle Beach', 'Dothan', 'Tallahassee', 'Mobile', 'Harrisburg', 'Baton Rouge', 'Roanoke', 'Norfolk', 'Columbia', 'Albany', 'Sioux Falls', 'Green Bay', 'Huntsville', 'San Juan', 'Pensacola', 'Des Moines', 'Little Rock', 'Shreveport', 'Fayetteville/Springdale/Rogers', 'Montgomery', 'Augusta', 'Springfield', 'Rochester', 'Trenton', 'Allentown', 'Bloomington', 'Traverse City', 'Montrose', 'Key West', 'Aspen', 'Gulfport-Biloxi', 'Bristol', 'Moline', 'Valdosta', 'South Bend', 'Brunswick', 'Lafayette', 'Appleton', 'Eagle', 'Colorado Springs', 'Hayden', 'Fayetteville', 'Charlotte Amalie', 'Cedar Rapids', 'Hilton Head Island', 'Christiansted', 'Idaho Falls', 'Long Beach', 'Billings', 'St George', 'Twin Falls', 'Missoula', 'Butte', 'Moab', 'Casper', 'Pocatello', 'Hailey', 'Elko', 'Cedar City', 'West Yellowstone', 'Akron', 'Bangor', 'Manchester', 'Wilkes-Barre/Scranton', 'Peoria', 'Rapid City', 'Greenville', 'Nantucket', 'Midland', 'Fargo', 'Rockford', 'Santa Maria', 'Provo', 'Stockton', 'Grand Junction', 'Laredo', 'Amarillo', 'Lubbock', 'Grand Island', 'Minot', 'Snohomish', 'McAllen', 'Belleville', 'Flint', 'Grand Forks', 'Bismarck', 'Durango', 'Scottsbluff', 'Williston', 'Sioux City', 'Gunnison', 'Gillette', 'Laramie', 'Dickinson', 'Arcata/Eureka', 'Vernal', 'Dodge City', 'Sheridan', 'Joplin', 'North Platte', 'Prescott', 'Devils Lake', 'Riverton', 'Cheyenne', 'Bakersfield', 'Rock Springs', 'Liberal', 'Salina', 'Bishop', 'Jamestown', 'North Bend', 'Cody', 'Saginaw', 'La Crosse', 'Champaign/Urbana', 'Marquette', 'State College', 'Hays', 'Johnstown', 'Mason City', 'Mosinee', 'Erie', 'Duluth', 'Hancock', 'Manhattan', 'Lincoln', 'Decatur', 'Fort Dodge', 'Kalamazoo', 'Waterloo', 'Lansing', 'Aguadilla', 'Punta Gorda', 'Saint Petersburg Clearwater', 'Brownsville', 'Tyler', 'Texarkana', 'Waco', 'Lawton', 'College Station', 'San Angelo', 'Santa Fe', 'Beaumont/Port Arthur', 'Corpus Christi', 'Abilene', 'Fort Smith', 'Killeen', 'Longview', 'Lake Charles', 'Harlingen', 'Roswell', 'Wichita Falls', 'Yuma', 'Garden City', 'Del rio', 'Flagstaff', 'Stillwater', 'Islip', 'Portsmouth', 'Iron Mountain/Kingsford', 'Elmira', 'Pellston', 'Sault Ste. Marie', 'Escanaba', 'Alpena', 'Latrobe', 'Ponce', 'Atlantic City', 'Worcester', 'Newburgh', 'Victoria', 'Meridian', 'Hattiesburg-Laurel', 'Binghamton', 'Marthas Vineyard', 'Hyannis', 'Concord-Padgett', 'Plattsburgh', 'New Bern', 'Ithaca', 'Cordova', 'Nome', 'Barrow', 'Deadhorse', 'King Salmon', 'Bethel', 'Kodiak', 'Adak', 'Dillingham', 'Hilo', 'Agana', 'Toledo', 'Pueblo', 'Brainerd', 'Aberdeen', 'Rhinelander', 'Hibbing', 'Bemidji', 'International Falls', 'Pago Pago', 'Kotzebue', 'Hagerstown', 'Newport News', 'Huntington', 'Clarksburg', 'Niagara Falls', 'Saipan', 'Gustavus', 'Petersburg', 'Yakutat', 'St Cloud', 'Wrangell', 'Owensboro'],\n",
            "    \"arr_state\": ['MN', 'CA', 'OR', 'NV', 'UT', 'AK', 'CO', 'ID', 'AZ', 'FL', 'PA', 'MI', 'GA', 'OK', 'IL', 'WA', 'HI', 'VA', 'TX', 'NJ', 'NY', 'MA', 'TN', 'KY', 'MO', 'NC', 'MT', 'WI', 'NE', 'IN', 'WY', 'OH', 'NM', 'SC', 'MD', 'LA', 'MS', 'AL', 'KS', 'VT', 'RI', 'CT', 'SD', 'PR', 'IA', 'AR', 'ME', 'WV', 'VI', 'NH', 'ND', 'GU', 'AS', 'SA'],\n",
            "    \"arr_country\": ['USA'],\n",
            "    \"arr_latitude\": [44.88055, 33.94254, 45.58872, 36.08036, 40.78839, 32.73356, 61.17432, 39.85841, 37.619, 43.56444, 37.36186, 64.81368, 33.43417, 27.97547, 33.67566, 39.87195, 42.21206, 33.64044, 37.72129, 38.69542, 35.39309, 41.9796, 47.61986, 46.26468, 36.77619, 19.73877, 38.85208, 20.89865, 55.35557, 29.53369, 30.19453, 28.42889, 38.94453, 32.84711, 34.056, 33.82922, 40.6925, 40.63975, 29.98047, 32.89595, 58.35496, 42.36435, 36.12448, 21.31869, 39.04614, 34.20062, 44.25407, 39.49858, 26.07258, 39.29761, 21.97598, 35.21401, 42.37423, 38.74769, 47.482, 44.12326, 42.94722, 41.30252, 45.7769, 39.71733, 41.78598, 35.87764, 43.60732, 32.11608, 25.79325, 41.41089, 35.04022, 32.89865, 39.1754, 29.99339, 40.49147, 36.58698, 48.79275, 39.99799, 35.23706, 46.60682, 46.0646, 57.04714, 34.42621, 40.50898, 48.3114, 26.53617, 38.2919, 46.3745, 31.80667, 26.68316, 40.77724, 35.03527, 35.04242, 34.89567, 30.49406, 39.90238, 43.11119, 33.45033, 43.13986, 36.19837, 27.39533, 42.88082, 30.48325, 35.4333, 47.44898, 29.17992, 30.176, 32.51633, 31.32737, 40.97847, 34.27061, 37.50517, 32.12758, 38.17439, 38.03697, 33.56294, 35.81249, 41.06696, 37.64996, 38.03799, 44.473, 32.51087, 41.724, 32.31117, 29.64542, 42.94052, 29.69006, 41.93887, 36.09775, 38.13864, 28.10275, 33.67975, 31.32134, 30.39653, 30.69142, 40.1935, 30.53316, 37.32547, 36.89461, 33.93884, 42.74812, 43.58135, 44.48507, 34.64045, 18.43942, 30.47331, 41.53493, 34.7294, 32.44663, 36.28187, 32.30064, 43.64617, 33.36996, 37.24433, 43.11887, 40.27669, 40.65236, 40.47799, 44.74144, 38.50887, 31.53552, 24.55611, 39.22316, 30.40728, 38.37315, 36.47521, 41.44853, 30.7825, 41.70895, 31.25903, 30.20528, 44.25741, 39.64257, 38.80581, 40.48118, 34.99147, 34.82916, 18.33731, 41.88459, 32.1938, 17.70189, 43.51456, 33.81772, 45.80766, 37.09058, 42.4818, 46.91631, 45.9548, 38.75496, 42.90836, 42.91131, 43.50484, 40.82493, 37.70097, 44.6884, 40.91631, 44.80744, 42.93452, 41.3333, 40.66424, 44.04532, 35.6127, 41.25305, 31.94253, 46.91935, 42.2, 34.89925, 40.2338, 37.9577, 28.5383, 39.12241, 27.54374, 35.21937, 33.66364, 40.96747, 48.25938, 47.9129, 26.17583, 38.6245, 42.9655, 47.94926, 46.77411, 37.15152, 41.8666, 48.147, 42.4026, 38.53396, 44.3489, 41.31205, 46.79739, 40.97812, 40.4409, 37.7667, 44.7972, 37.15181, 41.1167, 34.6544, 48.11425, 43.025, 41.14, 35.4336, 41.59422, 37.0431, 38.8403, 37.3667, 46.92972, 43.41714, 44.52019, 43.53291, 43.87938, 38.81809, 40.03925, 46.35364, 40.85121, 38.84494, 42.9982, 43.1536, 44.77762, 42.08202, 46.84209, 47.16842, 39.14097, 40.85097, 39.8403, 43.90883, 42.4975, 42.23488, 42.55708, 42.7787, 39.84395, 18.49486, 26.9298, 27.7651, 33.4484, 25.90683, 32.35414, 33.45371, 31.61129, 34.56771, 30.58859, 31.35775, 35.61678, 29.95083, 27.77036, 32.41132, 35.33659, 31.0649, 32.38486, 30.1261, 26.22851, 33.30156, 33.9888, 32.65658, 37.92752, 29.3627, 35.13845, 36.1156, 40.79524, 43.077, 45.81835, 42.15991, 45.57093, 46.25075, 45.72267, 45.07807, 40.27594, 18.0083, 39.3642, 42.26734, 41.50409, 28.8667, 32.33313, 31.46715, 42.0, 41.39303, 41.66934, 37.978, 44.699, 35.07297, 42.49103, 60.49183, 64.5122, 71.28545, 70.19476, 58.6768, 60.77978, 57.74997, 51.87796, 59.04541, 19.72026, 13.4833, 40.0, 41.58681, 38.28909, 46.39786, 45.44906, 45.63119, 47.3866, 47.50942, 48.56619, -14.2781, 66.88468, 39.6418, 37.1319, 38.3667, 39.2807, 43.10726, 15.1167, 58.42438, 56.80165, 59.50336, 45.54532, 56.48433, 37.7742],\n",
            "    \"arr_longitude\": [-93.21692, -118.40807, -122.5975, -115.15233, -111.97777, -117.18966, -149.99619, -104.667, -122.37484, -116.22278, -121.92901, -147.85967, -112.00806, -82.53325, -117.86822, -75.24114, -83.34884, -84.42694, -122.22072, -121.59077, -97.60073, -87.90446, -117.53384, -119.11903, -119.71814, -156.04563, -77.03772, -156.43046, -131.71374, -98.46978, -97.66987, -81.31603, -77.45581, -96.85177, -117.60119, -116.50625, -74.16866, -73.77893, -95.33972, -97.0372, -134.57628, -71.00518, -86.67818, -157.92241, -84.66217, -118.3585, -121.14996, -119.76806, -80.15275, -94.71391, -159.33896, -80.94313, -122.8735, -90.35999, -111.37069, -123.21869, -87.89658, -95.89417, -111.15301, -86.29438, -87.75242, -78.78747, -110.73774, -110.94103, -80.29056, -81.8494, -106.60919, -80.04051, -76.6682, -90.25803, -80.23287, -121.84295, -122.53753, -82.89188, -120.64239, -111.98275, -118.343, -135.3616, -119.84037, -122.2934, -114.25507, -81.75517, -122.458, -117.01539, -106.37781, -80.09559, -73.87261, -85.20379, -89.97667, -82.21886, -81.68786, -84.21938, -76.10631, -88.59137, -89.33751, -95.88824, -82.55411, -85.52277, -86.5254, -82.0333, -122.30931, -81.05806, -85.8055, -84.93886, -92.54856, -85.19515, -77.90256, -77.31967, -81.20214, -85.736, -84.60539, -86.75355, -83.99286, -73.70757, -97.43305, -87.53063, -73.15031, -92.03769, -71.42822, -90.07589, -95.27889, -78.73217, -82.27178, -72.68323, -79.9373, -78.45286, -80.64581, -78.92833, -85.44963, -84.35033, -88.24283, -76.7634, -91.14963, -79.97543, -76.20122, -81.11954, -73.80298, -96.7417, -88.12959, -86.77311, -66.00183, -87.18744, -93.66068, -92.22425, -93.8256, -94.30681, -86.39398, -70.30875, -81.9645, -93.38686, -77.67238, -74.81347, -75.4404, -88.91595, -85.58224, -107.89383, -84.19447, -81.75956, -106.86885, -89.07009, -81.59319, -82.40742, -90.50754, -83.27672, -86.31847, -81.46631, -91.98766, -88.51948, -106.9177, -104.70025, -107.21766, -78.88, -77.61214, -64.97336, -91.71087, -80.7382, -64.79856, -112.07017, -118.15161, -108.54286, -113.59306, -114.48774, -114.09056, -112.49746, -109.75484, -106.46447, -112.59586, -114.29659, -115.7917, -113.09858, -111.11764, -81.44247, -68.82814, -71.43706, -75.0667, -89.69331, -103.05737, -77.3663, -70.06018, -102.20191, -96.81499, -89.1, -120.45758, -111.6585, -121.2908, -81.3792, -108.52673, -99.46154, -101.70593, -101.82278, -98.30861, -101.28033, -122.0982, -98.23861, -90.1509, -83.74346, -97.17611, -100.74672, -107.75377, -103.6672, -103.618, -96.38437, -106.93318, -105.53936, -105.67499, -102.80195, -124.10862, -109.50992, -99.1333, -106.9562, -94.49827, -100.6667, -112.4196, -98.90878, -108.3801, -104.8203, -119.05677, -109.06519, -100.921, -97.6114, -118.3667, -98.6782, -124.24603, -109.0238, -84.07965, -91.25654, -92.21963, -88.27806, -87.39536, -77.8463, -99.27403, -74.3296, -93.201, -89.66678, -80.17622, -92.19365, -88.48906, -96.67083, -96.75925, -88.9548, -92.49799, -94.168, -85.55206, -92.40034, -84.58736, -89.67762, -67.12944, -82.0454, -82.627, -112.074, -97.42586, -95.40239, -93.99102, -97.23052, -98.41664, -96.36382, -100.49631, -106.08814, -94.02069, -97.50122, -99.6819, -94.36744, -97.8278, -94.71171, -93.2234, -97.65439, -104.53056, -98.49189, -114.60597, -100.72441, -100.8968, -111.67122, -97.0584, -73.10021, -70.7577, -88.11454, -76.89144, -84.79672, -84.47239, -87.09373, -83.56029, -79.4048, -66.56301, -74.4231, -71.87571, -74.10484, -96.1, -88.75121, -89.33706, -75.15, -70.61433, -70.28036, -122.0311, -73.4529, -77.04294, -76.45844, -145.47765, -165.44525, -156.766, -148.46516, -156.64922, -161.838, -152.49386, -176.64603, -158.50334, -155.04847, 144.8, -82.05, -83.80783, -104.49657, -94.13723, -98.42183, -89.46745, -92.83899, -94.93372, -93.40307, -170.7025, -162.59855, -77.72, -76.49299, -82.55, -80.3445, -78.94538, 145.7333, -135.70738, -132.94528, -139.66023, -94.05834, -132.36982, -87.1133],\n",
            "    \"dep_tavg\": [7.4, 20.4, 21.6, 22.0, 18.6, 20.0, 24.8, 18.1, 17.4, 18.7, 24.7, 21.9, 19.2, 22.8, 21.1, 19.4, 18.2, 14.3, 4.7, 2.4, 10.6, 15.0, 10.3, 22.1, 20.1, 17.6, 25.3, 14.1, 11.8, 24.0, 6.1, 25.8, 2.9, 23.5, 11.9, 12.5, 24.5, 12.9, 13.7, 13.8, 4.5, 25.0, 7.6, 8.1, 12.1, 13.6, 3.6, 18.4, 13.3, 5.3, 24.2, 26.1, 19.7, 20.2, 22.4, 20.7, 24.4, -1.5, 21.3, 8.3, 9.4, 11.2, 10.1, 3.2, 24.9, 0.4, 5.8, 19.8, 13.9, 20.6, 16.6, 11.3, 19.0, 15.7, 14.7, 27.6, 16.8, 17.7, 17.8, 26.9, 18.0, 15.2, 8.8, 30.0, 26.3, 25.5, 16.7, 27.4, 15.6, 27.3, 17.1, 18.8, 12.3, 14.0, 23.8, 23.4, 25.4, 21.7, 16.2, 16.4, 14.9, 27.2, 23.3, 26.4, 19.1, 15.3, 17.3, 26.6, 13.5, 20.9, 15.1, 18.3, 25.6, 26.8, 16.9, 21.4, 23.0, 23.2, 27.1, 29.9, 13.4, 23.6, 27.0, 15.5, 14.4, 17.9, 26.2, 7.5, 16.1, 1.6, 11.6, -0.4, 7.7, 9.8, 10.8, 11.0, 8.9, 14.2, -0.3, 24.3, 1.7, 1.3, 0.6, 4.9, -6.8, -1.2, -4.4, -0.7, 4.8, 5.9, -1.7, 12.2, 4.0, 9.9, 9.6, 12.4, 3.1, 14.5, 8.6, 8.2, -0.5, 9.3, 7.3, 0.8, 9.2, 9.7, 21.2, 10.2, 6.6, -1.8, 6.7, 1.9, -0.9, -5.7, -2.0, 0.1, 6.9, 24.6, 7.1, 5.1, -0.6, 6.4, 10.9, 13.2, 16.3, 1.4, 13.1, 1.8, -2.6, 0.3, 4.6, -2.4, 19.3, 8.4, 5.5, 10.0, 11.7, 5.2, 3.7, 1.2, 8.7, 4.1, 2.6, 5.4, 22.9, 11.1, 17.2, 14.6, 22.3, 18.5, 6.3, 6.2, -0.2, 19.6, 7.2, 19.5, 2.8, 12.6, -1.6, 7.8, 22.7, 22.5, -1.3, 7.9, -3.1, 6.5, 5.0, 15.9, -4.5, 11.5, 12.7, 29.4, 33.3, 20.3, 22.6, 21.0, 28.0, 28.7, 21.5, 19.9, 23.9, 28.6, 23.1, 28.5, 28.8, 29.6, 24.1, 31.0, 26.7, 16.5, 23.7, 17.5, 15.8, 14.8, 28.2, 13.0, 10.7, 15.4, 30.3, 8.5, 31.8, 7.0, 10.4, 17.0, 12.8, 27.9, 11.4, 10.5, 6.8, 22.2, 25.2, 9.0, 20.5, 25.7, 8.0, 9.5, 3.5, 26.5, 5.7, -25.3, -12.6, 9.1, 3.3, 18.9, -8.7, -5.3, -6.9, -3.5, 2.5, -2.9, 0.7, -7.7, -6.4, -5.0, -11.7, 3.9, 3.8, 0.0, 2.3, -8.9, 25.9, -6.1, -15.3, 1.5, -14.3, 2.2, 16.0, 3.4, -0.8, 34.7, 31.5, 25.1, 34.0, 32.6, 36.6, 31.7, 29.5, 28.1, 32.1, 30.7, 26.0, 34.5, 31.9, 32.4, 34.2, 29.8, 31.3, 29.3, 30.5, 31.4, 29.7, 30.9, 30.2, 32.2, 31.6, 33.9, 28.9, 28.3, 21.8, 28.4, -1.4, -2.5, -9.6, -11.3, 20.8, -9.8, -19.1, -14.8, 32.9, 38.1, 30.1, 30.6, 27.5, 27.8, 34.8, 36.0, 33.6, 27.7, 29.1, 0.5, -7.8, 5.6, -7.1, -5.6, -3.4, 4.4, -6.3, -1.9, 1.1, -7.2, -2.7, -13.2, -2.8, -5.1, -4.3, 4.3, -1.1, -2.2, 2.7, -13.3, -21.6, -9.2, 0.9, -3.8, -10.8, -10.1, -3.6, 4.2, -7.5, -0.1, -5.9, 32.5, 32.0, 29.2, 33.4, 32.3, 12.0, 6.0, 29.0, 34.1, 31.2, 31.1, 35.3, 34.3, 34.4, 30.8, 0.2, -4.2, -3.3, 1.0, -2.1, -4.1, -3.9, 2.1, 3.0, -3.7, -6.5, -4.7, -9.3, -2.3, 38.2, 33.0, 34.9, 34.6, 33.2, -3.2, -10.0, 2.0, -8.1, -8.4, -4.0, -1.0, 30.4, 36.4, -6.6, -5.4, -4.6, -9.5, -11.0, -7.9, -7.6, -17.8, -11.2, -5.2, -14.6, -13.9, 35.2, 33.8, -9.4, -6.7, -22.0, -15.7, -8.2, -4.8, 38.8, 42.2, 40.2, 38.0, 33.7, 41.3, 36.2, 38.7, -3.0, -10.6, -23.6, -26.1, -19.4, -12.3, 35.9, 39.5, 32.8, -9.1, -15.2, -4.9, -11.8, -24.0, -20.8, -12.0, -14.2, -19.5, -10.9, -6.2, -10.5, -14.0, -16.8, -7.3, 39.6, 32.7, 39.4, 36.8, 33.1, 36.7, -8.3, 35.6, 33.5, -10.7, -5.5, -13.4, -15.6, -9.9, -5.8, 38.9, 35.8, -17.9, -13.7, -7.0, -23.9, -11.9, -11.1, -8.0, 38.3, 37.0, -7.4, -10.2, 35.5, -11.6, -16.1, -8.8, -7.75, 14.45, -3.35, 0.7999999999999999, 10.35, 26.65, 1.45, 20.95, 14.25, 0.35, 14.35, 37.9, 40.3, 39.8, -17.6, 36.1, 36.3, -21.8, 38.4, -14.7, 39.3, 35.4, 37.8, -14.4, -19.2, -28.1, -21.4, -16.5, -17.2, -17.7, -9.0, -16.6, -18.1, -16.9, -9.7, -11.4, 37.7, 37.4, 39.2, 35.0, 36.5, -18.0, 38.5, -15.0, -13.6, 40.9, 35.1, -10.3, 40.7, -12.9, -12.4, -13.1, 40.6, -8.6, 38.6, -6.0, 40.4, -16.3, 39.9, -31.0, -10.4, -8.5, -13.0, -19.7, -35.0, -13.5, -17.0, -17.1, -23.3, -20.7, -17.4, 17.85, 21.15, -12.8, -11.5, -12.2, -12.5, 39.1, -12.7, -15.1, -19.0, -20.6, -14.9, -18.7, -23.5, -20.4, -18.9, -12.1, -17.3, -27.8, -22.9, 37.1, 39.0, 36.9, 39.7, -23.8, -22.6, -15.4, -15.5, -13.8, -14.1, -20.5, 37.6, 41.1, -15.8, -16.4, -22.2, -18.8, -16.2, -28.0, -18.4, -25.7, -20.1, -18.5, -18.3, -15.9, -26.9, -27.7, -21.3, -25.8, -18.6, -21.7, -16.7, 35.7, -24.3, -2.95, -16.0, -14.5, 23.65, -3.15, -20.2, -25.9, -21.2, -22.3, -24.9, -24.7, -1.05, -21.1, -24.2, -20.0, -28.3, -23.2, -22.4, -23.1, -24.1, -26.7, -24.4, -20.9, -28.8, -21.9, -23.4, 13.05, -23.7, -0.7000000000000001, -21.0, -3.45],\n",
            "    \"dep_tmin\": [3.3, 12.8, 13.9, 13.3, 8.3, 20.6, 11.7, 9.4, 17.8, 12.2, 4.4, 1.7, -5.5, 1.1, 10.6, 8.9, 7.8, 22.8, 6.7, 0.0, 23.3, -5.6, 21.1, 15.0, 18.9, 10.0, 15.1, 18.3, 2.8, -1.6, 7.2, 20.0, -2.8, 11.1, 5.0, -0.5, -2.2, -0.6, 16.7, 0.6, 6.1, 21.7, 11.2, 3.9, 23.9, 9.5, 15.6, 24.4, 16.1, 14.4, 17.2, 19.4, 6.3, 10.7, 19.2, 22.2, 9.0, 7.0, 19.0, 26.5, -1.0, -7.7, 7.5, 8.0, -3.8, -4.4, -12.7, -8.2, -11.7, -3.9, -6.0, -3.3, 5.6, -3.2, 25.0, 3.2, -6.6, -7.2, 16.3, 17.9, 7.4, -9.9, -8.9, 13.7, 17.0, 2.2, 10.8, -2.7, -4.9, -6.1, -1.7, 7.6, 4.3, -1.1, 11.0, 16.0, -4.3, 3.5, 25.6, 16.5, 26.7, 29.0, 23.7, 14.0, 12.0, 18.1, 24.2, 9.3, 1.4, 3.0, 7.9, 4.7, 2.0, -3.0, -2.5, -30.5, -18.2, -5.0, 6.0, -8.8, -12.1, 0.8, -15.0, 12.3, -7.1, -6.9, -16.7, -2.1, 21.0, 0.2, -11.0, -11.6, -16.6, 1.0, -14.6, 28.3, 27.8, 10.5, 28.9, 20.1, 32.2, 13.0, 17.3, 27.0, 25.3, 26.1, 27.2, 19.5, 13.6, 12.5, 14.3, -8.0, 2.3, -13.2, -16.0, 16.8, 17.7, -20.5, -26.0, -8.3, -15.5, -22.1, -13.9, 22.0, 30.0, 24.0, 22.1, 20.3, 24.6, 19.6, -7.8, -4.0, -12.2, 21.2, -2.0, 23.0, -17.7, -14.4, -10.0, 2.6, 0.7, 1.9, 15.4, -19.9, -23.9, 11.8, -0.7, -13.8, -9.4, -12.0, -14.3, 23.5, 27.5, 4.0, 3.8, 10.9, 13.5, 21.9, 20.8, 18.7, 24.7, 18.0, 29.4, 26.0, 24.3, 13.1, -13.3, -7.9, -3.5, -6.7, -9.3, 0.5, -1.4, -5.8, -17.2, -10.6, 30.6, 13.8, -10.5, 5.3, 8.5, 13.4, 10.2, 2.4, 0.4, 5.8, 1.5, -11.1, 13.2, 6.2, 8.6, 5.5, 5.1, 10.3, 22.7, 20.2, 3.1, -12.8, -5.9, -4.7, -4.1, -1.5, -22.8, -21.0, -4.8, -26.6, 14.6, 9.1, 23.8, -9.0, 9.7, -7.0, 18.2, 16.2, 6.6, 12.7, -22.7, 23.1, 9.6, -0.2, -1.2, 21.8, 32.8, 31.1, 15.3, 20.5, 25.7, 4.9, 12.1, 7.1, 15.7, 19.9, 20.9, 21.5, 16.6, 33.9, 15.9, 25.1, 31.0, -6.3, -32.1, -22.2, 11.9, 4.6, -17.8, -21.7, 35.0, 15.8, -27.9, -25.6, -14.9, -21.1, -4.6, 7.3, -18.8, -7.3, -18.9, 7.7, -23.3, -15.6, -16.2, -1.9, 14.7, 33.3, 24.1, 22.3, -17.1, 12.9, 19.3, -3.4, 5.7, 19.8, 17.5, 18.8, 31.7, 2.7, 1.3, -14.1, 1.8, -5.3, 18.4, 23.2, 22.5, 23.6, 9.2, -12.3, -18.3, 16.4, 6.5, 5.4, 27.1, 22.6, 17.4, 21.6, 25.2, 28.0, 14.1, 4.8, -0.4, 14.2, -26.7, -4.2, -14.2, -31.7, 11.3, -28.8, -19.3, 27.9, 4.5, 10.1, -5.7, -0.8, 5.2, -10.9, 20.7, 20.25, 18.85, -13.05, 11.4, 12.4, -6.5, 10.85, 19.75, 2.25, -3.1, 6.95, 23.55, 14.45, -0.25, 15.55, -7.75, -6.15, -20.4, -4.25, 14.5, 19.1, 17.1, -5.1, 8.8, -29.3, 3.6, 17.6, 8.1, -2.6, 10.4, -7.5, 15.5, 1.2, -2.9, 2.5, -15.8, -0.1, -1.8, 4.1, 6.8, 4.2, 29.5, 6.4, -36.6, -25.0, -24.4, -25.5, -16.1, -20.6, 5.9, 36.1, 23.4, -5.4, -2.3, 6.9, 25.4, 16.9, 14.9, 25.5, 32.0, 12.6, 2.1, 21.3, -11.2, 21.4, 26.9, 24.9, 26.6, -13.0, -0.9, -18.4, 35.6, 9.9, 9.8, -9.1, -2.4, 34.4, 11.6, 3.4, 24.8, 11.5, 26.8, 25.8, 26.3, 18.5, -14.0, -33.9, 2.9, -27.2, -37.2, -16.3, -19.4, -15.4, -23.2, -25.3, -21.6, 1.6, -24.3, 0.9, 22.4, -10.1, -9.2, -18.0, -28.3, -76.0, 15.2, -3.7, -24.7, -6.2, 8.7, -15.7, -31.6, 3.7, 25.9, -13.7, -8.7, -13.5, 24.5, -7.4, -0.3, 27.3, 14.8, -10.3, 0.1, -23.8, -15.1, -11.5, -12.4, 19.7, -4.5, -24.9, -30.0, -28.9, -20.0, -29.9, -10.7, -3.6, -13.1, 8.4, -11.8, 26.2, 18.6, -1.3, -9.7, 20.4, 28.8, 28.5, 22.9, -9.5, 8.2, -6.4, -7.6, -12.5, -17.0, -29.4, 28.2, -9.8, 27.4, -5.2, -19.1, -28.2, 28.1, -27.8, -32.7, 0.3, -27.1, -33.2, -24.0, -32.2, -34.0, -31.0, -8.4, -6.949999999999999, 19.45, 27.6, -8.5, -12.6, -11.4, -27.7, 26.4, 27.7, -9.6, 10.45, -11.35, -33.8, -30.1, -35.5, -18.5, -0.55, -10.8, 9.45, -19.0, -37.7],\n",
            "    \"dep_tmax\": [11.1, 26.7, 28.3, 28.9, 26.1, 31.1, 31.7, 23.9, 7.8, 8.9, 12.2, 18.9, 12.8, 33.3, 25.6, 30.6, 21.7, 16.7, 29.4, 25.0, 30.0, 18.3, 13.9, 17.2, 31.3, 15.6, 15.0, 10.6, 11.7, 13.3, 14.0, 16.1, 9.4, 22.2, 19.4, 10.0, 32.0, 27.8, 5.1, 32.2, 14.4, 17.8, 20.0, 6.1, 27.2, 2.2, 24.4, 20.6, 34.4, 21.1, 18.8, 23.3, 35.6, 21.8, 33.9, 22.8, 32.8, 22.9, 20.4, 25.3, 36.1, 35.0, 16.0, 23.0, 24.0, 29.0, 5.6, 4.4, 2.8, 0.0, 0.3, 5.0, 8.3, 3.3, 3.9, -3.9, 22.0, 22.3, 21.0, 4.0, 6.7, 1.7, 7.2, 19.1, 10.7, 19.2, 6.0, 19.0, 1.1, 39.4, 22.1, 27.0, 23.7, 31.2, 26.0, 37.2, 29.1, 17.0, 19.9, 38.9, 38.3, 18.0, 13.0, 22.6, 24.5, 11.3, 28.0, 16.2, 11.5, -17.1, -11.6, 20.7, 23.4, -7.7, -4.3, 13.8, 0.6, 12.0, -2.7, 21.9, 2.1, -0.6, -6.1, -1.6, 19.8, 8.5, 8.0, -1.0, -11.0, -2.5, 7.0, 41.7, 42.2, 43.9, 40.0, 38.0, 41.1, 36.0, 37.8, 36.7, 31.0, 28.2, 40.6, 25.1, 25.7, 11.2, 10.3, 4.3, -6.0, -9.3, 25.5, 25.8, -7.1, -15.5, -13.8, 0.8, 26.4, 30.4, 44.4, 33.0, 33.2, 42.8, 43.3, 23.2, 35.3, 3.0, -1.5, 2.0, 2.6, -3.3, 29.9, 1.2, -9.9, -2.8, -2.0, 9.6, 3.5, 8.4, -16.1, 2.3, 25.2, -4.9, -1.1, 9.0, 24.7, 0.1, 30.8, 34.2, 35.2, 15.7, 12.7, 18.1, 24.6, 24.3, 27.1, 34.1, 35.1, 34.0, 37.5, 26.3, 30.7, 27.9, 37.0, 37.3, 3.8, 2.7, -3.2, 14.9, 14.6, -6.7, 26.8, 46.1, 26.2, -8.8, 20.8, 18.2, 20.1, 23.5, 11.0, 12.4, 17.7, 13.6, 15.1, 12.6, 29.3, 30.1, 31.8, 22.7, -0.5, 34.9, 32.3, 16.3, -2.1, -6.6, -8.3, -5.5, 1.0, -11.1, -3.0, -10.5, 0.4, -12.7, 28.1, -7.0, -7.2, -8.2, 27.5, -3.8, 19.3, 18.5, -4.4, 25.9, 8.2, 19.5, 26.5, -19.3, 33.6, 28.4, 22.5, 11.4, 6.2, 31.5, 47.8, 34.5, 28.8, 32.6, 38.2, 23.8, 29.5, 28.6, 48.3, 47.0, 24.2, 10.4, 6.9, -1.7, -2.2, -20.5, -19.9, -23.8, -18.3, 17.3, 45.6, 33.5, 32.4, -7.5, -19.6, -16.7, -17.8, 15.2, 4.5, 5.5, -10.6, 13.2, -8.9, 3.2, 5.8, -0.3, 4.2, 30.3, 28.7, 30.5, 25.4, 18.4, 1.6, 0.5, 15.3, 27.4, 30.2, 29.2, 35.5, 41.3, 13.7, 7.5, 7.7, -12.1, -5.6, -1.8, -5.0, 24.8, 17.4, 16.8, 16.6, 27.3, 15.9, 29.7, 41.0, 14.3, 16.4, 18.7, 4.8, -10.0, 4.6, -12.0, 7.1, 19.6, 26.6, 24.1, 29.8, 13.4, 21.2, 8.7, 13.1, 45.0, 4.9, 14.8, 0.7, 6.5, 9.5, 20.2, -3.35, 23.05, 4.7, 18.85, 3.6, 27.75, 4.449999999999999, -2.4, 0.85, 1.9, 5.4, 31.4, 24.9, 28.5, 46.7, 6.6, 38.6, 15.5, 36.2, 32.1, 23.1, 29.6, 12.5, -5.7, -8.0, 18.6, 26.9, 38.5, 36.9, 20.9, 17.5, 10.2, 20.3, -14.9, 21.4, 37.4, 22.4, 42.3, 19.7, 20.5, 23.6, 35.9, 33.7, 34.7, -18.8, -14.3, -13.2, -14.4, -15.0, 15.8, 34.3, 27.6, 12.9, 2.9, 7.4, 32.5, 36.4, 12.1, 5.3, 35.4, -3.5, 37.1, 31.9, 39.5, 17.1, 21.6, -20.0, 39.0, 14.2, -7.8, -0.9, 13.5, 17.6, 39.3, 30.9, -9.4, 14.5, 11.8, 14.7, 5.2, 14.1, 39.2, 39.7, 32.7, 42.0, 21.3, 31.6, 21.5, 33.8, 7.6, 9.3, 33.4, 39.1, -28.9, 4.1, -1.3, 8.1, 1.8, -11.7, 40.4, -31.7, -4.8, -4.0, -9.7, 7.3, 7.9, 34.6, 24.15, 1.4, 16.5, -12.8, -3.1, -2.6, -12.2, -0.4, 12.3, -0.8, 35.7, 36.8, 11.9, -2.9, 3.1, 10.8, 0.9, 37.7, 40.5, 17.9, 47.2, 48.9, 32.9, 8.6, 42.4, 40.2, 15.4, -2.3, -15.6, 33.1, 35.8, 9.2, -17.2, -4.5, -22.8, 8.8, -4.1, -3.4, 0.2, 1.5, 10.1, 10.5, -21.0, -5.8, 9.7, 39.6, 2.5, 38.4, 5.7, 38.7, 36.5, 39.8, 9.9, -21.7, -0.7, 3.7, -1.2, 9.1, 36.3, 10.9, 3.4, -13.9, 41.9, -4.7, -21.1, 27.7, 11.6, 37.6, 44.9, 5.9, 34.8, 37.9, 36.6, -16.0, -16.6, -24.3, -17.7, 6.8, 6.4, -18.2, -13.0, -20.6, 38.1, -11.5, -4.2, -14.0, -18.4, 1.3, -1.95, 29.45, 39.9, 16.9, 40.3, 2.75, 4.45, -27.1, -5.1, -22.7, -25.5, 17.35, 9.8, -8.1, 6.3],\n",
            "    \"dep_prcp\": [0.0, 9.4, 0.5, 4.8, 2.0, 1.5, 0.3, 1.1, 0.1, 6.3, 2.5, 3.5, 11.4, 2.8, 0.8, 16.0, 19.2, 14.8, 2.9, 5.6, 0.9, 23.9, 25.4, 3.6, 11.7, 33.0, 1.3, 5.3, 16.7, 8.4, 10.4, 3.8, 5.0, 3.3, 29.7, 32.3, 2.4, 23.4, 1.9, 6.9, 5.9, 0.2, 1.0, 1.4, 0.6, 10.9, 4.9, 5.1, 0.4, 24.4, 8.9, 9.5, 6.6, 70.1, 1.8, 57.2, 3.0, 6.8, 13.5, 10.7, 18.5, 36.1, 52.8, 71.8, 4.4, 1.2, 35.0, 21.3, 4.7, 2.6, 15.5, 27.4, 38.6, 32.2, 9.9, 17.8, 6.4, 18.3, 46.7, 2.3, 7.4, 58.2, 54.4, 0.7, 14.2, 13.2, 1.7, 10.0, 17.0, 3.9, 4.3, 20.1, 7.9, 25.0, 7.6, 7.2, 17.5, 15.0, 26.6, 28.7, 24.9, 11.6, 4.1, 21.8, 8.7, 18.8, 18.0, 26.2, 17.3, 9.7, 1.6, 5.7, 3.4, 6.1, 9.1, 5.4, 12.2, 53.8, 12.4, 15.7, 3.1, 11.2, 7.5, 63.5, 27.7, 63.2, 8.6, 5.8, 36.6, 4.6, 19.1, 16.3, 14.9, 7.1, 13.0, 7.7, 19.6, 31.5, 46.5, 2.7, 11.8, 64.6, 4.5, 24.6, 20.3, 8.0, 13.7, 22.1, 60.6, 10.8, 10.2, 17.2, 18.1, 16.5, 9.6, 18.2, 3.7, 2.2, 14.7, 8.8, 55.9, 52.1, 12.1, 6.0, 9.2, 70.4, 35.6, 29.5, 19.8, 20.0, 23.1, 5.2, 17.7, 31.2, 26.4, 27.9, 8.1, 7.0, 10.3, 3.2, 6.7, 19.0, 29.0, 39.4, 37.1, 33.3, 12.7, 4.2, 28.0, 2.1, 69.9, 57.4, 20.7, 39.1, 36.8, 14.5, 26.7, 42.9, 4.0, 13.9, 41.4, 38.1, 22.9, 59.7, 34.5, 27.3, 32.0, 79.5, 30.0, 19.3, 30.5, 17.1, 20.8, 39.7, 30.2, 54.1, 16.2, 29.8, 38.9, 25.7, 10.6, 22.8, 30.3, 25.2, 16.8, 21.0, 10.5, 20.5, 6.5, 11.9, 11.0, 45.0, 55.1, 52.7, 39.6, 53.1, 22.4, 58.5, 65.8, 5.5, 59.4, 15.6, 19.5, 35.5, 13.3, 25.3, 35.9, 14.4, 15.8, 8.2, 12.0, 15.2, 11.5, 7.3, 36.3, 36.2, 12.5, 12.8, 7.8, 9.0, 18.9, 29.2, 28.2, 40.9, 26.5, 41.1, 43.4, 32.5, 22.3, 17.4, 26.9, 14.0, 16.9, 44.5, 22.2, 28.9, 15.3, 31.8, 48.5, 45.2, 21.6, 21.2, 27.6, 11.3, 20.4, 25.9, 20.6, 24.1, 33.8, 34.0, 33.2, 13.6, 10.1, 50.3, 40.7, 21.5, 27.2, 45.7, 23.6, 93.5, 62.0, 17.6, 47.8, 30.6, 6.2, 11.1, 48.2, 34.8, 48.8, 16.4, 19.9, 25.5, 8.3, 37.3, 25.8, 9.3, 40.4, 30.7, 29.6, 39.9, 43.6, 21.7, 25.1, 40.6, 21.9, 13.1, 44.2, 8.5, 21.1, 31.9, 23.2, 62.2, 47.3, 41.7, 51.1, 33.5, 27.5, 26.0, 42.4, 35.8, 15.4, 23.5, 46.0, 35.3, 14.1, 16.6, 14.6, 19.4, 23.3, 18.7, 25.6, 40.1, 13.8, 24.7, 60.7, 37.6, 43.2, 58.7, 85.2, 0.55, 10.35, 2.75, 6.25, 22.6, 6.85, 5.95, 0.15, 4.35, 0.45, 0.35, 1.55, 1.35, 64.3, 43.9, 34.3, 12.3, 61.0, 15.9, 9.8, 32.8, 36.9, 38.7, 38.8, 63.8, 126.2, 48.6, 31.0, 50.9, 32.9, 12.6, 47.5, 68.8, 82.6, 73.5, 16.1, 28.4, 35.7, 44.0, 31.1, 112.3, 14.3, 12.9, 45.4, 65.3, 13.4, 26.8, 49.8, 48.3, 69.6, 18.4, 31.6, 41.5, 23.8, 60.2, 22.7, 45.5, 38.4, 147.9, 49.9, 40.3, 62.7, 19.7, 77.2, 72.1, 37.4, 39.3, 28.8, 52.6, 24.5, 51.7, 71.1, 50.8, 44.6, 51.6, 28.5, 23.7, 42.2, 42.1, 20.9, 26.1, 51.5, 55.7, 40.8, 30.1, 18.6, 17.9, 15.1, 49.5, 85.1, 83.8, 88.1, 101.9, 87.3, 29.4, 31.7, 76.2, 29.9, 50.0, 64.5, 32.4, 47.2, 56.9, 68.2, 34.2, 43.1, 61.2, 60.5, 23.0, 69.3, 32.7, 24.0, 27.1, 72.6, 9.25, 42.7, 31.4, 95.5, 44.9, 57.7, 39.8, 70.9, 24.3, 91.4, 54.8, 28.1, 78.0, 58.9, 67.8, 31.3, 54.6, 47.6, 51.0, 30.8, 38.3, 21.4, 37.5, 47.0, 68.1, 41.9, 33.4, 34.6, 44.1, 53.7, 115.1, 46.1, 129.2, 88.4, 33.1, 52.0, 50.5, 59.2, 97.5, 64.8, 40.5, 37.8, 46.2, 44.7, 22.5, 102.9, 22.0, 55.4, 53.5, 62.6, 60.1, 157.2, 42.6, 111.8, 46.9, 28.3, 88.6, 37.0, 54.5, 76.7, 54.9, 113.0, 104.9, 48.0, 38.2, 100.8, 87.1, 36.7, 72.5, 61.4, 61.7, 55.6, 65.0, 35.1, 43.0, 38.5, 70.5, 52.3, 34.4, 43.7, 571.5, 58.4, 78.5, 33.7, 36.5, 107.3, 72.4, 120.5, 82.0, 70.6, 73.9, 57.9, 89.9, 30.4, 68.5, 29.3, 71.3, 41.3, 51.8, 282.7, 66.0, 66.5, 86.9, 59.9, 30.9, 32.1, 34.7, 57.0, 56.1, 45.6, 169.9, 41.6, 33.9, 53.3, 20.2, 54.7, 27.8, 51.9, 74.2, 80.8, 61.6, 61.5, 24.2, 46.6, 105.4, 51.3, 42.3, 34.9, 49.4, 33.6, 27.0, 87.0, 83.3, 39.5, 41.8, 191.3, 58.0, 53.4, 79.2, 96.0, 57.1, 65.9, 40.2, 74.3, 81.3, 79.0, 50.4, 59.5, 67.3, 61.8, 88.7, 38.0, 104.7, 26.3, 71.5, 75.8, 24.8, 204.5, 68.0, 103.4, 84.3, 53.6, 47.9, 37.2, 36.0, 2.45, 6.699999999999999, 117.1, 158.5, 67.6, 82.8, 113.3, 42.5, 74.9, 63.0, 77.5, 47.4, 45.8, 85.6, 49.0, 98.8],\n",
            "    \"dep_snow\": [0, 30, 50, 100, 80, 690, 640, 330, 430, 180, 200, 510, 230, 840, 130, 580, 250, 300, 25, 810, 508, 410, 380, 254, 170, 360, 480, 432, 150, 280, 560, 460, 51, 178, 610, 740, 530, 660, 760, 350, 635, 710, 910, 790, 381, 279, 406, 584, 483, 860, 305, 102, 229, 533, 1520, 270, 420, 127, 559, 152, 203, 390, 356, 76, 890, 457, 10],\n",
            "    \"dep_wdir\": [203.0, 214.0, 200.0, 208.0, 15.0, 184.0, 220.0, 155.0, 24.0, 171.0, 340.0, 194.0, 123.0, 258.0, 182.0, 94.0, 33.0, 1.0, 58.0, 341.0, 263.0, 166.0, 151.0, 125.0, 320.0, 284.0, 117.0, 183.0, 290.0, 229.0, 14.0, 245.0, 65.0, 260.0, 280.0, 230.0, 207.0, 86.0, 146.0, 62.0, 289.0, 261.0, 221.0, 174.0, 56.0, 159.0, 319.0, 222.0, 188.0, 20.0, 198.0, 241.0, 309.0, 338.0, 186.0, 176.0, 270.0, 219.0, 162.0, 257.0, 177.0, 238.0, 201.0, 185.0, 12.0, 180.0, 193.0, 328.0, 25.0, 158.0, 233.0, 348.0, 329.0, 312.0, 234.0, 80.0, 262.0, 240.0, 278.0, 34.0, 212.0, 164.0, 283.0, 9.0, 314.0, 346.0, 126.0, 350.0, 23.0, 26.0, 282.0, 302.0, 333.0, 218.0, 250.0, 172.0, 195.0, 187.0, 48.0, 4.0, 170.0, 327.0, 101.0, 136.0, 173.0, 160.0, 335.0, 332.0, 279.0, 105.0, 17.0, 8.0, 343.0, 189.0, 324.0, 315.0, 16.0, 239.0, 265.0, 266.0, 305.0, 135.0, 359.0, 71.0, 47.0, 215.0, 143.0, 70.0, 358.0, 130.0, 84.0, 39.0, 13.0, 10.0, 7.0, 92.0, 116.0, 337.0, 87.0, 190.0, 306.0, 339.0, 5.0, 156.0, 204.0, 106.0, 293.0, 217.0, 235.0, 347.0, 22.0, 53.0, 264.0, 115.0, 167.0, 246.0, 197.0, 321.0, 287.0, 224.0, 21.0, 345.0, 253.0, 296.0, 248.0, 31.0, 169.0, 110.0, 57.0, 72.0, 128.0, 153.0, 121.0, 154.0, 148.0, 122.0, 149.0, 157.0, 113.0, 109.0, 199.0, 225.0, 357.0, 192.0, 352.0, 255.0, 27.0, 59.0, 252.0, 181.0, 137.0, 95.0, 36.0, 134.0, 308.0, 175.0, 111.0, 237.0, 209.0, 325.0, 144.0, 206.0, 152.0, 138.0, 81.0, 127.0, 316.0, 342.0, 35.0, 344.0, 76.0, 205.0, 202.0, 191.0, 286.0, 52.0, 196.0, 88.0, 60.0, 304.0, 292.0, 97.0, 326.0, 43.0, 311.0, 277.0, 120.0, 98.0, 18.0, 82.0, 179.0, 210.0, 354.0, 103.0, 334.0, 294.0, 2.0, 231.0, 213.0, 276.0, 6.0, 75.0, 356.0, 226.0, 129.0, 353.0, 178.0, 351.0, 273.0, 85.0, 63.0, 216.0, 30.0, 355.0, 66.0, 3.0, 256.0, 147.0, 19.0, 168.0, 281.0, 323.0, 29.0, 163.0, 54.0, 349.0, 49.0, 161.0, 317.0, 37.0, 322.0, 313.0, 251.0, 297.0, 50.0, 298.0, 331.0, 133.0, 150.0, 301.0, 336.0, 42.0, 108.0, 330.0, 318.0, 73.0, 44.0, 275.0, 64.0, 310.0, 140.0, 242.0, 295.0, 118.0, 300.0, 244.0, 299.0, 269.0, 259.0, 142.0, 61.0, 40.0, 307.0, 288.0, 51.0, 124.0, 46.0, 38.0, 112.0, 91.0, 89.0, 55.0, 271.0, 107.0, 232.0, 0.0, 247.0, 77.0, 119.0, 28.0, 236.0, 32.0, 93.0, 99.0, 41.0, 243.0, 132.0, 96.0, 67.0, 69.0, 68.0, 285.0, 11.0, 291.0, 303.0, 102.0, 83.0, 254.0, 211.0, 228.0, 249.0, 272.0, 223.0, 100.0, 74.0, 139.0, 45.0, 268.0, 131.0, 227.0, 78.0, 141.0, 145.0, 79.0, 165.0, 274.0, 104.0, 267.0, 90.0, 114.0, 360.0, 322.5, 183.5, 184.5, 169.5, 210.5, 286.5, 41.5, 117.5, 274.5, 225.5, 99.5, 229.5, 242.5, 132.5, 105.5, 205.5, 247.5, 92.5, 233.5, 165.5, 251.5, 104.5, 114.5, 259.5, 201.5, 331.5, 137.5, 339.5, 267.5, 276.5, 39.5, 338.5, 321.5, 325.5, 238.5, 329.5, 224.5, 313.5, 72.5, 216.5, 143.5, 332.5, 207.5, 102.5, 119.5, 55.5, 283.5, 112.5, 275.5, 187.5, 20.5, 253.5, 160.5, 327.5, 53.5, 40.5, 170.5, 85.5, 161.5, 29.5, 190.5, 280.5, 232.5, 258.5, 100.5, 35.5, 174.5, 195.5, 227.5, 234.5, 312.5, 296.5, 164.5],\n",
            "    \"dep_wspd\": [12.2, 24.5, 15.1, 4.3, 23.8, 18.0, 11.7, 6.5, 19.8, 13.0, 10.1, 10.8, 21.2, 4.6, 7.6, 20.5, 26.6, 11.8, 15.5, 10.4, 14.4, 7.9, 9.0, 13.3, 23.2, 24.8, 10.7, 16.2, 14.8, 21.6, 6.8, 10.5, 25.2, 16.9, 13.7, 10.2, 8.6, 11.3, 7.8, 12.0, 16.6, 9.7, 17.1, 8.3, 33.8, 11.1, 11.5, 18.2, 35.9, 33.5, 16.3, 17.5, 22.3, 22.7, 12.1, 12.8, 11.9, 18.5, 13.9, 14.0, 11.2, 13.6, 24.1, 18.7, 9.9, 8.8, 16.0, 17.2, 10.3, 6.1, 19.1, 14.7, 12.6, 18.4, 17.6, 10.6, 9.4, 9.1, 6.7, 7.1, 5.8, 4.1, 14.9, 6.0, 7.2, 5.0, 12.7, 8.2, 7.0, 20.4, 16.5, 18.9, 8.1, 13.8, 22.0, 6.2, 17.3, 3.7, 7.3, 5.2, 15.8, 12.3, 15.9, 9.3, 3.2, 4.7, 4.5, 4.0, 15.0, 6.4, 8.5, 3.6, 10.9, 28.6, 29.2, 10.0, 21.3, 7.5, 14.6, 15.2, 5.5, 25.6, 2.8, 2.5, 2.1, 23.3, 5.4, 15.3, 6.9, 33.1, 11.0, 23.0, 3.9, 17.8, 9.5, 5.3, 18.1, 1.8, 13.2, 3.3, 9.6, 15.4, 5.6, 3.5, 14.3, 27.4, 9.8, 8.4, 8.9, 11.6, 23.4, 19.5, 11.4, 8.0, 4.8, 7.4, 22.8, 13.4, 2.6, 13.5, 4.4, 6.3, 16.4, 20.2, 7.7, 6.6, 25.9, 27.7, 16.7, 21.9, 17.4, 8.7, 13.1, 29.9, 27.0, 24.6, 31.0, 23.6, 24.4, 26.3, 27.9, 28.1, 21.7, 12.9, 19.4, 24.7, 16.1, 19.6, 15.6, 18.6, 4.9, 12.5, 30.2, 17.9, 26.0, 20.6, 21.8, 21.0, 14.2, 14.5, 28.4, 23.7, 5.7, 24.0, 20.9, 20.0, 47.5, 36.4, 18.3, 29.6, 31.7, 23.5, 19.9, 20.1, 12.4, 30.9, 3.1, 23.1, 23.9, 3.0, 5.9, 18.8, 21.4, 16.8, 36.7, 20.7, 36.2, 17.7, 15.7, 30.4, 1.4, 28.8, 2.9, 32.0, 9.2, 28.0, 29.3, 2.2, 28.2, 1.7, 19.0, 22.6, 19.3, 25.5, 19.7, 1.6, 5.1, 0.7, 22.9, 1.9, 2.0, 14.1, 1.1, 22.4, 1.0, 4.2, 2.7, 3.8, 22.2, 35.3, 34.6, 3.4, 29.1, 21.1, 26.4, 20.3, 26.2, 20.8, 19.2, 30.6, 24.2, 25.1, 2.4, 22.5, 31.3, 26.9, 38.9, 34.2, 17.0, 29.5, 25.3, 32.4, 22.1, 30.0, 0.9, 32.8, 38.2, 25.0, 30.3, 26.5, 27.1, 24.9, 32.5, 30.1, 25.8, 29.7, 32.2, 28.7, 37.4, 31.6, 34.9, 28.9, 2.3, 21.5, 39.2, 25.7, 35.6, 26.1, 37.1, 32.9, 27.2, 34.1, 26.7, 0.3, 25.4, 42.1, 13.55, 13.45, 7.85, 16.25, 10.95, 11.45, 17.15, 14.15, 14.25, 16.75, 21.35, 7.75, 21.65, 1.5, 34.0, 32.7, 0.5, 37.2, 39.6, 24.3, 31.2, 40.3, 40.0, 33.9, 35.4, 0.4, 1.3, 31.5, 26.8, 36.1, 28.3, 38.5, 43.9, 41.4, 33.4, 30.8, 30.5, 38.6, 32.1, 44.3, 29.4, 36.0, 41.0, 40.7, 33.3, 32.3, 27.6, 41.2, 31.9, 33.0, 35.2, 31.1, 29.8, 35.7, 0.2, 15.95, 33.6, 42.5, 36.3, 37.7, 28.5, 27.5, 0.0, 35.5, 35.8, 30.7, 1.2, 27.3, 0.6, 0.8, 38.4, 44.6, 27.8, 33.7, 42.0, 37.8, 32.6, 34.5, 29.0, 36.9, 39.1, 20.55, 5.35, 17.25, 33.2, 49.3, 18.65, 13.15, 35.0, 41.8, 48.7, 12.65, 31.8, 43.6],\n",
            "    \"dep_pres\": [1017.5, 993.4, 1010.4, 1010.3, 1013.8, 1007.8, 1011.7, 1013.2, 1010.9, 1007.9, 1008.3, 1001.7, 1014.0, 1009.1, 1006.5, 1008.1, 1013.3, 1016.6, 1005.2, 1011.6, 1005.6, 1014.2, 1005.3, 1008.7, 1009.3, 1010.1, 1012.3, 1011.0, 1002.2, 1012.2, 1010.8, 1010.5, 1000.6, 1017.7, 1014.6, 1018.7, 1002.8, 999.5, 1008.8, 1009.5, 1009.9, 1011.8, 1017.6, 1011.1, 1000.1, 1017.0, 1009.4, 1010.0, 1012.9, 999.2, 1018.3, 1003.4, 1012.7, 1016.7, 1009.7, 1012.4, 1012.0, 1006.7, 996.1, 1001.4, 1001.3, 1001.8, 997.2, 997.9, 1004.0, 1003.5, 1002.7, 1012.6, 1015.2, 1006.9, 1019.8, 1022.5, 1014.1, 1016.4, 1026.5, 1017.3, 1012.8, 1020.6, 1016.9, 1024.2, 1022.4, 1015.6, 1016.0, 1015.5, 1019.6, 1019.1, 1019.4, 1011.5, 1026.3, 1013.4, 1017.9, 1013.5, 1025.5, 1026.8, 1017.1, 1024.3, 1013.9, 1026.9, 1016.2, 1016.1, 1019.3, 1011.4, 1015.8, 1023.9, 1018.1, 1015.4, 1015.0, 1021.7, 1019.0, 1018.5, 1026.4, 1015.1, 1015.3, 1020.8, 1022.8, 1019.5, 1023.2, 1018.8, 1018.0, 1015.9, 1021.2, 1016.8, 1014.5, 1014.3, 1025.8, 1007.4, 1020.2, 1014.7, 1022.0, 1013.0, 1024.0, 1020.1, 1014.8, 1006.8, 1012.1, 1004.9, 1014.4, 1013.1, 1023.3, 1015.7, 1024.4, 1018.2, 1021.0, 1025.6, 1016.5, 1021.3, 1016.3, 1006.6, 1024.9, 1017.4, 1005.9, 1005.4, 1013.6, 1010.6, 1017.2, 1012.5, 1014.9, 1007.7, 1004.7, 1017.8, 988.1, 1027.8, 1021.4, 1006.3, 1022.6, 1021.5, 996.2, 1020.3, 1021.9, 1024.6, 1007.3, 1021.8, 1020.5, 1003.7, 1000.9, 1001.2, 1020.4, 1010.7, 1004.4, 1026.2, 1010.2, 1021.1, 1020.0, 1009.0, 1003.8, 1022.1, 1004.8, 1008.6, 998.9, 1028.3, 1008.9, 1024.1, 1003.0, 1025.7, 1028.9, 1025.2, 1023.1, 1005.8, 1011.9, 1005.5, 1009.6, 1006.2, 1008.5, 1003.1, 1008.2, 1018.4, 1009.8, 1022.2, 1021.6, 1019.9, 1020.9, 1011.3, 1008.0, 1018.9, 1019.2, 1029.4, 1032.6, 1033.7, 1025.1, 1030.8, 1029.2, 1032.2, 1020.7, 1019.7, 1031.2, 1031.1, 1022.7, 1031.5, 1032.3, 1029.7, 1018.6, 1029.1, 1027.1, 1025.9, 1031.7, 1028.7, 1029.5, 1024.8, 1034.1, 1027.4, 1028.5, 1023.5, 1032.8, 1027.0, 1000.7, 1028.6, 1032.0, 1031.4, 1027.7, 1033.3, 1033.0, 1031.0, 1033.4, 1011.2, 1030.3, 1030.7, 1026.0, 1033.6, 1022.3, 1023.0, 1023.4, 1030.5, 1037.0, 1009.2, 1036.7, 1030.2, 1040.4, 1023.6, 1029.3, 1026.6, 1033.1, 1013.7, 1036.5, 1023.7, 1026.1, 1028.2, 1028.0, 1022.9, 1007.1, 1001.9, 1007.6, 1007.5, 1008.4, 1006.1, 1004.3, 1002.5, 1002.9, 999.9, 993.2, 1005.1, 1005.0, 1005.7, 998.2, 1007.0, 996.6, 999.1, 1003.9, 1004.1, 1003.6, 996.3, 999.4, 1036.6, 995.0, 1003.2, 1000.4, 1000.3, 1002.1, 996.0, 1002.3, 1002.6, 1003.3, 1002.0, 1006.4, 1004.5, 1001.6, 1006.0, 999.0, 999.7, 1000.2, 1004.6, 1001.5, 1024.7, 1029.6, 1023.8, 1032.9, 1032.5, 1026.7, 1030.6, 1027.2, 1027.6, 989.4, 1028.4, 1036.0, 1033.2, 1027.5, 1034.6, 1029.8, 1031.6, 1024.5, 1030.1, 1004.2, 1025.3, 995.6, 1028.1, 1027.9, 1025.4, 1029.0, 1027.3, 1001.0, 1031.9, 1035.4, 1029.9, 1030.4, 1025.0, 1032.4, 1028.8, 1032.1, 1034.3, 1033.9, 1030.9, 1033.5, 1034.5, 998.0, 999.3, 995.7, 1002.4, 998.8, 1000.8, 997.5, 1031.8, 1032.7, 1037.2, 1035.3, 1034.4, 1007.2, 1039.2, 1031.3, 1035.5, 1036.1, 1000.5, 989.7, 995.1, 998.6, 1001.1, 994.1, 993.1, 997.3, 997.6, 998.7, 997.4, 998.5, 997.0, 999.6, 991.9, 996.4, 1034.8, 998.3, 1039.1, 1034.0, 1030.0, 987.1, 987.5, 993.8, 992.5, 994.4, 993.7, 1000.0, 995.2, 991.8, 997.8, 998.4, 993.5, 1010.25, 1018.45, 1012.85, 1016.85, 1012.55, 1011.35, 1016.45, 1013.35, 1012.65, 1016.65, 1010.05, 1013.65, 1013.55, 1019.85, 1016.15, 1021.05, 1017.25, 1018.55, 1014.95, 1011.95, 1011.85, 1011.75, 1019.15, 1018.65, 1016.25, 1012.75, 1015.15, 1012.25, 1015.25, 1014.85, 1012.95, 1017.85, 1014.15, 1018.85, 1011.05, 1015.95, 1011.65, 1016.35, 1018.05, 1012.35, 1012.15, 992.0, 996.8, 1036.2, 1034.2, 1036.8, 1034.7, 1035.8, 982.6, 999.8, 982.0, 991.4, 987.9, 1037.7, 1036.4, 994.6, 994.2, 977.6, 970.1, 1035.9, 1034.9, 995.9, 996.9, 994.3, 995.8, 971.7, 996.7, 997.7, 998.1, 995.5, 996.5, 994.9, 1041.7, 990.8, 982.4, 1035.1, 1036.9, 1009.95, 1009.35, 1013.75, 1014.25, 1040.0, 1036.3, 1037.8, 1035.2, 1039.5, 1035.0, 997.1, 989.1, 1042.2, 1035.7, 984.8, 993.6, 1035.6, 986.8, 983.0, 990.0, 992.4, 991.2, 990.5, 993.0, 995.3, 992.1, 1038.2, 1037.4, 1038.5, 1037.3, 1037.1, 1038.7, 1038.0, 1037.6, 1037.9, 985.9, 990.1, 985.1, 989.0, 992.9, 1033.8, 991.6, 980.3, 986.7, 992.6, 992.8, 993.9, 994.8, 992.2, 994.0, 987.2, 991.1, 992.3, 989.6, 990.3, 991.7, 994.5, 995.4, 992.7, 989.5, 988.3, 989.3, 1038.8, 1040.2, 1039.0, 984.7, 988.8, 991.5, 987.0, 986.2, 1039.8, 1037.5, 1039.3, 1038.3, 1038.1, 991.0, 991.3, 1047.1, 976.1, 994.7, 1004.25, 1039.4, 990.2, 980.6, 1038.6, 1021.55, 982.8, 979.1, 985.5, 990.6, 1015.75, 1015.05, 1014.05, 1020.05, 984.1, 993.3, 1010.85, 1017.65, 1014.45, 982.1, 981.0, 989.8, 990.7, 1040.7, 985.8, 986.5, 986.1, 987.6, 978.5, 1038.9, 983.4, 988.4, 1044.0, 1043.2, 985.6, 986.4, 1006.05, 980.7, 987.4, 1042.0, 988.6, 986.6, 986.0, 988.5],\n",
            "    \"arr_tavg\": [24.0, 12.9, 8.1, 21.1, 10.3, 13.7, 0.3, 20.4, 11.8, 4.5, 11.9, -11.6, 24.7, 24.2, 13.8, 22.4, 12.3, 16.2, 14.9, 30.0, 19.4, 14.0, 14.7, 21.6, 23.0, 16.6, 16.1, 20.0, 23.4, 26.1, 26.4, 26.2, 18.0, 17.1, 12.8, 25.8, -1.7, 11.6, 13.6, 24.9, 9.9, 13.4, -7.0, -0.4, 14.2, -20.8, 10.2, 14.5, 9.8, 4.8, 8.6, 16.9, -0.5, 11.0, -0.7, 6.3, 15.7, 7.3, 1.2, 13.2, 11.7, 23.6, 9.3, 5.8, 11.1, 9.2, 2.8, 17.6, 5.4, 1.6, 15.0, 5.2, 3.7, 10.0, 18.1, 19.7, 18.8, 18.7, 29.4, 27.3, 20.1, 27.6, 16.7, 22.6, 23.9, 21.4, 21.2, 26.9, 33.3, 28.6, 16.3, 26.7, 10.9, 14.6, 24.4, 13.0, 17.3, 23.1, 10.7, 25.4, 15.4, 13.5, 11.5, 20.6, 13.1, 24.3, 12.7, 14.4, -8.0, 12.1, 17.0, 22.9, 12.2, 6.9, 18.5, 23.8, 17.8, 14.8, 10.4, -2.9, 8.8, 1.3, 15.5, 3.5, -1.2, 15.3, 15.2, 7.7, 18.9, 4.0, -3.5, 20.9, -0.2, 8.9, 7.9, 0.6, -5.7, 9.1, -5.1, 22.8, 0.1, 7.0, -7.2, 21.9, 23.7, 34.0, 32.6, 24.8, 25.5, 23.2, 18.4, 24.5, 20.5, 34.5, 25.2, 31.7, 21.3, 28.1, 34.7, 26.3, 15.8, 28.9, 25.3, 17.2, 19.2, 24.6, 19.8, 8.7, 13.9, -11.3, 7.8, 12.5, 2.6, 6.2, -9.6, 11.4, -9.8, 17.4, 5.5, 22.7, 26.5, 28.4, 27.4, 19.3, 20.7, 38.1, 32.4, 27.2, 30.3, 30.1, 18.6, 27.1, 3.8, 0.5, 19.0, 8.0, 8.3, 2.5, -13.2, 3.6, 1.5, 12.6, 1.8, 7.2, -0.6, 12.4, -1.0, 5.1, 1.1, 16.4, -8.2, 4.3, 10.8, 20.3, 5.9, 4.1, 0.8, 22.1, 16.0, 5.3, -4.7, -15.4, 28.3, 17.9, -2.0, -10.8, 2.3, 8.2, -18.8, 15.1, 2.2, 5.6, 10.1, 29.1, 17.7, 20.8, 32.9, 29.3, 28.5, 28.8, 25.1, 32.5, 3.3, 2.7, 20.2, 7.5, 26.8, 17.5, 19.5, 15.9, 31.2, 12.0, 22.5, 18.3, 30.7, 21.0, 28.2, 26.0, 21.8, 29.6, 26.6, 32.0, 27.0, 22.2, 29.9, 15.6, 27.7, 1.7, 0.2, -2.7, -0.3, -0.1, -3.9, -4.2, 33.0, 19.6, 38.2, 25.6, 31.9, 23.3, 22.3, 3.0, -6.4, -22.6, 7.1, 16.8, 22.0, 9.6, 2.9, -9.3, 14.3, -8.1, 1.4, 4.4, 4.2, 6.0, 7.6, -12.2, 6.1, -3.7, 10.6, 18.2, 6.5, 21.5, -0.8, 32.2, 9.7, 30.4, 25.7, 36.4, 30.9, -6.9, 9.4, 9.5, 4.6, 0.9, -11.2, 11.3, -5.6, -1.6, 30.6, 30.2, 35.2, 25.0, 1.9, 5.0, 19.1, 0.4, -5.9, -5.3, 3.4, 8.4, 2.1, 25.9, 30.8, 31.5, 11.2, 7.4, 16.5, 9.0, 14.1, 1.0, 4.7, -4.8, -19.0, 5.7, 3.2, 24.1, 34.2, 38.8, 28.0, 42.2, 33.2, 31.8, 29.2, 28.7, 29.8, 38.0, 27.5, 31.0, 41.3, 33.7, -1.1, -9.1, 6.7, 19.9, 8.5, -0.9, 6.4, -7.1, -6.8, 35.9, 29.7, 39.5, 30.5, 27.9, -14.2, -1.3, 3.1, -3.6, 4.9, 0.0, 3.9, -19.2, -6.2, 13.3, -2.8, -1.5, -2.4, -2.1, -13.7, 31.1, 39.4, 29.0, 39.6, 36.8, -2.2, -1.4, 10.5, 29.5, 21.7, -8.8, 23.5, 33.1, 36.6, 35.6, -8.9, -3.0, -13.4, -21.1, 6.8, 6.6, 0.7, 35.3, 38.9, 33.5, 31.6, -3.2, -3.4, 38.3, 2.4, -2.6, -8.3, -16.1, -14.0, -3.3, -20.9, 14.45, -3.15, 1.45, 1.25, 14.25, 14.05, -17.6, 32.3, 37.9, 34.9, 40.3, 36.0, 36.3, 36.1, 2.0, 38.4, -14.8, -3.1, -24.7, -4.6, -17.7, 35.4, 27.8, 37.8, 32.7, -16.5, -4.5, -14.4, -21.7, -14.7, -1.8, 37.7, 36.5, 36.2, 34.3, 34.6, 36.7, 31.3, 37.4, 38.5, -7.7, -6.3, 32.1, 40.9, 33.8, 35.5, 35.1, -20.0, 38.7, 40.7, -3.8, -20.7, 40.6, 32.8, -8.7, -7.5, -6.1, 31.4, 35.8, 39.3, 35.7, 34.1, -17.9, 40.2, 34.4, -4.1, -9.7, -21.3, -7.6, -7.3, -20.5, -7.8, -12.0, -17.8, -6.5, -10.9, -5.2, -9.9, -6.7, -9.4, -19.1, -8.5, -15.2, -8.6, -7.4, 17.85, -1.9, -12.8, -10.4, -5.4, -10.7, -6.6, -4.4, -15.5, -13.5, -5.0, -10.3, -5.8, -4.0, 39.1, 40.4, -9.0, 34.8, 35.0, 33.4, -18.9, -14.9, -14.3, -13.6, -2.3, -4.9, -11.8, 37.1, -4.3, -15.7, -6.0, -10.5, -12.3, -9.2, 33.9, 39.8, 39.9, -12.4, -23.4, -22.0, 37.6, -5.5, 41.1, -11.4, 38.6, -2.5, -18.3, -7.9, -20.1, -9.5, -13.8, 39.0, 37.5, -10.2, 33.6, -11.9, -11.7, -10.6, -17.5, -15.3, -15.1, -12.1, -17.3, -21.4, -8.4, -11.1, -14.5, -11.0, -12.7, -10.1, -17.4, -15.0, -24.1, -16.6, -20.3, -18.1, -16.2, -11.5, -13.3, -15.9, -19.4, -16.8, -3.35, 4.699999999999999, 0.35, -12.5, -12.6, -13.0, -17.1, -16.4, -22.2, -16.9, -20.6, -18.0, -17.0, -13.9, 0.7999999999999999, -12.9, -24.0, 39.7, -10.0, -14.6, -28.1, -24.4, -22.9, -14.1, -25.1, -15.8, -24.9, -15.6, -16.3, -13.1, 6.699999999999999, -21.8, 14.35, 20.95, -2.95, -25.2, -21.9, 37.0, -18.7, -20.2, -23.1, 36.9, 23.65, 8.75, -17.2, -24.3, 39.2, -23.3, -28.0, -16.7, -19.5, -21.2, 13.05, 23.05, -19.3, -23.9, -23.5, -20.4, -3.65, -19.7, -25.3, -23.7, -24.8, -23.6, -25.4, -23.2, 22.55, -16.0, -25.0, -28.3, -24.6, 3.95, -21.6, -27.9, -24.5, -34.6, -26.7, -27.3, 3.05, -22.4],\n",
            "    \"arr_tmin\": [17.8, 11.7, 3.3, 15.0, 1.1, 12.2, -3.8, 12.8, 8.3, 0.0, 6.7, -24.9, 21.1, 13.3, 4.4, 23.9, 16.7, 16.1, 7.8, 10.6, 21.7, -6.0, 8.9, 6.1, 5.0, 22.2, -9.9, -7.7, -23.2, 7.5, 3.9, 7.2, -3.2, 11.1, -2.7, 19.4, -1.0, 5.6, 0.6, -1.1, 2.2, 13.9, 17.2, 18.9, 18.3, 15.6, 25.6, 25.0, 16.5, 9.4, 23.7, 10.0, 17.0, 20.6, 1.7, -11.6, -7.1, -8.8, 7.0, 0.8, -6.6, -4.9, 2.8, -2.1, -10.5, -12.7, -4.3, -12.0, 14.4, 28.9, 20.0, 28.3, 24.4, 22.8, 12.5, -16.0, -2.0, -20.5, -0.5, 3.2, 23.3, 14.0, 30.0, 22.0, 26.7, -1.6, -17.7, -5.5, -12.8, -2.8, 27.2, 9.3, -6.7, 4.0, 21.9, 26.1, 19.0, -2.2, -0.6, -3.5, -8.2, 30.6, 21.2, 27.8, -13.2, 2.4, -1.7, -13.8, 12.0, 3.1, 21.0, -6.1, 18.2, -9.4, 10.5, -7.8, -21.1, 9.6, -5.6, 13.8, 32.8, 31.1, 3.0, 11.9, 33.9, -12.1, -11.7, 29.4, 35.0, -16.6, -7.0, -4.4, -9.3, -7.2, -21.0, 18.0, 33.3, -11.1, -21.6, 31.7, 1.0, -3.0, -11.0, 1.8, 9.7, 17.9, -18.2, -29.9, 9.0, 6.0, 6.5, 13.0, 21.6, -4.0, -22.7, 7.6, -10.0, 24.3, -15.5, -28.2, 4.5, 20.7, 12.4, -11.35, -0.25, 11.6, -26.0, 1.9, -3.3, 11.8, -18.9, 8.0, 15.5, 1.2, -35.5, 24.0, 32.2, 9.1, 7.4, 24.2, 36.1, 11.0, -8.3, 13.4, 19.6, 21.5, 12.6, 14.7, 21.4, 35.6, 20.5, -3.9, 2.7, 34.4, 13.7, -28.8, 4.1, -17.8, 19.1, 23.0, 12.7, 22.5, 9.5, -25.5, -14.3, -30.5, -14.9, -13.0, -5.0, 0.7, 6.6, 19.8, 17.7, 11.2, 20.3, 8.1, -15.6, -17.2, -22.1, -13.3, -10.1, 10.7, -2.9, -13.9, 5.7, 10.2, 16.6, 15.8, 14.45, 3.6, 10.45, 8.6, 10.85, 7.25, 2.0, 16.8, 18.8, -16.7, 13.5, 27.0, 23.2, 17.4, -17.1, -15.0, -14.4, 15.3, -18.0, -23.8, -22.2, 6.2, 7.3, 12.9, 19.3, 26.0, -6.2, 3.8, -18.3, 1.5, 0.9, 0.2, 18.1, 24.9, -4.1, -8.9, 17.3, 15.4, 15.7, 10.8, 12.3, 23.8, 22.7, 5.3, -3.7, 16.0, 17.6, 11.3, 21.3, 14.9, 5.9, -0.3, 24.7, 2.3, 16.9, 9.8, 17.5, -1.9, -0.4, 10.1, 18.4, 4.7, 1.3, 2.1, 28.0, 20.9, 22.4, 23.5, -1.8, 6.8, -9.0, 23.4, 13.1, -5.8, 5.4, 10.9, 5.1, 2.6, 4.3, 3.7, 19.7, -16.1, 11.4, 9.2, 8.5, 6.9, 4.6, 5.5, 14.6, -0.7, -2.6, 14.2, -8.0, -4.5, 1.6, 4.8, 14.1, 22.3, 24.1, 23.6, 18.7, 24.8, 26.6, 18.6, 4.9, 12.1, -4.2, -0.8, 17.1, 24.5, 22.6, 25.8, 13.2, 10.3, 3.5, 5.8, 20.4, 23.1, 16.3, 16.4, 5.2, 7.9, 28.5, 22.1, 0.1, 24.6, -2.5, -1.5, 8.2, 19.2, 11.5, 8.7, 7.1, 15.9, 16.2, 1.4, 19.5, 29.0, 25.1, 8.8, -6.3, -0.9, 26.5, 27.1, 21.8, 13.6, -14.6, 18.5, 26.4, -12.5, -3.6, 0.4, -16.2, -23.3, -10.6, 10.4, -12.4, -12.2, -11.8, -2.4, -4.7, -3.1, 7.7, 19.9, 25.7, 20.8, -1.4, 14.5, 20.1, -4.8, -1.2, -0.2, 15.2, 27.4, 28.8, 9.9, 6.3, 29.1, 2.9, -5.2, -11.5, 28.1, -1.3, -15.4, -14.0, -18.8, 20.2, -25.6, -19.4, 25.2, -26.7, -29.4, 26.2, 0.5, -8.7, -5.7, -22.8, -20.0, -6.9, -0.1, -10.7, -20.6, -19.3, -7.4, -27.2, -4.6, -8.4, -24.4, -25.0, -6.4, -17.0, 15.1, -12.6, -19.9, 20.25, 19.75, 2.25, -6.5, -13.7, 22.9, 14.3, -19.7, -76.0, 2.5, 4.2, 14.8, -17.4, -21.7, -7.6, -5.1, -15.1, 3.4, 26.3, -12.3, 0.3, -9.1, 25.5, 32.0, 27.5, 26.9, 27.9, 25.4, 25.9, 27.7, -5.4, -9.2, -11.2, -25.3, 25.3, -9.6, -13.5, -24.0, -24.1, -14.1, -16.3, -32.7, -24.3, -27.1, -33.2, 29.5, 31.0, 26.8, -30.6, -10.9, 4.449999999999999, -26.6, 15.55, -0.55, -6.15, -11.4, -19.0, -10.8, -31.0, -23.9, -28.3, -5.9, -14.7, -27.7, -30.0, -29.3, -5.3, -15.2, 8.4, 28.7, -9.5, -7.75, 19.45, -6.949999999999999, 27.3, -3.4, -33.9, -20.1, -7.9, -15.7, -7.5, 9.45, 6.4, -28.1, -30.1, -32.2, 29.3, -27.0, -27.8, 27.6, -20.3, -35.0, 18.85, -31.6, -32.1, -26.1, -1.15, -33.3, -38.0, -31.1, 0.8500000000000001, -32.8, -36.6, -4.25],\n",
            "    \"arr_tmax\": [30.6, 15.6, 13.3, 25.0, 12.8, 15.0, 1.7, 26.7, 16.7, 10.6, 18.3, -3.8, 28.3, 29.4, 30.0, 16.1, 17.8, 25.6, 35.6, 23.3, 17.2, 32.2, 21.7, 26.1, 24.4, 36.1, 34.4, 28.9, 23.9, 31.7, 4.4, 21.1, 18.9, -6.6, 6.1, -18.8, 14.0, 11.1, 3.3, 27.8, 1.1, 9.4, 20.6, 12.2, 5.6, 27.2, 14.4, 10.7, 5.0, 19.4, 11.7, 26.0, 39.4, 32.8, 22.1, 22.8, 8.9, 22.2, 20.0, 13.9, 0.0, 10.0, 21.0, 13.8, -2.7, 3.9, -1.1, 38.9, 42.2, 31.1, 33.9, 41.7, 35.0, 38.3, 25.1, 21.6, -9.3, 8.3, -6.0, -7.1, 10.3, 33.3, 36.7, 44.4, 30.4, 2.2, -9.9, -3.3, 6.7, -8.8, 37.2, 7.8, -4.9, -7.7, 40.6, 34.2, 40.0, -5.0, 15.7, 41.1, 33.2, 37.8, 19.0, 26.3, 2.8, 2.7, -3.2, 46.1, 26.8, -17.7, 7.2, -8.2, 20.1, 0.6, 24.0, -0.5, 27.0, -1.6, 22.7, -1.0, 18.5, -1.7, -12.8, 12.7, 6.4, 47.8, 23.5, 48.3, -2.1, 23.0, 42.8, 45.6, -13.8, -14.3, 5.8, 43.3, 30.3, 17.0, 8.0, 16.6, 23.4, 28.6, -12.1, -19.9, 8.5, 11.0, 31.0, 18.8, 29.0, 43.9, 34.0, 18.0, 22.0, 16.4, -7.8, -6.7, 13.1, 45.0, 29.7, -13.2, 14.8, 12.0, 13.0, 2.75, 3.6, 46.7, 6.6, 19.6, 15.5, 20.2, 23.7, -20.5, -11.6, 16.0, 35.9, -0.6, 28.0, 29.3, 29.5, 38.0, 28.5, 19.7, 36.0, 31.2, 21.9, 19.2, 14.2, 20.5, -5.5, -2.2, 4.0, -4.3, -12.2, 31.4, 24.8, 29.1, 32.0, 15.9, 4.7, 17.6, 1.0, 27.3, 28.1, 11.5, 12.6, 24.2, 14.3, 26.5, -2.8, -5.6, -3.9, 2.0, 22.4, 7.0, 10.4, 15.3, 23.8, 18.1, 34.6, 18.85, 14.75, 24.15, 20.9, 21.65, 23.05, 19.45, 11.3, 23.1, 33.0, 33.1, 15.8, 14.5, 1.2, 9.3, 21.2, 23.2, 30.1, 21.3, 4.1, 24.7, 9.6, 9.0, 16.9, 28.8, 6.2, 17.3, 20.8, 5.4, 6.0, 29.2, 22.9, 8.1, 24.3, 14.6, 10.8, 26.6, 11.2, 28.4, 32.3, 25.5, 27.5, 47.2, 36.4, 5.5, 9.7, 8.6, 16.3, 0.1, 25.9, 33.4, 39.0, 37.0, 26.9, 25.8, 26.2, 27.7, 13.5, 26.4, 25.3, 27.1, 13.4, 37.1, 34.8, 35.8, 10.2, 20.3, 3.4, 34.3, 36.3, 27.6, 30.9, 36.2, 22.5, 9.2, 15.1, 31.8, 24.9, -11.0, -10.0, 7.9, 28.7, 12.4, 11.9, 12.5, 23.6, -6.1, 10.5, 3.0, 20.7, 7.3, 31.5, 33.5, 15.4, 31.6, 18.4, 18.2, 32.7, 34.5, 18.6, 13.2, 33.8, 34.9, 14.1, 4.6, 24.1, 2.5, 8.2, 5.1, 24.5, 8.8, 28.2, 18.7, 30.2, 32.1, 19.9, 19.5, 27.4, 30.8, 34.7, 16.2, 9.9, 25.7, 19.3, 35.5, 7.1, 19.1, 13.6, 32.5, 32.6, 5.2, 16.8, 22.3, 24.6, 4.9, 7.6, 20.4, 35.3, 29.6, 30.7, 31.3, -2.5, 32.9, 10.9, -0.4, -0.3, -8.3, -4.0, -0.9, 11.4, -2.0, -15.5, -19.3, 6.5, 7.4, 3.1, 35.2, 3.2, 7.5, 17.9, 17.1, 21.5, 29.9, 0.4, 33.6, 39.3, 22.6, 31.9, 17.4, 9.1, 16.5, 15.2, -4.5, 10.1, -7.2, 5.9, -16.6, 33.7, -4.4, -1.3, -5.1, 7.7, 34.1, 17.7, 35.4, 42.0, 12.9, -1.2, 11.8, -3.0, 4.5, -10.6, 0.7, 35.1, -8.9, 0.9, 25.4, 40.4, 12.1, -1.9, -1.8, 4.8, -21.7, -19.4, -14.9, -16.7, 0.3, 21.8, -11.1, -14.0, 1.6, 9.5, -1.5, 4.449999999999999, -2.9, 0.8, 25.2, 3.5, 3.8, -7.0, 37.6, 11.6, -3.5, 40.1, -4.1, -11.7, 35.7, 5.7, -14.4, 17.5, 8.4, 2.9, -15.6, -3.1, 5.3, -0.8, 6.9, 0.5, 2.3, 29.8, 32.4, 1.8, 14.9, 4.2, 27.9, 37.5, 40.7, 37.7, 40.2, 13.7, 14.7, 30.5, 38.2, 19.8, -18.3, -12.7, 37.3, 41.0, 36.8, 37.9, -9.7, -9.4, 38.6, 21.4, 2.6, 6.8, 48.9, -0.7, 44.0, -4.8, -13.9, -10.5, -24.3, -21.0, 39.1, -20.6, -17.1, 0.2, -16.0, 27.75, 7.25, 1.4, 8.7, -8.0, 2.1, -11.5, 1.5, 1.9, 39.5, 38.7, 37.4, 40.8, 36.9, 38.1, 39.6, 39.2, 29.45, 18.35, -7.5, -1.95, 4.3, 6.3, 47.0, 12.3, 36.5, 38.5, -17.2, -18.4, -2.3, -3.4, -2.6, -23.9, 17.35, -9.5, -18.9, -9.0, -11.4, -17.8, 2.4, -4.7, -4.2, 39.7, -10.9, -21.1, -22.0, -4.199999999999999, 38.4, -7.3, -23.2, 8.649999999999999, -15.0, -22.8, -30.0, -24.9, -23.8, 0.85],\n",
            "    \"arr_prcp\": [0.0, 1.5, 2.0, 0.3, 1.1, 16.7, 25.4, 0.8, 0.6, 3.6, 1.0, 8.9, 8.1, 38.6, 18.3, 32.2, 17.8, 0.1, 13.2, 2.3, 4.8, 6.4, 20.1, 4.9, 1.8, 1.6, 6.9, 0.5, 53.8, 8.6, 5.8, 1.7, 4.7, 10.4, 1.3, 3.1, 11.2, 6.7, 3.8, 3.0, 7.4, 19.6, 5.1, 4.6, 7.1, 3.3, 11.4, 6.6, 8.4, 10.2, 2.5, 5.6, 2.8, 8.8, 14.7, 11.7, 2.6, 10.3, 9.2, 1.2, 17.7, 7.6, 2.4, 4.1, 5.3, 37.1, 21.8, 4.2, 4.3, 39.1, 20.7, 0.2, 0.4, 23.9, 26.4, 20.8, 29.8, 17.1, 1.9, 25.2, 5.7, 7.7, 1.4, 14.2, 20.5, 26.2, 2.7, 13.5, 12.4, 32.0, 18.8, 4.4, 65.8, 58.5, 0.7, 7.9, 22.9, 9.9, 7.3, 8.2, 12.2, 28.2, 18.5, 20.0, 26.9, 9.7, 17.5, 9.5, 16.8, 18.0, 36.1, 2.9, 24.4, 25.9, 24.1, 34.0, 13.7, 10.1, 3.2, 27.2, 45.7, 10.9, 26.5, 15.5, 37.6, 5.2, 0.9, 11.1, 10.0, 11.0, 6.1, 12.7, 20.3, 41.1, 22.4, 35.3, 9.0, 14.5, 6.2, 15.0, 13.0, 9.4, 46.5, 7.5, 21.1, 23.2, 15.3, 17.0, 3.5, 35.8, 10.7, 13.6, 19.3, 17.3, 5.9, 2.2, 24.9, 10.35, 0.35, 20.6, 16.3, 30.0, 14.0, 3.4, 10.6, 28.7, 9.1, 11.6, 31.0, 34.5, 33.5, 9.3, 6.0, 16.1, 5.5, 14.4, 46.2, 35.7, 11.9, 15.2, 49.8, 18.4, 25.7, 13.8, 15.6, 45.5, 2.1, 22.6, 24.5, 47.8, 40.6, 4.0, 8.3, 33.3, 15.7, 6.5, 4.5, 29.0, 32.5, 55.7, 19.0, 6.3, 30.1, 9.8, 3.9, 27.9, 55.9, 15.4, 32.4, 25.0, 3.7, 34.2, 40.9, 30.5, 36.3, 23.0, 60.5, 30.7, 42.2, 19.7, 27.1, 32.7, 59.4, 33.0, 38.9, 32.3, 19.8, 40.4, 16.6, 62.0, 26.6, 14.3, 22.1, 7.2, 7.8, 21.6, 24.6, 6.25, 43.4, 40.1, 28.0, 53.1, 6.8, 10.5, 52.1, 10.8, 34.8, 48.2, 5.0, 21.3, 29.7, 44.9, 52.8, 23.6, 68.6, 23.1, 5.4, 7.0, 27.4, 46.7, 30.2, 13.3, 12.5, 16.4, 41.7, 16.5, 58.9, 67.8, 12.1, 54.4, 29.5, 9.6, 70.1, 31.3, 27.7, 14.6, 47.6, 25.1, 19.9, 17.9, 8.5, 23.4, 29.2, 26.0, 26.8, 21.9, 8.7, 41.4, 16.9, 33.4, 31.6, 50.3, 34.6, 115.1, 27.5, 19.1, 46.1, 17.4, 88.4, 32.8, 15.8, 18.1, 29.9, 11.5, 19.5, 48.3, 26.3, 16.0, 18.6, 8.0, 42.4, 31.5, 52.0, 12.0, 23.5, 44.5, 41.9, 38.8, 15.1, 26.7, 39.9, 12.6, 28.4, 23.3, 13.9, 97.5, 25.3, 64.8, 33.8, 63.5, 51.1, 51.5, 12.8, 18.9, 30.3, 19.2, 20.9, 12.3, 27.0, 44.7, 59.5, 15.9, 31.2, 102.9, 53.5, 22.0, 62.6, 47.2, 45.2, 60.1, 157.2, 14.1, 62.7, 34.3, 48.8, 43.2, 48.6, 45.0, 27.3, 24.8, 111.8, 24.3, 38.1, 34.7, 31.1, 43.9, 88.6, 37.0, 20.4, 113.0, 11.8, 69.9, 31.7, 49.9, 13.4, 38.2, 71.4, 24.0, 72.5, 37.3, 61.4, 64.4, 104.7, 65.0, 13.1, 47.5, 55.6, 17.2, 16.2, 56.9, 571.5, 43.7, 58.4, 25.6, 22.8, 31.8, 48.5, 44.2, 131.8, 36.6, 14.9, 72.4, 82.6, 120.5, 48.0, 57.2, 78.7, 35.0, 71.8, 70.6, 21.2, 12.9, 60.6, 64.6, 46.0, 57.9, 38.4, 21.0, 24.7, 35.1, 39.4, 29.3, 23.8, 43.1, 18.7, 21.7, 60.7, 26.1, 147.9, 44.6, 28.1, 41.8, 50.5, 37.4, 61.2, 69.3, 32.1, 42.1, 53.3, 59.7, 37.8, 51.7, 30.9, 43.0, 36.2, 27.6, 28.8, 30.4, 36.8, 21.5, 19.4, 169.9, 47.0, 41.6, 31.4, 69.6, 54.6, 82.0, 23.7, 51.6, 40.5, 38.7, 40.7, 74.2, 18.2, 62.2, 54.8, 30.6, 50.0, 42.7, 35.5, 64.5, 58.2, 72.6, 46.9, 51.3, 87.0, 101.9, 14.8, 25.5, 68.1, 191.3, 70.9, 30.8, 78.0, 55.1, 40.3, 42.9, 49.5, 50.4, 52.3, 39.6, 11.3, 68.2, 17.6, 39.7, 28.5, 51.8, 73.9, 55.4, 36.9, 6.85, 4.35, 2.75, 5.95, 90.4, 22.3, 129.2, 45.3, 61.6, 61.0, 71.3, 86.9, 83.8, 49.0, 35.6, 34.9, 44.0, 42.3, 49.4, 77.2, 27.8, 54.9, 100.8, 51.0, 31.9, 47.3, 28.3, 50.9, 74.3, 33.9, 88.1, 56.4, 39.8, 57.7, 32.9, 72.1, 73.5, 29.6, 40.2, 36.7, 91.4, 22.5, 33.6, 41.3, 120.8, 68.0, 84.3, 43.6, 21.4, 20.2, 63.2, 22.7, 89.9, 75.8, 22.2, 85.1, 37.5, 66.5, 41.0, 52.6, 56.8, 64.3, 24.2, 93.5, 76.2, 25.8, 57.4, 100.6, 93.2, 38.5, 54.1, 117.1, 0.55, 29.4, 39.5, 87.1, 66.3, 59.2, 204.5, 56.1, 39.3, 60.2, 37.2, 67.3, 58.8, 65.3, 71.5, 42.6, 81.5, 38.0, 113.3, 88.7, 6.45, 58.7, 33.7, 4.15, 44.8, 71.1, 28.9, 105.4, 57.0, 44.1, 52.5, 38.3, 62.3, 1.35, 61.5, 104.9, 39.0, 68.5, 50.8, 107.3, 52.7, 34.4, 68.8, 34.1, 1.75, 45.4, 62.5, 36.5, 79.0, 62.8, 282.7, 33.2, 66.0, 35.2, 70.0, 28.6, 158.5, 47.9, 57.1, 45.6, 41.5, 36.0, 126.2, 43.5, 58.0, 134.3, 40.8, 103.4, 76.7, 95.5, 77.7, 80.8, 65.9, 59.9, 9.25, 70.5, 51.9, 87.3, 45.8, 79.5, 78.3, 32.6, 112.3, 79.8, 84.6, 126.0, 46.6, 0.7999999999999999, 44.4, 45.1, 56.6, 80.3],\n",
            "    \"arr_snow\": [0, 710, 30, 254, 300, 100, 690, 330, 50, 200, 810, 640, 130, 840, 580, 250, 25, 406, 760, 660, 180, 80, 178, 229, 280, 360, 560, 380, 508, 381, 150, 790, 530, 410, 910, 635, 460, 610, 533, 203, 152, 740, 230, 559, 430, 279, 305, 432, 51, 510, 1270, 480, 1520, 356, 890, 483, 340, 490, 140, 350, 102, 860, 76, 220, 40, 584, 110, 170, 457, 127],\n",
            "    \"arr_wdir\": [183.0, 261.0, 20.0, 207.0, 341.0, 221.0, 324.0, 214.0, 284.0, 319.0, 335.0, 340.0, 176.0, 159.0, 241.0, 332.0, 239.0, 265.0, 218.0, 94.0, 279.0, 283.0, 170.0, 130.0, 338.0, 44.0, 4.0, 250.0, 8.0, 1.0, 305.0, 264.0, 136.0, 327.0, 188.0, 120.0, 160.0, 122.0, 23.0, 266.0, 325.0, 181.0, 157.0, 345.0, 19.0, 246.0, 158.0, 6.0, 36.0, 352.0, 355.0, 321.0, 31.0, 225.0, 337.0, 192.0, 224.0, 3.0, 220.0, 346.0, 200.0, 53.0, 326.0, 353.0, 113.0, 311.0, 334.0, 314.0, 292.0, 226.0, 240.0, 191.0, 18.0, 154.0, 202.0, 137.0, 256.0, 320.0, 216.0, 344.0, 180.0, 66.0, 297.0, 323.0, 248.0, 281.0, 175.0, 258.0, 95.0, 350.0, 30.0, 155.0, 184.0, 287.0, 356.0, 318.0, 0.0, 339.0, 299.0, 329.0, 196.0, 330.0, 187.0, 275.0, 111.0, 97.0, 16.0, 58.0, 359.0, 43.0, 39.0, 10.0, 148.0, 296.0, 134.0, 80.0, 133.0, 109.0, 46.0, 34.0, 117.0, 59.0, 212.0, 77.0, 161.0, 166.0, 32.0, 310.0, 351.0, 65.0, 182.0, 336.0, 342.0, 5.0, 189.0, 116.0, 33.0, 9.0, 123.0, 48.0, 82.0, 125.0, 308.0, 230.0, 205.0, 293.0, 302.0, 102.0, 276.0, 185.0, 83.0, 309.0, 234.0, 286.0, 303.0, 280.0, 167.0, 238.0, 52.0, 81.0, 331.0, 129.0, 260.0, 152.0, 11.0, 223.0, 14.0, 38.0, 156.0, 354.0, 37.0, 55.0, 358.0, 198.0, 172.0, 263.0, 131.0, 273.0, 162.0, 289.0, 222.0, 316.0, 22.0, 232.0, 227.0, 236.0, 139.0, 201.0, 235.0, 348.0, 51.0, 257.0, 244.0, 29.0, 67.0, 168.0, 277.0, 199.0, 132.0, 357.0, 253.0, 12.0, 86.0, 215.0, 298.0, 64.0, 217.0, 254.0, 231.0, 138.0, 85.0, 243.0, 307.0, 103.0, 126.0, 146.0, 118.0, 17.0, 285.0, 87.0, 45.0, 141.0, 35.0, 28.0, 267.0, 349.0, 72.0, 328.0, 193.0, 255.0, 112.0, 333.0, 41.0, 203.0, 99.0, 21.0, 229.0, 194.0, 178.0, 304.0, 186.0, 84.0, 100.0, 206.0, 173.0, 93.0, 233.0, 24.0, 347.0, 144.0, 147.0, 26.0, 163.0, 42.0, 78.0, 54.0, 151.0, 27.0, 96.0, 142.0, 101.0, 119.0, 89.0, 259.0, 294.0, 165.0, 312.0, 282.0, 268.0, 252.0, 343.0, 290.0, 76.0, 140.0, 190.0, 208.0, 228.0, 70.0, 211.0, 15.0, 153.0, 171.0, 40.0, 98.0, 322.0, 197.0, 204.0, 313.0, 177.0, 317.0, 288.0, 251.0, 270.0, 61.0, 92.0, 75.0, 249.0, 143.0, 179.0, 127.0, 274.0, 315.0, 145.0, 245.0, 106.0, 79.0, 13.0, 104.0, 63.0, 62.0, 47.0, 7.0, 71.0, 60.0, 295.0, 108.0, 271.0, 209.0, 150.0, 69.0, 174.0, 73.0, 272.0, 2.0, 124.0, 269.0, 237.0, 135.0, 56.0, 300.0, 262.0, 25.0, 57.0, 247.0, 107.0, 301.0, 50.0, 169.0, 219.0, 213.0, 278.0, 115.0, 210.0, 306.0, 195.0, 105.0, 128.0, 74.0, 49.0, 68.0, 164.0, 121.0, 149.0, 242.0, 291.0, 114.0, 110.0, 88.0, 91.0, 233.5, 242.5, 322.5, 175.5, 165.5, 132.5, 92.5, 259.5, 200.5, 280.5, 143.5, 201.5, 301.5, 90.0, 360.0, 332.5, 205.5, 286.5, 331.5, 102.5, 104.5, 184.5, 247.5, 216.5, 137.5, 169.5, 41.5, 327.5, 114.5, 161.5, 220.5, 55.5, 85.5, 170.5, 258.5, 339.5, 343.5, 251.5, 274.5, 117.5, 225.5, 276.5, 224.5, 39.5, 321.5, 226.5, 105.5, 183.5, 238.5, 210.5, 40.5, 338.5, 190.5, 20.5, 147.5, 119.5, 207.5, 160.5, 240.5, 144.5, 219.5, 187.5, 72.5, 275.5, 47.5, 29.5, 163.5, 267.5, 84.5, 192.5, 232.5, 213.5, 112.5, 178.5, 106.5, 99.5, 45.5, 50.5, 53.5],\n",
            "    \"arr_wspd\": [20.5, 10.8, 6.8, 13.7, 15.5, 14.4, 10.1, 24.5, 24.8, 16.9, 10.2, 7.2, 13.0, 15.1, 11.7, 18.4, 9.7, 10.6, 10.3, 17.6, 22.3, 14.7, 11.5, 12.1, 19.1, 16.6, 7.9, 5.0, 14.0, 13.8, 9.0, 12.6, 8.3, 7.6, 4.3, 6.1, 1.4, 4.7, 4.5, 4.9, 3.7, 8.6, 18.7, 11.2, 7.3, 1.1, 14.8, 9.4, 5.8, 17.8, 6.9, 7.8, 3.9, 25.2, 5.4, 5.6, 23.0, 11.4, 11.9, 7.1, 6.5, 8.9, 2.9, 15.8, 16.2, 5.3, 17.3, 13.3, 17.5, 4.0, 12.2, 6.6, 16.5, 27.7, 25.9, 7.4, 28.4, 3.2, 9.6, 16.3, 5.5, 9.3, 29.9, 31.0, 12.5, 2.5, 15.6, 21.6, 1.8, 10.4, 18.6, 6.2, 27.0, 11.3, 12.4, 15.3, 19.8, 14.3, 10.7, 27.4, 11.6, 18.0, 19.4, 5.9, 20.2, 23.7, 47.5, 18.3, 23.5, 6.3, 28.6, 21.2, 11.1, 23.8, 22.7, 21.4, 11.0, 12.9, 3.6, 6.0, 3.5, 11.8, 8.7, 8.4, 20.9, 30.2, 15.2, 9.2, 10.0, 9.1, 2.2, 8.5, 8.8, 5.1, 3.0, 17.9, 9.9, 1.6, 14.9, 28.8, 10.9, 22.0, 2.1, 7.7, 6.7, 9.8, 26.6, 12.3, 3.8, 2.8, 2.7, 13.1, 31.7, 33.5, 14.2, 22.2, 14.6, 9.5, 4.1, 34.6, 35.3, 14.1, 13.4, 3.1, 29.2, 8.1, 25.1, 19.7, 3.3, 12.7, 17.2, 4.8, 4.2, 24.1, 17.0, 5.2, 33.1, 23.4, 17.7, 16.1, 22.1, 15.0, 0.4, 6.4, 10.5, 12.8, 29.5, 17.1, 15.4, 13.2, 4.4, 15.7, 15.9, 12.0, 26.3, 7.5, 18.5, 20.3, 8.0, 13.9, 19.5, 5.7, 7.0, 24.0, 16.7, 31.6, 34.9, 4.6, 33.8, 1.0, 2.3, 25.6, 30.6, 35.6, 24.9, 20.4, 13.5, 28.1, 21.1, 25.4, 0.7, 2.4, 23.6, 7.85, 5.35, 0.6, 1.5, 18.9, 8.2, 32.0, 37.2, 21.8, 28.2, 24.3, 16.0, 14.5, 16.8, 39.6, 17.4, 28.0, 25.3, 20.0, 22.5, 2.6, 18.2, 3.4, 13.6, 22.4, 38.9, 23.2, 18.1, 33.0, 36.0, 16.4, 22.9, 30.5, 30.3, 21.0, 19.2, 24.2, 32.8, 38.2, 13.05, 15.95, 10.95, 9.95, 33.6, 19.0, 24.6, 24.7, 20.8, 25.8, 21.9, 25.5, 23.3, 31.3, 20.1, 30.4, 25.7, 21.7, 2.0, 26.9, 21.5, 20.6, 19.9, 22.6, 19.6, 20.7, 24.4, 19.3, 1.7, 18.8, 30.7, 34.2, 1.2, 28.7, 0.0, 26.8, 0.9, 26.4, 32.4, 32.1, 1.9, 21.3, 36.4, 26.7, 36.7, 37.1, 23.1, 30.9, 22.8, 27.2, 42.1, 29.3, 29.7, 38.5, 31.5, 29.4, 0.3, 23.9, 25.0, 41.4, 40.7, 33.2, 26.1, 27.9, 36.3, 27.1, 37.8, 44.3, 29.8, 28.9, 28.3, 42.9, 26.2, 29.6, 27.6, 34.5, 30.1, 26.0, 41.0, 31.2, 40.3, 29.0, 44.9, 41.8, 33.3, 33.7, 27.3, 13.55, 14.25, 16.25, 10.85, 7.75, 30.0, 35.9, 28.5, 31.9, 39.2, 26.5, 32.2, 1.3, 37.4, 27.8, 0.8, 29.1, 11.45, 35.5, 40.1, 32.6, 30.8, 34.4, 32.3, 35.4, 40.0, 32.9, 44.6, 49.3, 43.9, 11.65, 10.35, 38.0, 27.5, 33.9, 31.1, 0.2, 35.7, 20.55, 12.15, 32.5, 39.3, 36.2, 12.65, 36.1, 42.0, 35.8, 37.6, 46.1, 13.75, 16.75, 38.4, 34.1, 35.0, 42.8, 8.399999999999999, 0.5, 32.7, 34.8, 16.45, 43.3, 47.2],\n",
            "    \"arr_pres\": [1002.2, 1009.9, 1017.7, 999.5, 1005.3, 1011.8, 1002.6, 993.4, 1012.3, 1012.2, 1010.3, 1001.7, 1012.7, 1010.1, 1012.4, 1019.6, 1016.7, 1015.0, 1011.5, 1019.4, 1017.6, 1017.3, 1013.5, 1015.9, 1017.1, 1010.2, 1015.5, 1014.1, 1016.2, 1014.2, 1016.1, 1024.3, 1016.6, 1016.8, 1022.3, 1013.9, 1015.7, 1021.3, 1020.2, 1014.3, 1017.4, 1022.0, 988.8, 1009.1, 1024.0, 992.7, 1013.8, 1021.4, 1016.4, 1014.4, 1016.5, 1013.0, 1006.6, 1017.2, 1013.3, 1021.2, 991.9, 998.9, 1010.7, 1021.9, 1018.7, 1017.0, 1025.2, 1020.3, 1024.9, 1024.6, 1016.9, 1021.8, 1023.3, 1025.7, 1006.7, 1021.5, 1019.8, 1014.0, 1014.7, 1018.0, 1009.3, 1014.6, 1015.6, 1011.9, 1010.6, 1010.9, 1008.3, 1008.7, 1008.5, 1021.6, 1018.5, 1015.2, 993.3, 1010.8, 1014.9, 1018.9, 1019.3, 1022.6, 1018.8, 1019.1, 1032.6, 1026.4, 1016.0, 1031.1, 1029.4, 1022.7, 991.3, 1021.1, 1020.7, 1021.0, 1014.5, 1020.4, 1029.2, 1027.1, 1018.1, 1011.0, 1022.2, 1023.4, 1028.7, 1022.5, 1027.4, 1032.3, 1020.0, 1019.5, 1026.7, 1019.0, 1026.1, 1020.1, 1007.6, 1011.2, 1002.5, 1013.1, 1012.8, 1000.1, 1007.3, 1009.2, 1006.8, 1015.8, 1009.0, 1006.5, 1006.0, 1018.6, 1006.2, 1013.6, 997.6, 1013.2, 1007.1, 1011.6, 1008.9, 1006.3, 1007.0, 1007.7, 1002.7, 998.2, 1036.7, 993.2, 1007.4, 1036.6, 1005.8, 1010.4, 1005.2, 1007.5, 999.2, 1003.7, 1015.1, 1013.7, 1012.6, 1012.9, 1010.0, 1003.3, 1014.8, 1004.7, 1011.4, 1011.7, 1012.1, 1003.2, 999.0, 1001.8, 1003.0, 1013.4, 1004.9, 1009.8, 1000.6, 1009.4, 1032.9, 1023.1, 999.1, 1029.6, 1026.5, 1023.8, 1027.2, 1012.0, 1030.6, 1022.8, 1026.2, 1015.3, 1022.9, 1010.5, 1007.8, 1023.0, 1020.6, 1030.1, 1032.4, 1008.0, 1021.7, 1022.4, 1015.4, 1011.3, 1020.8, 1024.4, 995.4, 1004.3, 1016.3, 1023.2, 1019.9, 1028.1, 1017.5, 1017.8, 1004.8, 1002.1, 1005.4, 1012.5, 1024.2, 1019.2, 1023.5, 1025.8, 980.3, 1024.1, 1023.9, 990.5, 1020.5, 1009.5, 1008.2, 1004.0, 1006.9, 1000.7, 1032.0, 1031.2, 1031.9, 1025.5, 1033.4, 1029.9, 1028.3, 1030.4, 1003.1, 1004.4, 1008.1, 1008.6, 1018.2, 987.0, 1011.1, 995.6, 1008.8, 1003.4, 1004.5, 1029.8, 1029.1, 1019.7, 1028.8, 1027.0, 1025.1, 997.1, 1005.1, 1000.9, 1009.7, 1018.3, 1018.4, 1031.5, 1028.0, 1031.8, 1024.7, 1023.6, 1020.9, 1000.2, 1027.3, 1017.9, 1031.6, 1034.3, 1026.3, 1024.5, 1029.3, 1008.4, 1022.1, 996.6, 1004.2, 1005.9, 1006.1, 1002.8, 1002.9, 989.7, 1000.8, 1028.4, 1009.6, 1027.5, 1024.8, 1025.4, 993.7, 1001.0, 1031.4, 998.4, 1025.0, 1026.0, 1025.6, 1026.9, 994.1, 1026.8, 994.4, 1023.7, 1005.6, 1004.6, 1001.2, 1005.0, 1001.6, 1007.2, 982.8, 1007.9, 1006.4, 995.5, 1003.6, 997.5, 1029.0, 1000.5, 1025.3, 1033.7, 1027.8, 1026.6, 999.3, 996.2, 998.5, 993.8, 1027.6, 1032.5, 1004.1, 1031.7, 1030.5, 1005.7, 994.5, 999.6, 1005.5, 1003.8, 1001.5, 1021.05, 1013.55, 1012.65, 1011.35, 1016.15, 1018.55, 1011.55, 1009.95, 1015.75, 1016.45, 1012.15, 1018.65, 1028.9, 973.4, 1003.5, 996.7, 1030.8, 1030.7, 1036.8, 1034.7, 1027.9, 985.5, 985.0, 990.1, 1002.3, 982.0, 1028.6, 985.4, 984.7, 1032.1, 1030.2, 1035.8, 1032.8, 980.6, 996.5, 994.2, 1029.7, 977.6, 1027.7, 1028.2, 998.6, 1030.3, 1029.5, 995.9, 1030.0, 1000.4, 981.0, 992.0, 1001.4, 1002.4, 1002.0, 1003.9, 1000.3, 997.0, 1034.1, 1028.5, 990.8, 995.0, 995.7, 1034.5, 1035.1, 1034.6, 1033.9, 1033.6, 1025.9, 1011.05, 1011.95, 1014.95, 1013.35, 1018.85, 1012.35, 1014.85, 1017.55, 1013.15, 1015.25, 1014.15, 1012.75, 1010.25, 1032.2, 1031.3, 1030.9, 1035.2, 997.7, 1033.2, 1034.0, 1031.0, 1033.1, 999.9, 996.0, 997.8, 997.2, 990.0, 993.1, 999.7, 990.4, 992.4, 1034.8, 1038.2, 1034.9, 1037.3, 1035.0, 1036.4, 1038.5, 1035.3, 1038.0, 1035.5, 1034.2, 1001.9, 1032.7, 1041.6, 992.6, 992.8, 997.4, 998.3, 992.5, 996.4, 1001.1, 991.1, 995.1, 994.3, 992.9, 989.5, 994.9, 996.8, 997.9, 999.4, 1038.8, 1040.2, 1033.8, 1036.0, 1035.7, 1039.2, 999.8, 1033.3, 1035.6, 1034.4, 994.0, 1001.3, 998.7, 998.8, 989.3, 1036.5, 1035.4, 1036.2, 1038.3, 998.0, 1036.1, 998.1, 996.3, 1000.0, 1035.9, 997.3, 995.2, 1033.5, 1037.0, 985.9, 1037.9, 1036.9, 996.1, 1037.7, 1037.2, 995.3, 1036.3, 1037.5, 1037.1, 1039.1, 1019.85, 1012.85, 1011.85, 1016.85, 1017.25, 1020.65, 1042.2, 1037.4, 1039.0, 993.9, 995.8, 991.2, 1033.0, 991.7, 991.4, 990.2, 990.7, 991.8, 989.6, 1039.8, 1038.1, 996.9, 994.8, 1039.3, 1038.7, 1010.05, 990.3, 988.2, 1018.45, 1011.75, 1012.25, 1012.55, 1016.65, 1013.65, 986.2, 971.7, 994.6, 977.2, 993.0, 983.0, 992.2, 986.0, 987.9, 991.6, 989.1, 982.4, 989.0, 985.1, 1037.6, 1016.35, 1015.85, 1017.85, 1007.05, 1014.65, 1016.25, 991.0, 1039.5, 993.6, 1040.0, 976.1, 985.8, 993.5, 1014.05, 1021.55, 984.1, 1014.25, 987.2, 994.7, 988.3, 990.6, 989.4, 986.8, 992.3, 1037.8, 984.9, 977.9, 1039.9, 1012.05, 1038.6, 984.8, 1013.85, 1039.4, 1011.65, 1017.15, 982.1, 978.6, 1039.6, 987.5, 988.5, 986.7, 979.6, 1016.75, 988.0, 982.9, 987.4, 985.6, 992.1, 988.7],\n",
            "    \"Year\": [2023],\n",
            "    \"Month\": [4, 5, 12, 9, 10, 1, 3, 8, 2, 7, 11, 6],\n",
            "    \"Day\": [13, 19, 2, 8, 18, 17, 9, 12, 7, 28, 21, 11, 5, 4, 27, 23, 29, 15, 22, 26, 25, 24, 16, 14, 20, 6, 3, 31, 1, 10, 30],\n",
            "}\n"
          ]
        }
      ]
    },
    {
      "cell_type": "code",
      "source": [
        "df1 = data.copy()"
      ],
      "metadata": {
        "id": "62eaklX4TGQt"
      },
      "execution_count": null,
      "outputs": []
    },
    {
      "cell_type": "code",
      "source": [
        "label_encoder = LabelEncoder()\n",
        "df1['Dep_Delay_Type'] = label_encoder.fit_transform(df1['Dep_Delay_Type'])"
      ],
      "metadata": {
        "id": "DtT1j8FJkQPD"
      },
      "execution_count": null,
      "outputs": []
    },
    {
      "cell_type": "code",
      "execution_count": null,
      "metadata": {
        "id": "CX4VNmIdTdrS"
      },
      "outputs": [],
      "source": [
        "# Separate the features (X) and the target (y)\n",
        "X = df1.drop(columns=['Dep_Delay', 'Dep_Delay_Tag', 'Dep_Delay_Type', 'Arr_Delay',\\\n",
        "                      'Arr_Delay_Type'])\n",
        "y = df1['Dep_Delay_Tag']\n",
        "\n",
        "# Split the data into a test subset (smaller portion) and a training subset (larger portion)\n",
        "X_train, X_test, y_train, y_test = train_test_split(X, y, test_size=0.2, random_state=42)"
      ]
    },
    {
      "cell_type": "code",
      "execution_count": null,
      "metadata": {
        "id": "7bf3rCUETdrS"
      },
      "outputs": [],
      "source": [
        "numerical_columns = X.select_dtypes(exclude = 'object').columns\n",
        "categorical_columns = X_train.select_dtypes(include = 'object').columns\n",
        "categorical_column_indices = [X_train.columns.get_loc(col) for col in categorical_columns]"
      ]
    },
    {
      "cell_type": "code",
      "execution_count": null,
      "metadata": {
        "id": "EnTcXA4JTdrT"
      },
      "outputs": [],
      "source": [
        "# Convert NaN values to strings in the specified categorical columns\n",
        "for col_index in categorical_column_indices:\n",
        "    X_train.iloc[:, col_index] = X_train.iloc[:, col_index].astype(str).fillna('NaN')\n",
        "    X_test.iloc[:, col_index] = X_test.iloc[:, col_index].astype(str).fillna('NaN')"
      ]
    },
    {
      "cell_type": "code",
      "source": [
        "# Initialize an empty dataframe to store results\n",
        "results_df = pd.DataFrame(columns=['Model', 'Classification_Report'])\n",
        "\n",
        "# Additional classifiers for models_with_categorical\n",
        "models_with_categorical = [\n",
        "    DecisionTreeClassifier(),\n",
        "    RandomForestClassifier(max_depth=10),\n",
        "    GradientBoostingClassifier(max_depth=10),\n",
        "    XGBClassifier(max_depth=10),\n",
        "    # SVC(),\n",
        "    CatBoostClassifier(cat_features=categorical_column_indices)\n",
        "]\n",
        "\n",
        "# Additional classifiers for models_without_categorical\n",
        "models_without_categorical = [\n",
        "    LogisticRegression(),\n",
        "    RidgeClassifier(),\n",
        "    Lasso(),\n",
        "    KNeighborsClassifier()\n",
        "]"
      ],
      "metadata": {
        "id": "_Pu5n6NOH4n-"
      },
      "execution_count": null,
      "outputs": []
    },
    {
      "cell_type": "code",
      "source": [
        "# for model in models_without_categorical:\n",
        "#     # Fit the model\n",
        "#     model.fit(X_train[numerical_columns].fillna(X[numerical_columns].mean()), y_train)\n",
        "\n",
        "#     # Predict on the test set\n",
        "#     if type(model).__name__=='Lasso':\n",
        "#         y_pred = model.predict(X_test[numerical_columns].fillna(X[numerical_columns].mean()))\n",
        "#         y_pred = (y_pred >= 0.5).astype(int)  # Round probabilities to 0 or 1\n",
        "#     else:\n",
        "#         y_pred = model.predict(X_test[numerical_columns].fillna(X[numerical_columns].mean()))\n",
        "\n",
        "#     # Generate classification report\n",
        "#     clf_report = classification_report(y_test, y_pred)\n",
        "#     print('Model:', type(model).__name__)\n",
        "#     print(clf_report)"
      ],
      "metadata": {
        "id": "8FW9vbdnTdrT"
      },
      "execution_count": null,
      "outputs": []
    },
    {
      "cell_type": "code",
      "source": [
        "# Encode input\n",
        "X_encoded = X.copy()\n",
        "for feature in categorical_columns:\n",
        "    label_encoder = LabelEncoder()\n",
        "    X_encoded[feature] = label_encoder.fit_transform(X_encoded[feature])\n",
        "\n",
        "X_train_encoded, X_test_encoded, y_train, y_test = train_test_split(X_encoded, y, test_size=0.2, random_state=42)"
      ],
      "metadata": {
        "id": "Wcu7pKZETdrT"
      },
      "execution_count": null,
      "outputs": []
    },
    {
      "cell_type": "code",
      "source": [
        "from imblearn.over_sampling import SMOTE, ADASYN\n",
        "\n",
        "smote = SMOTE(random_state=42)\n",
        "adasyn = ADASYN(random_state=42)\n",
        "\n",
        "# Apply SMOTE to the training data\n",
        "X_train_encoded, y_train = adasyn.fit_resample(X_train_encoded, y_train)"
      ],
      "metadata": {
        "id": "Q2Rz1ZNX-m6c"
      },
      "execution_count": null,
      "outputs": []
    },
    {
      "cell_type": "code",
      "source": [
        "y_train.value_counts()"
      ],
      "metadata": {
        "colab": {
          "base_uri": "https://localhost:8080/"
        },
        "id": "fevEjvw6_tmK",
        "outputId": "15998576-37ac-4f70-ed1d-07613db28a8b"
      },
      "execution_count": null,
      "outputs": [
        {
          "output_type": "execute_result",
          "data": {
            "text/plain": [
              "Dep_Delay_Tag\n",
              "1    253774\n",
              "0    247961\n",
              "Name: count, dtype: int64"
            ]
          },
          "metadata": {},
          "execution_count": 39
        }
      ]
    },
    {
      "cell_type": "code",
      "source": [
        "for model in models_with_categorical:\n",
        "    # Fit the model\n",
        "    model.fit(X_train_encoded, y_train)\n",
        "\n",
        "    # Predict on the test set\n",
        "    y_pred = model.predict(X_test_encoded)\n",
        "\n",
        "    # Generate classification report\n",
        "    classification_rep = classification_report(y_test, y_pred)\n",
        "\n",
        "    # Append results to the dataframe\n",
        "    print('Model:', type(model).__name__)\n",
        "    print(classification_rep)\n",
        "\n",
        "    # Make predictions on the training set\n",
        "    y_train_pred = model.predict(X_train_encoded)\n",
        "\n",
        "    # Print the classification report\n",
        "    print(\"Classification Report on Train Set:\")\n",
        "    print(classification_report(y_train, y_train_pred))"
      ],
      "metadata": {
        "colab": {
          "base_uri": "https://localhost:8080/",
          "height": 1000
        },
        "id": "scNE878G_d6L",
        "outputId": "abbb36ef-a234-44c4-a150-598638f5e77f"
      },
      "execution_count": null,
      "outputs": [
        {
          "output_type": "stream",
          "name": "stdout",
          "text": [
            "Model: DecisionTreeClassifier\n",
            "              precision    recall  f1-score   support\n",
            "\n",
            "           0       0.68      0.64      0.66     62245\n",
            "           1       0.46      0.51      0.48     37755\n",
            "\n",
            "    accuracy                           0.59    100000\n",
            "   macro avg       0.57      0.58      0.57    100000\n",
            "weighted avg       0.60      0.59      0.60    100000\n",
            "\n",
            "Classification Report on Train Set:\n",
            "              precision    recall  f1-score   support\n",
            "\n",
            "           0       1.00      1.00      1.00    247961\n",
            "           1       1.00      1.00      1.00    253774\n",
            "\n",
            "    accuracy                           1.00    501735\n",
            "   macro avg       1.00      1.00      1.00    501735\n",
            "weighted avg       1.00      1.00      1.00    501735\n",
            "\n",
            "Model: RandomForestClassifier\n",
            "              precision    recall  f1-score   support\n",
            "\n",
            "           0       0.73      0.71      0.72     62245\n",
            "           1       0.54      0.56      0.55     37755\n",
            "\n",
            "    accuracy                           0.65    100000\n",
            "   macro avg       0.63      0.63      0.63    100000\n",
            "weighted avg       0.65      0.65      0.65    100000\n",
            "\n",
            "Classification Report on Train Set:\n",
            "              precision    recall  f1-score   support\n",
            "\n",
            "           0       0.69      0.71      0.70    247961\n",
            "           1       0.71      0.69      0.70    253774\n",
            "\n",
            "    accuracy                           0.70    501735\n",
            "   macro avg       0.70      0.70      0.70    501735\n",
            "weighted avg       0.70      0.70      0.70    501735\n",
            "\n",
            "Model: GradientBoostingClassifier\n",
            "              precision    recall  f1-score   support\n",
            "\n",
            "           0       0.72      0.80      0.76     62245\n",
            "           1       0.60      0.50      0.54     37755\n",
            "\n",
            "    accuracy                           0.69    100000\n",
            "   macro avg       0.66      0.65      0.65    100000\n",
            "weighted avg       0.68      0.69      0.68    100000\n",
            "\n",
            "Classification Report on Train Set:\n",
            "              precision    recall  f1-score   support\n",
            "\n",
            "           0       0.76      0.84      0.80    247961\n",
            "           1       0.83      0.74      0.78    253774\n",
            "\n",
            "    accuracy                           0.79    501735\n",
            "   macro avg       0.79      0.79      0.79    501735\n",
            "weighted avg       0.79      0.79      0.79    501735\n",
            "\n",
            "Model: XGBClassifier\n",
            "              precision    recall  f1-score   support\n",
            "\n",
            "           0       0.72      0.80      0.76     62245\n",
            "           1       0.59      0.49      0.54     37755\n",
            "\n",
            "    accuracy                           0.68    100000\n",
            "   macro avg       0.66      0.64      0.65    100000\n",
            "weighted avg       0.67      0.68      0.67    100000\n",
            "\n",
            "Classification Report on Train Set:\n",
            "              precision    recall  f1-score   support\n",
            "\n",
            "           0       0.80      0.89      0.84    247961\n",
            "           1       0.88      0.79      0.83    253774\n",
            "\n",
            "    accuracy                           0.84    501735\n",
            "   macro avg       0.84      0.84      0.84    501735\n",
            "weighted avg       0.84      0.84      0.83    501735\n",
            "\n",
            "Learning rate set to 0.146567\n",
            "0:\tlearn: 0.6296319\ttotal: 1.27s\tremaining: 21m 5s\n",
            "1:\tlearn: 0.5924196\ttotal: 2.47s\tremaining: 20m 33s\n",
            "2:\tlearn: 0.5719073\ttotal: 3.67s\tremaining: 20m 21s\n",
            "3:\tlearn: 0.5585894\ttotal: 5.02s\tremaining: 20m 49s\n",
            "4:\tlearn: 0.5458698\ttotal: 6.35s\tremaining: 21m 4s\n",
            "5:\tlearn: 0.5392508\ttotal: 7.73s\tremaining: 21m 20s\n",
            "6:\tlearn: 0.5354122\ttotal: 9.61s\tremaining: 22m 42s\n",
            "7:\tlearn: 0.5315782\ttotal: 11.6s\tremaining: 23m 57s\n",
            "8:\tlearn: 0.5277862\ttotal: 13.2s\tremaining: 24m 16s\n",
            "9:\tlearn: 0.5235671\ttotal: 14.7s\tremaining: 24m 11s\n",
            "10:\tlearn: 0.5176360\ttotal: 16.1s\tremaining: 24m 6s\n",
            "11:\tlearn: 0.5161191\ttotal: 17.4s\tremaining: 23m 53s\n",
            "12:\tlearn: 0.5131300\ttotal: 18.9s\tremaining: 23m 54s\n",
            "13:\tlearn: 0.5118450\ttotal: 20.1s\tremaining: 23m 38s\n",
            "14:\tlearn: 0.5106787\ttotal: 21.6s\tremaining: 23m 41s\n",
            "15:\tlearn: 0.5096002\ttotal: 23.6s\tremaining: 24m 8s\n",
            "16:\tlearn: 0.5087973\ttotal: 25.8s\tremaining: 24m 50s\n",
            "17:\tlearn: 0.5068870\ttotal: 27.5s\tremaining: 24m 59s\n",
            "18:\tlearn: 0.5048723\ttotal: 28.9s\tremaining: 24m 54s\n",
            "19:\tlearn: 0.5043973\ttotal: 30.3s\tremaining: 24m 47s\n",
            "20:\tlearn: 0.5040179\ttotal: 31.7s\tremaining: 24m 35s\n",
            "21:\tlearn: 0.5035045\ttotal: 33s\tremaining: 24m 25s\n",
            "22:\tlearn: 0.5030426\ttotal: 34.1s\tremaining: 24m 8s\n",
            "23:\tlearn: 0.5025874\ttotal: 35.4s\tremaining: 23m 58s\n",
            "24:\tlearn: 0.5007728\ttotal: 36.9s\tremaining: 23m 57s\n",
            "25:\tlearn: 0.4986914\ttotal: 39s\tremaining: 24m 20s\n",
            "26:\tlearn: 0.4969159\ttotal: 40.9s\tremaining: 24m 35s\n",
            "27:\tlearn: 0.4965793\ttotal: 42.2s\tremaining: 24m 23s\n",
            "28:\tlearn: 0.4957616\ttotal: 43.3s\tremaining: 24m 8s\n",
            "29:\tlearn: 0.4953006\ttotal: 44.6s\tremaining: 24m 1s\n",
            "30:\tlearn: 0.4950073\ttotal: 45.7s\tremaining: 23m 49s\n",
            "31:\tlearn: 0.4946844\ttotal: 47.1s\tremaining: 23m 43s\n",
            "32:\tlearn: 0.4938859\ttotal: 48.2s\tremaining: 23m 33s\n",
            "33:\tlearn: 0.4936508\ttotal: 49.4s\tremaining: 23m 24s\n",
            "34:\tlearn: 0.4931863\ttotal: 50.7s\tremaining: 23m 18s\n",
            "35:\tlearn: 0.4928921\ttotal: 52.9s\tremaining: 23m 36s\n",
            "36:\tlearn: 0.4927081\ttotal: 55.1s\tremaining: 23m 54s\n",
            "37:\tlearn: 0.4924002\ttotal: 56.4s\tremaining: 23m 48s\n",
            "38:\tlearn: 0.4921775\ttotal: 57.8s\tremaining: 23m 44s\n",
            "39:\tlearn: 0.4919006\ttotal: 59.1s\tremaining: 23m 37s\n",
            "40:\tlearn: 0.4916140\ttotal: 1m\tremaining: 23m 29s\n",
            "41:\tlearn: 0.4913881\ttotal: 1m 1s\tremaining: 23m 20s\n",
            "42:\tlearn: 0.4912130\ttotal: 1m 2s\tremaining: 23m 15s\n",
            "43:\tlearn: 0.4905886\ttotal: 1m 3s\tremaining: 23m 6s\n",
            "44:\tlearn: 0.4902843\ttotal: 1m 4s\tremaining: 22m 57s\n",
            "45:\tlearn: 0.4900635\ttotal: 1m 6s\tremaining: 23m 8s\n",
            "46:\tlearn: 0.4898892\ttotal: 1m 8s\tremaining: 23m 17s\n",
            "47:\tlearn: 0.4897617\ttotal: 1m 10s\tremaining: 23m 13s\n",
            "48:\tlearn: 0.4895589\ttotal: 1m 11s\tremaining: 23m 6s\n",
            "49:\tlearn: 0.4893815\ttotal: 1m 12s\tremaining: 23m 2s\n",
            "50:\tlearn: 0.4892601\ttotal: 1m 14s\tremaining: 22m 59s\n",
            "51:\tlearn: 0.4891177\ttotal: 1m 15s\tremaining: 22m 55s\n",
            "52:\tlearn: 0.4889975\ttotal: 1m 16s\tremaining: 22m 48s\n",
            "53:\tlearn: 0.4886545\ttotal: 1m 17s\tremaining: 22m 46s\n",
            "54:\tlearn: 0.4881750\ttotal: 1m 19s\tremaining: 22m 41s\n",
            "55:\tlearn: 0.4880351\ttotal: 1m 21s\tremaining: 22m 50s\n",
            "56:\tlearn: 0.4878376\ttotal: 1m 23s\tremaining: 22m 53s\n",
            "57:\tlearn: 0.4877684\ttotal: 1m 24s\tremaining: 22m 58s\n",
            "58:\tlearn: 0.4876655\ttotal: 1m 26s\tremaining: 22m 53s\n",
            "59:\tlearn: 0.4875796\ttotal: 1m 27s\tremaining: 22m 47s\n",
            "60:\tlearn: 0.4874401\ttotal: 1m 28s\tremaining: 22m 41s\n",
            "61:\tlearn: 0.4873351\ttotal: 1m 29s\tremaining: 22m 37s\n",
            "62:\tlearn: 0.4862729\ttotal: 1m 31s\tremaining: 22m 35s\n",
            "63:\tlearn: 0.4861201\ttotal: 1m 32s\tremaining: 22m 34s\n",
            "64:\tlearn: 0.4859691\ttotal: 1m 33s\tremaining: 22m 31s\n",
            "65:\tlearn: 0.4858792\ttotal: 1m 35s\tremaining: 22m 36s\n",
            "66:\tlearn: 0.4858090\ttotal: 1m 37s\tremaining: 22m 42s\n",
            "67:\tlearn: 0.4857331\ttotal: 1m 39s\tremaining: 22m 39s\n",
            "68:\tlearn: 0.4856580\ttotal: 1m 40s\tremaining: 22m 37s\n",
            "69:\tlearn: 0.4855650\ttotal: 1m 41s\tremaining: 22m 34s\n",
            "70:\tlearn: 0.4854375\ttotal: 1m 43s\tremaining: 22m 31s\n",
            "71:\tlearn: 0.4853081\ttotal: 1m 44s\tremaining: 22m 27s\n",
            "72:\tlearn: 0.4850770\ttotal: 1m 45s\tremaining: 22m 24s\n",
            "73:\tlearn: 0.4849603\ttotal: 1m 47s\tremaining: 22m 20s\n",
            "74:\tlearn: 0.4848865\ttotal: 1m 48s\tremaining: 22m 18s\n",
            "75:\tlearn: 0.4847532\ttotal: 1m 50s\tremaining: 22m 21s\n",
            "76:\tlearn: 0.4845983\ttotal: 1m 52s\tremaining: 22m 24s\n",
            "77:\tlearn: 0.4844789\ttotal: 1m 53s\tremaining: 22m 21s\n",
            "78:\tlearn: 0.4842207\ttotal: 1m 54s\tremaining: 22m 19s\n",
            "79:\tlearn: 0.4840970\ttotal: 1m 56s\tremaining: 22m 15s\n",
            "80:\tlearn: 0.4839963\ttotal: 1m 57s\tremaining: 22m 14s\n",
            "81:\tlearn: 0.4839138\ttotal: 1m 58s\tremaining: 22m 10s\n",
            "82:\tlearn: 0.4838204\ttotal: 2m\tremaining: 22m 8s\n",
            "83:\tlearn: 0.4836472\ttotal: 2m 1s\tremaining: 22m 4s\n",
            "84:\tlearn: 0.4835676\ttotal: 2m 2s\tremaining: 22m\n",
            "85:\tlearn: 0.4833472\ttotal: 2m 4s\tremaining: 22m 8s\n",
            "86:\tlearn: 0.4832620\ttotal: 2m 6s\tremaining: 22m 11s\n",
            "87:\tlearn: 0.4832131\ttotal: 2m 8s\tremaining: 22m 9s\n",
            "88:\tlearn: 0.4830991\ttotal: 2m 9s\tremaining: 22m 9s\n",
            "89:\tlearn: 0.4829220\ttotal: 2m 11s\tremaining: 22m 7s\n",
            "90:\tlearn: 0.4828333\ttotal: 2m 12s\tremaining: 22m 3s\n",
            "91:\tlearn: 0.4827740\ttotal: 2m 13s\tremaining: 22m\n",
            "92:\tlearn: 0.4827291\ttotal: 2m 14s\tremaining: 21m 56s\n",
            "93:\tlearn: 0.4826334\ttotal: 2m 16s\tremaining: 21m 52s\n",
            "94:\tlearn: 0.4825294\ttotal: 2m 17s\tremaining: 21m 51s\n",
            "95:\tlearn: 0.4824223\ttotal: 2m 19s\tremaining: 21m 57s\n",
            "96:\tlearn: 0.4820785\ttotal: 2m 22s\tremaining: 22m 2s\n",
            "97:\tlearn: 0.4819657\ttotal: 2m 23s\tremaining: 21m 59s\n",
            "98:\tlearn: 0.4818479\ttotal: 2m 24s\tremaining: 21m 55s\n",
            "99:\tlearn: 0.4817266\ttotal: 2m 25s\tremaining: 21m 52s\n",
            "100:\tlearn: 0.4816194\ttotal: 2m 27s\tremaining: 21m 48s\n",
            "101:\tlearn: 0.4815514\ttotal: 2m 28s\tremaining: 21m 47s\n",
            "102:\tlearn: 0.4813546\ttotal: 2m 29s\tremaining: 21m 43s\n",
            "103:\tlearn: 0.4812820\ttotal: 2m 31s\tremaining: 21m 42s\n",
            "104:\tlearn: 0.4807997\ttotal: 2m 33s\tremaining: 21m 45s\n",
            "105:\tlearn: 0.4807110\ttotal: 2m 35s\tremaining: 21m 47s\n",
            "106:\tlearn: 0.4806493\ttotal: 2m 36s\tremaining: 21m 47s\n",
            "107:\tlearn: 0.4805705\ttotal: 2m 37s\tremaining: 21m 43s\n",
            "108:\tlearn: 0.4804837\ttotal: 2m 39s\tremaining: 21m 40s\n",
            "109:\tlearn: 0.4804019\ttotal: 2m 40s\tremaining: 21m 38s\n",
            "110:\tlearn: 0.4803093\ttotal: 2m 41s\tremaining: 21m 34s\n",
            "111:\tlearn: 0.4802442\ttotal: 2m 42s\tremaining: 21m 32s\n",
            "112:\tlearn: 0.4801544\ttotal: 2m 44s\tremaining: 21m 29s\n",
            "113:\tlearn: 0.4800894\ttotal: 2m 45s\tremaining: 21m 26s\n",
            "114:\tlearn: 0.4800018\ttotal: 2m 47s\tremaining: 21m 30s\n",
            "115:\tlearn: 0.4796078\ttotal: 2m 50s\tremaining: 21m 39s\n",
            "116:\tlearn: 0.4795546\ttotal: 2m 51s\tremaining: 21m 35s\n",
            "117:\tlearn: 0.4794702\ttotal: 2m 52s\tremaining: 21m 32s\n",
            "118:\tlearn: 0.4794246\ttotal: 2m 54s\tremaining: 21m 29s\n",
            "119:\tlearn: 0.4793785\ttotal: 2m 55s\tremaining: 21m 27s\n",
            "120:\tlearn: 0.4792988\ttotal: 2m 56s\tremaining: 21m 23s\n",
            "121:\tlearn: 0.4791176\ttotal: 2m 58s\tremaining: 21m 22s\n",
            "122:\tlearn: 0.4790338\ttotal: 2m 59s\tremaining: 21m 22s\n",
            "123:\tlearn: 0.4788618\ttotal: 3m 1s\tremaining: 21m 25s\n",
            "124:\tlearn: 0.4787398\ttotal: 3m 4s\tremaining: 21m 29s\n",
            "125:\tlearn: 0.4786558\ttotal: 3m 5s\tremaining: 21m 27s\n",
            "126:\tlearn: 0.4786049\ttotal: 3m 6s\tremaining: 21m 24s\n",
            "127:\tlearn: 0.4785286\ttotal: 3m 8s\tremaining: 21m 22s\n",
            "128:\tlearn: 0.4784473\ttotal: 3m 9s\tremaining: 21m 21s\n",
            "129:\tlearn: 0.4783967\ttotal: 3m 10s\tremaining: 21m 16s\n",
            "130:\tlearn: 0.4783137\ttotal: 3m 12s\tremaining: 21m 13s\n",
            "131:\tlearn: 0.4782478\ttotal: 3m 13s\tremaining: 21m 10s\n",
            "132:\tlearn: 0.4781171\ttotal: 3m 14s\tremaining: 21m 9s\n",
            "133:\tlearn: 0.4780636\ttotal: 3m 17s\tremaining: 21m 13s\n",
            "134:\tlearn: 0.4780001\ttotal: 3m 19s\tremaining: 21m 15s\n",
            "135:\tlearn: 0.4779463\ttotal: 3m 20s\tremaining: 21m 14s\n",
            "136:\tlearn: 0.4778653\ttotal: 3m 21s\tremaining: 21m 11s\n",
            "137:\tlearn: 0.4778218\ttotal: 3m 23s\tremaining: 21m 12s\n",
            "138:\tlearn: 0.4777312\ttotal: 3m 24s\tremaining: 21m 8s\n",
            "139:\tlearn: 0.4776697\ttotal: 3m 26s\tremaining: 21m 6s\n",
            "140:\tlearn: 0.4776215\ttotal: 3m 27s\tremaining: 21m 6s\n",
            "141:\tlearn: 0.4775476\ttotal: 3m 29s\tremaining: 21m 6s\n",
            "142:\tlearn: 0.4774950\ttotal: 3m 31s\tremaining: 21m 8s\n",
            "143:\tlearn: 0.4774289\ttotal: 3m 33s\tremaining: 21m 9s\n",
            "144:\tlearn: 0.4773361\ttotal: 3m 34s\tremaining: 21m 7s\n",
            "145:\tlearn: 0.4772534\ttotal: 3m 36s\tremaining: 21m 4s\n",
            "146:\tlearn: 0.4771206\ttotal: 3m 37s\tremaining: 21m 1s\n",
            "147:\tlearn: 0.4770604\ttotal: 3m 38s\tremaining: 20m 57s\n",
            "148:\tlearn: 0.4769735\ttotal: 3m 39s\tremaining: 20m 55s\n",
            "149:\tlearn: 0.4768961\ttotal: 3m 41s\tremaining: 20m 53s\n",
            "150:\tlearn: 0.4768521\ttotal: 3m 42s\tremaining: 20m 51s\n",
            "151:\tlearn: 0.4767623\ttotal: 3m 43s\tremaining: 20m 49s\n",
            "152:\tlearn: 0.4767001\ttotal: 3m 45s\tremaining: 20m 50s\n",
            "153:\tlearn: 0.4766286\ttotal: 3m 47s\tremaining: 20m 52s\n",
            "154:\tlearn: 0.4765880\ttotal: 3m 49s\tremaining: 20m 49s\n",
            "155:\tlearn: 0.4765003\ttotal: 3m 50s\tremaining: 20m 47s\n",
            "156:\tlearn: 0.4764279\ttotal: 3m 51s\tremaining: 20m 44s\n",
            "157:\tlearn: 0.4763649\ttotal: 3m 53s\tremaining: 20m 42s\n",
            "158:\tlearn: 0.4763260\ttotal: 3m 54s\tremaining: 20m 39s\n",
            "159:\tlearn: 0.4762360\ttotal: 3m 55s\tremaining: 20m 37s\n",
            "160:\tlearn: 0.4762125\ttotal: 3m 57s\tremaining: 20m 36s\n",
            "161:\tlearn: 0.4761630\ttotal: 3m 59s\tremaining: 20m 39s\n",
            "162:\tlearn: 0.4760489\ttotal: 4m 1s\tremaining: 20m 40s\n",
            "163:\tlearn: 0.4759849\ttotal: 4m 3s\tremaining: 20m 39s\n",
            "164:\tlearn: 0.4759239\ttotal: 4m 4s\tremaining: 20m 36s\n",
            "165:\tlearn: 0.4758597\ttotal: 4m 5s\tremaining: 20m 33s\n",
            "166:\tlearn: 0.4758196\ttotal: 4m 6s\tremaining: 20m 31s\n",
            "167:\tlearn: 0.4757531\ttotal: 4m 8s\tremaining: 20m 29s\n",
            "168:\tlearn: 0.4757059\ttotal: 4m 9s\tremaining: 20m 26s\n",
            "169:\tlearn: 0.4756546\ttotal: 4m 10s\tremaining: 20m 24s\n",
            "170:\tlearn: 0.4755793\ttotal: 4m 11s\tremaining: 20m 21s\n",
            "171:\tlearn: 0.4755361\ttotal: 4m 13s\tremaining: 20m 21s\n",
            "172:\tlearn: 0.4754758\ttotal: 4m 16s\tremaining: 20m 24s\n",
            "173:\tlearn: 0.4754095\ttotal: 4m 17s\tremaining: 20m 23s\n",
            "174:\tlearn: 0.4753512\ttotal: 4m 19s\tremaining: 20m 21s\n",
            "175:\tlearn: 0.4753223\ttotal: 4m 20s\tremaining: 20m 20s\n",
            "176:\tlearn: 0.4752619\ttotal: 4m 22s\tremaining: 20m 18s\n",
            "177:\tlearn: 0.4752137\ttotal: 4m 23s\tremaining: 20m 16s\n",
            "178:\tlearn: 0.4751557\ttotal: 4m 24s\tremaining: 20m 13s\n",
            "179:\tlearn: 0.4751017\ttotal: 4m 25s\tremaining: 20m 11s\n",
            "180:\tlearn: 0.4750500\ttotal: 4m 27s\tremaining: 20m 10s\n",
            "181:\tlearn: 0.4748561\ttotal: 4m 31s\tremaining: 20m 18s\n",
            "182:\tlearn: 0.4748038\ttotal: 4m 32s\tremaining: 20m 15s\n",
            "183:\tlearn: 0.4747552\ttotal: 4m 33s\tremaining: 20m 13s\n",
            "184:\tlearn: 0.4747171\ttotal: 4m 34s\tremaining: 20m 11s\n",
            "185:\tlearn: 0.4746309\ttotal: 4m 36s\tremaining: 20m 8s\n",
            "186:\tlearn: 0.4745909\ttotal: 4m 37s\tremaining: 20m 6s\n",
            "187:\tlearn: 0.4745538\ttotal: 4m 38s\tremaining: 20m 3s\n",
            "188:\tlearn: 0.4744622\ttotal: 4m 39s\tremaining: 20m\n",
            "189:\tlearn: 0.4744199\ttotal: 4m 41s\tremaining: 20m\n",
            "190:\tlearn: 0.4743295\ttotal: 4m 43s\tremaining: 20m\n",
            "191:\tlearn: 0.4742661\ttotal: 4m 45s\tremaining: 20m 1s\n",
            "192:\tlearn: 0.4742207\ttotal: 4m 46s\tremaining: 19m 59s\n",
            "193:\tlearn: 0.4741675\ttotal: 4m 48s\tremaining: 19m 57s\n",
            "194:\tlearn: 0.4741322\ttotal: 4m 49s\tremaining: 19m 54s\n",
            "195:\tlearn: 0.4740996\ttotal: 4m 50s\tremaining: 19m 52s\n",
            "196:\tlearn: 0.4740851\ttotal: 4m 52s\tremaining: 19m 52s\n",
            "197:\tlearn: 0.4740523\ttotal: 4m 53s\tremaining: 19m 50s\n",
            "198:\tlearn: 0.4740091\ttotal: 4m 55s\tremaining: 19m 47s\n",
            "199:\tlearn: 0.4739710\ttotal: 4m 57s\tremaining: 19m 48s\n",
            "200:\tlearn: 0.4739441\ttotal: 4m 59s\tremaining: 19m 49s\n",
            "201:\tlearn: 0.4738797\ttotal: 5m\tremaining: 19m 48s\n",
            "202:\tlearn: 0.4738134\ttotal: 5m 2s\tremaining: 19m 46s\n",
            "203:\tlearn: 0.4737540\ttotal: 5m 3s\tremaining: 19m 43s\n",
            "204:\tlearn: 0.4737157\ttotal: 5m 4s\tremaining: 19m 41s\n",
            "205:\tlearn: 0.4736725\ttotal: 5m 5s\tremaining: 19m 38s\n",
            "206:\tlearn: 0.4736367\ttotal: 5m 7s\tremaining: 19m 36s\n",
            "207:\tlearn: 0.4735660\ttotal: 5m 8s\tremaining: 19m 33s\n",
            "208:\tlearn: 0.4735367\ttotal: 5m 9s\tremaining: 19m 30s\n",
            "209:\tlearn: 0.4734880\ttotal: 5m 11s\tremaining: 19m 30s\n",
            "210:\tlearn: 0.4734666\ttotal: 5m 13s\tremaining: 19m 31s\n",
            "211:\tlearn: 0.4734204\ttotal: 5m 15s\tremaining: 19m 31s\n",
            "212:\tlearn: 0.4733815\ttotal: 5m 16s\tremaining: 19m 29s\n",
            "213:\tlearn: 0.4733276\ttotal: 5m 17s\tremaining: 19m 27s\n",
            "214:\tlearn: 0.4732840\ttotal: 5m 19s\tremaining: 19m 25s\n",
            "215:\tlearn: 0.4732359\ttotal: 5m 20s\tremaining: 19m 22s\n",
            "216:\tlearn: 0.4731844\ttotal: 5m 21s\tremaining: 19m 20s\n",
            "217:\tlearn: 0.4731501\ttotal: 5m 22s\tremaining: 19m 18s\n",
            "218:\tlearn: 0.4731128\ttotal: 5m 24s\tremaining: 19m 15s\n",
            "219:\tlearn: 0.4730745\ttotal: 5m 25s\tremaining: 19m 15s\n",
            "220:\tlearn: 0.4730513\ttotal: 5m 28s\tremaining: 19m 16s\n",
            "221:\tlearn: 0.4730271\ttotal: 5m 29s\tremaining: 19m 15s\n",
            "222:\tlearn: 0.4729799\ttotal: 5m 30s\tremaining: 19m 13s\n",
            "223:\tlearn: 0.4729586\ttotal: 5m 32s\tremaining: 19m 10s\n",
            "224:\tlearn: 0.4729162\ttotal: 5m 33s\tremaining: 19m 8s\n",
            "225:\tlearn: 0.4728588\ttotal: 5m 34s\tremaining: 19m 6s\n",
            "226:\tlearn: 0.4727938\ttotal: 5m 35s\tremaining: 19m 4s\n",
            "227:\tlearn: 0.4727433\ttotal: 5m 37s\tremaining: 19m 1s\n",
            "228:\tlearn: 0.4726912\ttotal: 5m 38s\tremaining: 18m 58s\n",
            "229:\tlearn: 0.4726553\ttotal: 5m 39s\tremaining: 18m 57s\n",
            "230:\tlearn: 0.4726234\ttotal: 5m 42s\tremaining: 18m 58s\n",
            "231:\tlearn: 0.4725835\ttotal: 5m 44s\tremaining: 18m 58s\n",
            "232:\tlearn: 0.4725625\ttotal: 5m 45s\tremaining: 18m 56s\n",
            "233:\tlearn: 0.4725177\ttotal: 5m 46s\tremaining: 18m 53s\n",
            "234:\tlearn: 0.4724836\ttotal: 5m 47s\tremaining: 18m 51s\n",
            "235:\tlearn: 0.4724574\ttotal: 5m 48s\tremaining: 18m 49s\n"
          ]
        },
        {
          "output_type": "error",
          "ename": "KeyboardInterrupt",
          "evalue": "",
          "traceback": [
            "\u001b[0;31m---------------------------------------------------------------------------\u001b[0m",
            "\u001b[0;31mKeyboardInterrupt\u001b[0m                         Traceback (most recent call last)",
            "\u001b[0;32m<ipython-input-40-a6680d1830e1>\u001b[0m in \u001b[0;36m<cell line: 1>\u001b[0;34m()\u001b[0m\n\u001b[1;32m      1\u001b[0m \u001b[0;32mfor\u001b[0m \u001b[0mmodel\u001b[0m \u001b[0;32min\u001b[0m \u001b[0mmodels_with_categorical\u001b[0m\u001b[0;34m:\u001b[0m\u001b[0;34m\u001b[0m\u001b[0;34m\u001b[0m\u001b[0m\n\u001b[1;32m      2\u001b[0m     \u001b[0;31m# Fit the model\u001b[0m\u001b[0;34m\u001b[0m\u001b[0;34m\u001b[0m\u001b[0m\n\u001b[0;32m----> 3\u001b[0;31m     \u001b[0mmodel\u001b[0m\u001b[0;34m.\u001b[0m\u001b[0mfit\u001b[0m\u001b[0;34m(\u001b[0m\u001b[0mX_train_encoded\u001b[0m\u001b[0;34m,\u001b[0m \u001b[0my_train\u001b[0m\u001b[0;34m)\u001b[0m\u001b[0;34m\u001b[0m\u001b[0;34m\u001b[0m\u001b[0m\n\u001b[0m\u001b[1;32m      4\u001b[0m \u001b[0;34m\u001b[0m\u001b[0m\n\u001b[1;32m      5\u001b[0m     \u001b[0;31m# Predict on the test set\u001b[0m\u001b[0;34m\u001b[0m\u001b[0;34m\u001b[0m\u001b[0m\n",
            "\u001b[0;32m/usr/local/lib/python3.10/dist-packages/catboost/core.py\u001b[0m in \u001b[0;36mfit\u001b[0;34m(self, X, y, cat_features, text_features, embedding_features, sample_weight, baseline, use_best_model, eval_set, verbose, logging_level, plot, plot_file, column_description, verbose_eval, metric_period, silent, early_stopping_rounds, save_snapshot, snapshot_file, snapshot_interval, init_model, callbacks, log_cout, log_cerr)\u001b[0m\n\u001b[1;32m   5218\u001b[0m             \u001b[0mCatBoostClassifier\u001b[0m\u001b[0;34m.\u001b[0m\u001b[0m_check_is_compatible_loss\u001b[0m\u001b[0;34m(\u001b[0m\u001b[0mparams\u001b[0m\u001b[0;34m[\u001b[0m\u001b[0;34m'loss_function'\u001b[0m\u001b[0;34m]\u001b[0m\u001b[0;34m)\u001b[0m\u001b[0;34m\u001b[0m\u001b[0;34m\u001b[0m\u001b[0m\n\u001b[1;32m   5219\u001b[0m \u001b[0;34m\u001b[0m\u001b[0m\n\u001b[0;32m-> 5220\u001b[0;31m         self._fit(X, y, cat_features, text_features, embedding_features, None, sample_weight, None, None, None, None, baseline, use_best_model,\n\u001b[0m\u001b[1;32m   5221\u001b[0m                   \u001b[0meval_set\u001b[0m\u001b[0;34m,\u001b[0m \u001b[0mverbose\u001b[0m\u001b[0;34m,\u001b[0m \u001b[0mlogging_level\u001b[0m\u001b[0;34m,\u001b[0m \u001b[0mplot\u001b[0m\u001b[0;34m,\u001b[0m \u001b[0mplot_file\u001b[0m\u001b[0;34m,\u001b[0m \u001b[0mcolumn_description\u001b[0m\u001b[0;34m,\u001b[0m \u001b[0mverbose_eval\u001b[0m\u001b[0;34m,\u001b[0m \u001b[0mmetric_period\u001b[0m\u001b[0;34m,\u001b[0m\u001b[0;34m\u001b[0m\u001b[0;34m\u001b[0m\u001b[0m\n\u001b[1;32m   5222\u001b[0m                   silent, early_stopping_rounds, save_snapshot, snapshot_file, snapshot_interval, init_model, callbacks, log_cout, log_cerr)\n",
            "\u001b[0;32m/usr/local/lib/python3.10/dist-packages/catboost/core.py\u001b[0m in \u001b[0;36m_fit\u001b[0;34m(self, X, y, cat_features, text_features, embedding_features, pairs, sample_weight, group_id, group_weight, subgroup_id, pairs_weight, baseline, use_best_model, eval_set, verbose, logging_level, plot, plot_file, column_description, verbose_eval, metric_period, silent, early_stopping_rounds, save_snapshot, snapshot_file, snapshot_interval, init_model, callbacks, log_cout, log_cerr)\u001b[0m\n\u001b[1;32m   2398\u001b[0m \u001b[0;34m\u001b[0m\u001b[0m\n\u001b[1;32m   2399\u001b[0m             \u001b[0;32mwith\u001b[0m \u001b[0mplot_wrapper\u001b[0m\u001b[0;34m(\u001b[0m\u001b[0mplot\u001b[0m\u001b[0;34m,\u001b[0m \u001b[0mplot_file\u001b[0m\u001b[0;34m,\u001b[0m \u001b[0;34m'Training plots'\u001b[0m\u001b[0;34m,\u001b[0m \u001b[0;34m[\u001b[0m\u001b[0m_get_train_dir\u001b[0m\u001b[0;34m(\u001b[0m\u001b[0mself\u001b[0m\u001b[0;34m.\u001b[0m\u001b[0mget_params\u001b[0m\u001b[0;34m(\u001b[0m\u001b[0;34m)\u001b[0m\u001b[0;34m)\u001b[0m\u001b[0;34m]\u001b[0m\u001b[0;34m)\u001b[0m\u001b[0;34m:\u001b[0m\u001b[0;34m\u001b[0m\u001b[0;34m\u001b[0m\u001b[0m\n\u001b[0;32m-> 2400\u001b[0;31m                 self._train(\n\u001b[0m\u001b[1;32m   2401\u001b[0m                     \u001b[0mtrain_pool\u001b[0m\u001b[0;34m,\u001b[0m\u001b[0;34m\u001b[0m\u001b[0;34m\u001b[0m\u001b[0m\n\u001b[1;32m   2402\u001b[0m                     \u001b[0mtrain_params\u001b[0m\u001b[0;34m[\u001b[0m\u001b[0;34m\"eval_sets\"\u001b[0m\u001b[0;34m]\u001b[0m\u001b[0;34m,\u001b[0m\u001b[0;34m\u001b[0m\u001b[0;34m\u001b[0m\u001b[0m\n",
            "\u001b[0;32m/usr/local/lib/python3.10/dist-packages/catboost/core.py\u001b[0m in \u001b[0;36m_train\u001b[0;34m(self, train_pool, test_pool, params, allow_clear_pool, init_model)\u001b[0m\n\u001b[1;32m   1778\u001b[0m \u001b[0;34m\u001b[0m\u001b[0m\n\u001b[1;32m   1779\u001b[0m     \u001b[0;32mdef\u001b[0m \u001b[0m_train\u001b[0m\u001b[0;34m(\u001b[0m\u001b[0mself\u001b[0m\u001b[0;34m,\u001b[0m \u001b[0mtrain_pool\u001b[0m\u001b[0;34m,\u001b[0m \u001b[0mtest_pool\u001b[0m\u001b[0;34m,\u001b[0m \u001b[0mparams\u001b[0m\u001b[0;34m,\u001b[0m \u001b[0mallow_clear_pool\u001b[0m\u001b[0;34m,\u001b[0m \u001b[0minit_model\u001b[0m\u001b[0;34m)\u001b[0m\u001b[0;34m:\u001b[0m\u001b[0;34m\u001b[0m\u001b[0;34m\u001b[0m\u001b[0m\n\u001b[0;32m-> 1780\u001b[0;31m         \u001b[0mself\u001b[0m\u001b[0;34m.\u001b[0m\u001b[0m_object\u001b[0m\u001b[0;34m.\u001b[0m\u001b[0m_train\u001b[0m\u001b[0;34m(\u001b[0m\u001b[0mtrain_pool\u001b[0m\u001b[0;34m,\u001b[0m \u001b[0mtest_pool\u001b[0m\u001b[0;34m,\u001b[0m \u001b[0mparams\u001b[0m\u001b[0;34m,\u001b[0m \u001b[0mallow_clear_pool\u001b[0m\u001b[0;34m,\u001b[0m \u001b[0minit_model\u001b[0m\u001b[0;34m.\u001b[0m\u001b[0m_object\u001b[0m \u001b[0;32mif\u001b[0m \u001b[0minit_model\u001b[0m \u001b[0;32melse\u001b[0m \u001b[0;32mNone\u001b[0m\u001b[0;34m)\u001b[0m\u001b[0;34m\u001b[0m\u001b[0;34m\u001b[0m\u001b[0m\n\u001b[0m\u001b[1;32m   1781\u001b[0m         \u001b[0mself\u001b[0m\u001b[0;34m.\u001b[0m\u001b[0m_set_trained_model_attributes\u001b[0m\u001b[0;34m(\u001b[0m\u001b[0;34m)\u001b[0m\u001b[0;34m\u001b[0m\u001b[0;34m\u001b[0m\u001b[0m\n\u001b[1;32m   1782\u001b[0m \u001b[0;34m\u001b[0m\u001b[0m\n",
            "\u001b[0;32m_catboost.pyx\u001b[0m in \u001b[0;36m_catboost._CatBoost._train\u001b[0;34m()\u001b[0m\n",
            "\u001b[0;32m_catboost.pyx\u001b[0m in \u001b[0;36m_catboost._CatBoost._train\u001b[0;34m()\u001b[0m\n",
            "\u001b[0;31mKeyboardInterrupt\u001b[0m: "
          ]
        }
      ]
    },
    {
      "cell_type": "code",
      "source": [],
      "metadata": {
        "id": "I6oIr9ZtFHQF"
      },
      "execution_count": null,
      "outputs": []
    }
  ]
}